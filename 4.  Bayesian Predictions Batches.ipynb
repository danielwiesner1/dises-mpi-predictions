{
 "cells": [
  {
   "cell_type": "markdown",
   "id": "c385c605-f254-47c8-8726-6db0b69b40b2",
   "metadata": {},
   "source": [
    "# Bayesian MBG Predictions (batched)"
   ]
  },
  {
   "cell_type": "code",
   "execution_count": 16,
   "id": "1e6cd79a-32fd-4894-8dd7-c583e8a11e04",
   "metadata": {
    "tags": []
   },
   "outputs": [],
   "source": [
    "import pymc as pm\n",
    "#import aesara.tensor as at\n",
    "#from aesara.graph.basic import Constant\n",
    "import os\n",
    "import pickle\n",
    "import numpy as np\n",
    "import arviz as az\n",
    "import pandas as pd\n",
    "\n",
    "\n",
    "import matplotlib.pyplot as plt\n",
    "from mpl_toolkits.mplot3d import Axes3D\n",
    "\n",
    "from sklearn.preprocessing import StandardScaler\n",
    "import pytensor.tensor as at\n",
    "\n",
    "import uuid\n",
    "\n",
    "import pytensor.tensor as at"
   ]
  },
  {
   "cell_type": "markdown",
   "id": "0d89a092",
   "metadata": {
    "tags": []
   },
   "source": [
    "## Geostatistical Modeling"
   ]
  },
  {
   "cell_type": "markdown",
   "id": "0fb9b3df-09bf-413b-83ef-368d2a7019a1",
   "metadata": {},
   "source": [
    "### Parameters"
   ]
  },
  {
   "cell_type": "code",
   "execution_count": 3,
   "id": "1c344177-fc16-4d28-98ad-ca9511cfb782",
   "metadata": {
    "tags": []
   },
   "outputs": [
    {
     "name": "stdout",
     "output_type": "stream",
     "text": [
      "Number of CPU cores: 8\n"
     ]
    }
   ],
   "source": [
    "#Define the directory where the pickle files are stored\n",
    "pickle_dir = 'temp_files'\n",
    "\n",
    "target_indicator = 'mpi'\n",
    "\n",
    "# Get the number of CPU cores to max out the machine in the traning stage\n",
    "num_cores = os.cpu_count()\n",
    "\n",
    "print(f\"Number of CPU cores: {num_cores}\")"
   ]
  },
  {
   "cell_type": "markdown",
   "id": "fc9113a7-fc0d-4394-8a6c-0772770197d1",
   "metadata": {},
   "source": [
    "### Load target and covariates"
   ]
  },
  {
   "cell_type": "code",
   "execution_count": 4,
   "id": "409f213f-8414-4f03-8be9-2afee28fdbf2",
   "metadata": {
    "tags": []
   },
   "outputs": [],
   "source": [
    "df = pd.read_pickle('temp_files/selected_features.pkl')"
   ]
  },
  {
   "cell_type": "code",
   "execution_count": 5,
   "id": "fea1c0f3-3d32-47b2-81f8-02c388f71d48",
   "metadata": {
    "tags": []
   },
   "outputs": [],
   "source": [
    "selected_features = df.columns.to_list()\n",
    "\n",
    "# Remove target_values and others\n",
    "remove_list = [target_indicator, 'geometry', 'grid_id']\n",
    "\n",
    "# Remove elements in remove_list from main_list\n",
    "selected_features = [item for item in selected_features if item not in remove_list]"
   ]
  },
  {
   "cell_type": "code",
   "execution_count": 6,
   "id": "2559d878",
   "metadata": {
    "tags": []
   },
   "outputs": [],
   "source": [
    "# Load coordinates from the pickle file\n",
    "with open(os.path.join(pickle_dir, 'coordinates.pkl'), 'rb') as f:\n",
    "    coordinates = pickle.load(f)\n",
    "\n",
    "# Load coordinates for observed rows from the pickle file\n",
    "with open(os.path.join(pickle_dir, 'coordinates_observed.pkl'), 'rb') as f:\n",
    "    coordinates_observed = pickle.load(f)"
   ]
  },
  {
   "cell_type": "code",
   "execution_count": 7,
   "id": "5c7819ac",
   "metadata": {
    "tags": []
   },
   "outputs": [],
   "source": [
    "df = pd.read_pickle('temp_files/selected_features.pkl')"
   ]
  },
  {
   "cell_type": "code",
   "execution_count": 8,
   "id": "4d174d04",
   "metadata": {
    "tags": []
   },
   "outputs": [],
   "source": [
    "selected_features = df.columns.to_list()\n",
    "\n",
    "# Remove target_values and others\n",
    "remove_list = [target_indicator, 'geometry', 'grid_id']\n",
    "\n",
    "# Remove elements in remove_list from main_list\n",
    "selected_features = [item for item in selected_features if item not in remove_list]"
   ]
  },
  {
   "cell_type": "code",
   "execution_count": 9,
   "id": "8129a75e-3878-47ef-8df9-7d83c3cfd474",
   "metadata": {
    "tags": []
   },
   "outputs": [],
   "source": [
    "#Only rows with observed target indicator\n",
    "df1 = df[~df[target_indicator].isnull()]"
   ]
  },
  {
   "cell_type": "code",
   "execution_count": 10,
   "id": "c91b2200-c0db-4daf-b104-5d14cfc09d16",
   "metadata": {
    "tags": []
   },
   "outputs": [
    {
     "data": {
      "text/plain": [
       "(434, 11)"
      ]
     },
     "execution_count": 10,
     "metadata": {},
     "output_type": "execute_result"
    }
   ],
   "source": [
    "df1.shape"
   ]
  },
  {
   "cell_type": "code",
   "execution_count": 11,
   "id": "4d70c106-0aab-4bb8-9166-d16cf1efff9d",
   "metadata": {
    "tags": []
   },
   "outputs": [],
   "source": [
    "# Covariate matrix\n",
    "X = df1[selected_features].values\n",
    "\n",
    "# Series with the target variable observed\n",
    "response = df1[target_indicator].values"
   ]
  },
  {
   "cell_type": "code",
   "execution_count": 12,
   "id": "d0be0385-869b-4dc9-9bb0-400007dbd2f2",
   "metadata": {
    "tags": []
   },
   "outputs": [],
   "source": [
    "# Standardize features and response\n",
    "X = (X - X.mean(axis=0)) / X.std(axis=0)\n",
    "response = (response - response.mean()) / response.std()"
   ]
  },
  {
   "cell_type": "markdown",
   "id": "bd6692a5-2a5c-4d64-bd1a-6de75ffcb31c",
   "metadata": {},
   "source": [
    "### Recreate the saved model"
   ]
  },
  {
   "cell_type": "code",
   "execution_count": 13,
   "id": "c77e4275-d0d3-4ff6-bf02-3a818ea08a83",
   "metadata": {
    "tags": []
   },
   "outputs": [],
   "source": [
    "# After fitting the model\n",
    "trace_filename = 'model_trace.nc'"
   ]
  },
  {
   "cell_type": "code",
   "execution_count": 14,
   "id": "2ba34396-fef0-40cb-bf7e-4e4bed7b9aaf",
   "metadata": {
    "tags": []
   },
   "outputs": [],
   "source": [
    "#Load the model\n",
    "idata = az.from_netcdf(trace_filename)\n",
    "\n",
    "# Re-create the model\n",
    "with pm.Model() as model:\n",
    "    # Re-create the model's priors and components\n",
    "    beta = pm.Normal('beta', mu=0, sigma=1, shape=len(selected_features))\n",
    "    sigma = pm.HalfNormal('sigma', sigma=1)\n",
    "    ls = pm.HalfCauchy('ls', beta=1)\n",
    "\n",
    "    D = np.sqrt(((coordinates_observed[:, None, :] - coordinates_observed[None, :, :])**2).sum(axis=-1))\n",
    "\n",
    "    K = pm.gp.cov.Matern52(2, ls=ls)\n",
    "    gp = pm.gp.Latent(cov_func=K)\n",
    "    f = gp.prior('f', X=coordinates_observed)\n",
    "\n",
    "    mu = pm.math.dot(X, beta) + f\n",
    "    y_obs = pm.Normal('y_obs', mu=mu, sigma=sigma, observed=response)"
   ]
  },
  {
   "cell_type": "markdown",
   "id": "459c0504-c686-496f-90fc-8810d74a483a",
   "metadata": {},
   "source": [
    "## Generating predictions for new grids"
   ]
  },
  {
   "cell_type": "code",
   "execution_count": 15,
   "id": "518e121b-3c23-4ec9-96d8-d1a336f3a950",
   "metadata": {
    "tags": []
   },
   "outputs": [],
   "source": [
    "# Filter out rows with NaN values in target indicator\n",
    "df2 = df[df[target_indicator].isnull()] # Only unobserved rows\n",
    "\n",
    "df2 = df2.sample(100)\n",
    "\n",
    "# Covariate matrix\n",
    "X_new = df2[selected_features].values\n",
    "\n",
    "# Standardize the new data using the same scaler fitted on the observed data\n",
    "X_new = (X_new - X.mean(axis=0)) / X.std(axis=0)\n",
    "\n",
    "# Load coordinates for the new locations\n",
    "with open(os.path.join(pickle_dir, 'coordinates_unobserved.pkl'), 'rb') as f:\n",
    "    coordinates_new = pickle.load(f)\n",
    "\n",
    "# Ensure the scaler is fitted on the same data\n",
    "scaler = StandardScaler().fit(df1[selected_features].values)\n",
    "X_new = scaler.transform(df2[selected_features].values)"
   ]
  },
  {
   "cell_type": "markdown",
   "id": "6e83bd58-f900-4554-875a-9bc99ec6f17b",
   "metadata": {},
   "source": [
    "### Check if the covariance matrix is PSD\n",
    "- PSD: Positive Semi-Definitive"
   ]
  },
  {
   "cell_type": "code",
   "execution_count": 17,
   "id": "e7ae0015-27f1-47b4-9cce-fd6406b70533",
   "metadata": {
    "tags": []
   },
   "outputs": [],
   "source": [
    "#This function is key to diagnose what is going on inside the Gaussian process\n",
    "\n",
    "def diagnose_covariance_matrix(cov, jitter=1e-6):\n",
    "    \"\"\"\n",
    "    Diagnose potential issues with a covariance matrix and suggest possible remedies.\n",
    "\n",
    "    Parameters:\n",
    "    ----------\n",
    "    cov : np.ndarray or pytensor.tensor\n",
    "        The covariance matrix to diagnose.\n",
    "    jitter : float, optional\n",
    "        The amount of jitter to add to the diagonal of the covariance matrix for stabilization.\n",
    "\n",
    "    Returns:\n",
    "    -------\n",
    "    None\n",
    "    \"\"\"\n",
    "\n",
    "    # Convert pytensor tensor to numpy array for diagnosis if necessary\n",
    "    if isinstance(cov, at.TensorVariable):\n",
    "        # Use pm.draw to evaluate the tensor as a NumPy array\n",
    "        cov = pm.draw(cov)\n",
    "\n",
    "    # Check for symmetry\n",
    "    if not np.allclose(cov, cov.T):\n",
    "        print(\"Warning: Covariance matrix is not symmetric.\")\n",
    "    else:\n",
    "        print(\"Covariance matrix is symmetric.\")\n",
    "\n",
    "    # Check for positive semi-definiteness using eigenvalues\n",
    "    eigvals = np.linalg.eigvalsh(cov)\n",
    "    if np.all(eigvals >= 0):\n",
    "        print(\"Covariance matrix is positive semi-definite (PSD).\")\n",
    "    elif np.all(eigvals > 0):\n",
    "        print(\"Covariance matrix is positive definite (PD).\")\n",
    "    else:\n",
    "        print(\"Covariance matrix is not positive semi-definite (non-PSD).\")\n",
    "        print(\"Eigenvalues:\")\n",
    "        print(eigvals)\n",
    "\n",
    "    # Check for small or negative eigenvalues\n",
    "    if np.any(eigvals < 0):\n",
    "        print(\"There are negative eigenvalues, indicating non-PSD matrix.\")\n",
    "    elif np.any(eigvals == 0):\n",
    "        print(\"There are zero eigenvalues, indicating the matrix is singular or nearly singular.\")\n",
    "    if np.any(eigvals < jitter):\n",
    "        print(\"Some eigenvalues are smaller than the jitter value. Consider increasing jitter.\")\n",
    "\n",
    "    # Check the condition number (ratio of max to min eigenvalue)\n",
    "    cond_number = np.linalg.cond(cov)\n",
    "    print(f\"Condition number of the matrix: {cond_number:.2e}\")\n",
    "    if cond_number > 1e10:\n",
    "        print(\"Warning: Covariance matrix is ill-conditioned (large condition number).\")\n",
    "        print(\"Consider regularization or using a different covariance function.\")\n",
    "\n",
    "    # Suggest adding jitter and re-check PSD\n",
    "    cov_with_jitter = cov + jitter * np.eye(cov.shape[0])\n",
    "    eigvals_with_jitter = np.linalg.eigvalsh(cov_with_jitter)\n",
    "    if np.all(eigvals_with_jitter >= 0):\n",
    "        print(\"Adding jitter made the covariance matrix positive semi-definite.\")\n",
    "    else:\n",
    "        print(\"Even after adding jitter, the matrix is still not positive semi-definite.\")\n",
    "\n",
    "    # Check for numerical issues using Cholesky decomposition\n",
    "    try:\n",
    "        np.linalg.cholesky(cov)\n",
    "        print(\"Cholesky decomposition succeeded: Covariance matrix is positive definite.\")\n",
    "    except np.linalg.LinAlgError:\n",
    "        print(\"Cholesky decomposition failed: Covariance matrix is not positive definite.\")\n",
    "\n",
    "    print(\"\\nDiagnosis Complete.\")\n",
    "\n",
    "def generate_predictions(model, coordinates_new, X_new, idata, initial_jitter=1e-6, max_attempts=5):\n",
    "    \"\"\"\n",
    "    Generate predictions for new data using a Gaussian Process model.\n",
    "\n",
    "    Parameters:\n",
    "    ----------\n",
    "    model : pm.Model\n",
    "        The PyMC model object that contains the Gaussian Process.\n",
    "    coordinates_new : np.ndarray\n",
    "        An array of coordinates for the new data points where predictions are needed.\n",
    "    X_new : np.ndarray\n",
    "        The covariate matrix for the new data points.\n",
    "    idata : az.InferenceData\n",
    "        The InferenceData object containing posterior samples from the fitted model.\n",
    "    initial_jitter : float, optional\n",
    "        The initial jitter value to add to the covariance matrix to ensure positive definiteness.\n",
    "    max_attempts : int, optional\n",
    "        Maximum number of attempts to find a stable jitter value.\n",
    "\n",
    "    Returns:\n",
    "    -------\n",
    "    np.ndarray\n",
    "        An array of mean predictions for the new data points.\n",
    "    \"\"\"\n",
    "\n",
    "    with model:\n",
    "        for attempt in range(max_attempts):\n",
    "            try:\n",
    "                jitter = initial_jitter * (10 ** attempt)\n",
    "                unique_name = \"f_pred_\" + str(uuid.uuid4())\n",
    "\n",
    "                # Generate the conditional GP with added jitter to the covariance matrix\n",
    "                f_pred = gp.conditional(unique_name, coordinates_new, jitter=jitter)\n",
    "\n",
    "                # Compute the mean of the beta samples\n",
    "                beta_mean = idata.posterior['beta'].mean(dim=(\"chain\", \"draw\")).values\n",
    "\n",
    "                # Predictive mean\n",
    "                mu_pred = pm.math.dot(X_new, beta_mean) + f_pred\n",
    "\n",
    "                # Create the covariance matrix using PyMC's Matern32\n",
    "                cov = pm.gp.cov.Matern32(coordinates_new.shape[1], ls=1.0)(coordinates_new)\n",
    "\n",
    "                # Add jitter using Pytensor's identity matrix\n",
    "                cov += jitter * at.eye(cov.shape[0])\n",
    "\n",
    "                # Symmetrize the covariance matrix to ensure symmetry\n",
    "                cov = (cov + cov.T) / 2\n",
    "\n",
    "                # Check cov_matrix before predictions\n",
    "                diagnose_covariance_matrix(cov)\n",
    "                \n",
    "                # Check for positive definiteness using Cholesky decomposition\n",
    "                _ = at.slinalg.cholesky(cov)\n",
    "\n",
    "                # If successful, proceed with prediction\n",
    "                pred_samples = pm.sample_posterior_predictive(idata, var_names=[unique_name], return_inferencedata=True)\n",
    "                return pred_samples.posterior_predictive[unique_name].mean(axis=0)\n",
    "\n",
    "            except Exception as e:\n",
    "                if attempt == max_attempts - 1:\n",
    "                    raise ValueError(f\"The covariance matrix is not positive semi-definite even after {max_attempts} attempts with increasing jitter.\") from e\n"
   ]
  },
  {
   "cell_type": "code",
   "execution_count": 18,
   "id": "3433e857-6b6e-4fe5-9862-05221da83ae3",
   "metadata": {
    "tags": []
   },
   "outputs": [],
   "source": [
    "def process_in_batches(model, X_new, coordinates_new, loaded_trace, response, batch_size=100):\n",
    "    \"\"\"\n",
    "    Process predictions in batches to avoid memory overload.\n",
    "\n",
    "    Parameters:\n",
    "    ----------\n",
    "    model : pm.Model\n",
    "        The PyMC model object.\n",
    "    X_new : np.ndarray\n",
    "        The covariate matrix for the new data points.\n",
    "    coordinates_new : np.ndarray\n",
    "        The coordinates for the new data points.\n",
    "    loaded_trace : az.InferenceData\n",
    "        The InferenceData object containing posterior samples from the fitted model.\n",
    "    response : pd.Series or np.ndarray\n",
    "        The original response data used to standardize the predictions.\n",
    "    batch_size : int, optional\n",
    "        Number of data points to process in each batch.\n",
    "\n",
    "    Returns:\n",
    "    -------\n",
    "    pd.DataFrame\n",
    "        DataFrame containing the predictions for all batches combined.\n",
    "    \"\"\"\n",
    "    \n",
    "    # Initialize an empty list to store results\n",
    "    all_batches_results = []\n",
    "\n",
    "    # Determine the number of batches\n",
    "    num_batches = int(np.ceil(len(X_new) / batch_size))\n",
    "\n",
    "    for batch_num in range(num_batches):\n",
    "        print(f\"Processing batch {batch_num + 1} of {num_batches}\")\n",
    "        \n",
    "        # Calculate the start and end indices for this batch\n",
    "        start_idx = batch_num * batch_size\n",
    "        end_idx = min((batch_num + 1) * batch_size, len(X_new))\n",
    "        \n",
    "        # Slice the data for this batch\n",
    "        X_batch = X_new[start_idx:end_idx]\n",
    "        coordinates_batch = coordinates_new[start_idx:end_idx]\n",
    "\n",
    "        # Generate predictions for this batch\n",
    "        mu_pred_batch = generate_predictions(model, coordinates_batch, X_batch, loaded_trace)\n",
    "\n",
    "        # Transform the predictions back to the original scale\n",
    "        predicted_response_batch = (mu_pred_batch * response.std()) + response.mean()\n",
    "        \n",
    "        # Convert to DataFrame and append to the list\n",
    "        predicted_response_batch_df = pd.DataFrame(predicted_response_batch.transpose())\n",
    "        all_batches_results.append(predicted_response_batch_df)\n",
    "    \n",
    "    # Combine all batches into a single DataFrame\n",
    "    all_predictions_df = pd.concat(all_batches_results, ignore_index=True)\n",
    "\n",
    "    return all_predictions_df\n"
   ]
  },
  {
   "cell_type": "code",
   "execution_count": 19,
   "id": "490ea348-ddab-4c59-b7f5-7fa56120f16c",
   "metadata": {
    "tags": []
   },
   "outputs": [
    {
     "name": "stdout",
     "output_type": "stream",
     "text": [
      "Processing batch 1 of 10\n",
      "Covariance matrix is symmetric.\n",
      "Covariance matrix is positive semi-definite (PSD).\n",
      "Condition number of the matrix: 2.03e+05\n",
      "Adding jitter made the covariance matrix positive semi-definite.\n",
      "Cholesky decomposition succeeded: Covariance matrix is positive definite.\n",
      "\n",
      "Diagnosis Complete.\n"
     ]
    },
    {
     "name": "stderr",
     "output_type": "stream",
     "text": [
      "Sampling: [f_pred_383e8cdf-0b76-4e32-b908-6da8c9a8aa4e]\n"
     ]
    },
    {
     "data": {
      "application/vnd.jupyter.widget-view+json": {
       "model_id": "23ebc5c817784fba89d638d281e268ac",
       "version_major": 2,
       "version_minor": 0
      },
      "text/plain": [
       "Output()"
      ]
     },
     "metadata": {},
     "output_type": "display_data"
    },
    {
     "data": {
      "text/html": [
       "<pre style=\"white-space:pre;overflow-x:auto;line-height:normal;font-family:Menlo,'DejaVu Sans Mono',consolas,'Courier New',monospace\"></pre>\n"
      ],
      "text/plain": []
     },
     "metadata": {},
     "output_type": "display_data"
    },
    {
     "data": {
      "text/html": [
       "<pre style=\"white-space:pre;overflow-x:auto;line-height:normal;font-family:Menlo,'DejaVu Sans Mono',consolas,'Courier New',monospace\">\n",
       "</pre>\n"
      ],
      "text/plain": [
       "\n"
      ]
     },
     "metadata": {},
     "output_type": "display_data"
    },
    {
     "name": "stdout",
     "output_type": "stream",
     "text": [
      "Covariance matrix is symmetric.\n",
      "Covariance matrix is positive semi-definite (PSD).\n",
      "Condition number of the matrix: 1.71e+05\n",
      "Adding jitter made the covariance matrix positive semi-definite.\n",
      "Cholesky decomposition succeeded: Covariance matrix is positive definite.\n",
      "\n",
      "Diagnosis Complete.\n"
     ]
    },
    {
     "name": "stderr",
     "output_type": "stream",
     "text": [
      "Sampling: [f_pred_46a50c7b-80e3-433f-a9cd-99cf44a130b9]\n"
     ]
    },
    {
     "data": {
      "application/vnd.jupyter.widget-view+json": {
       "model_id": "baac4124bd414ad9a55756fba93963c3",
       "version_major": 2,
       "version_minor": 0
      },
      "text/plain": [
       "Output()"
      ]
     },
     "metadata": {},
     "output_type": "display_data"
    },
    {
     "data": {
      "text/html": [
       "<pre style=\"white-space:pre;overflow-x:auto;line-height:normal;font-family:Menlo,'DejaVu Sans Mono',consolas,'Courier New',monospace\"></pre>\n"
      ],
      "text/plain": []
     },
     "metadata": {},
     "output_type": "display_data"
    },
    {
     "data": {
      "text/html": [
       "<pre style=\"white-space:pre;overflow-x:auto;line-height:normal;font-family:Menlo,'DejaVu Sans Mono',consolas,'Courier New',monospace\">\n",
       "</pre>\n"
      ],
      "text/plain": [
       "\n"
      ]
     },
     "metadata": {},
     "output_type": "display_data"
    },
    {
     "name": "stdout",
     "output_type": "stream",
     "text": [
      "Covariance matrix is symmetric.\n",
      "Covariance matrix is positive semi-definite (PSD).\n",
      "Condition number of the matrix: 6.62e+04\n",
      "Adding jitter made the covariance matrix positive semi-definite.\n",
      "Cholesky decomposition succeeded: Covariance matrix is positive definite.\n",
      "\n",
      "Diagnosis Complete.\n"
     ]
    },
    {
     "name": "stderr",
     "output_type": "stream",
     "text": [
      "Sampling: [f_pred_a5a255b4-c144-45e0-b570-5da7605e8d4a]\n"
     ]
    },
    {
     "data": {
      "application/vnd.jupyter.widget-view+json": {
       "model_id": "4fe232e4d0394a39bbbab1ad238f7ca3",
       "version_major": 2,
       "version_minor": 0
      },
      "text/plain": [
       "Output()"
      ]
     },
     "metadata": {},
     "output_type": "display_data"
    },
    {
     "data": {
      "text/html": [
       "<pre style=\"white-space:pre;overflow-x:auto;line-height:normal;font-family:Menlo,'DejaVu Sans Mono',consolas,'Courier New',monospace\"></pre>\n"
      ],
      "text/plain": []
     },
     "metadata": {},
     "output_type": "display_data"
    },
    {
     "data": {
      "text/html": [
       "<pre style=\"white-space:pre;overflow-x:auto;line-height:normal;font-family:Menlo,'DejaVu Sans Mono',consolas,'Courier New',monospace\">\n",
       "</pre>\n"
      ],
      "text/plain": [
       "\n"
      ]
     },
     "metadata": {},
     "output_type": "display_data"
    },
    {
     "name": "stdout",
     "output_type": "stream",
     "text": [
      "Covariance matrix is symmetric.\n",
      "Covariance matrix is positive semi-definite (PSD).\n",
      "Condition number of the matrix: 9.29e+03\n",
      "Adding jitter made the covariance matrix positive semi-definite.\n",
      "Cholesky decomposition succeeded: Covariance matrix is positive definite.\n",
      "\n",
      "Diagnosis Complete.\n"
     ]
    },
    {
     "name": "stderr",
     "output_type": "stream",
     "text": [
      "Sampling: [f_pred_c54e0f07-beb3-4a09-8c12-74f168b771f9]\n"
     ]
    },
    {
     "data": {
      "application/vnd.jupyter.widget-view+json": {
       "model_id": "d5bc7b096c9842509507bb759999f3f8",
       "version_major": 2,
       "version_minor": 0
      },
      "text/plain": [
       "Output()"
      ]
     },
     "metadata": {},
     "output_type": "display_data"
    },
    {
     "data": {
      "text/html": [
       "<pre style=\"white-space:pre;overflow-x:auto;line-height:normal;font-family:Menlo,'DejaVu Sans Mono',consolas,'Courier New',monospace\"></pre>\n"
      ],
      "text/plain": []
     },
     "metadata": {},
     "output_type": "display_data"
    },
    {
     "data": {
      "text/html": [
       "<pre style=\"white-space:pre;overflow-x:auto;line-height:normal;font-family:Menlo,'DejaVu Sans Mono',consolas,'Courier New',monospace\">\n",
       "</pre>\n"
      ],
      "text/plain": [
       "\n"
      ]
     },
     "metadata": {},
     "output_type": "display_data"
    },
    {
     "name": "stdout",
     "output_type": "stream",
     "text": [
      "Processing batch 2 of 10\n",
      "Covariance matrix is symmetric.\n",
      "Covariance matrix is positive semi-definite (PSD).\n",
      "Condition number of the matrix: 1.48e+05\n",
      "Adding jitter made the covariance matrix positive semi-definite.\n",
      "Cholesky decomposition succeeded: Covariance matrix is positive definite.\n",
      "\n",
      "Diagnosis Complete.\n"
     ]
    },
    {
     "name": "stderr",
     "output_type": "stream",
     "text": [
      "Sampling: [f_pred_01ccd047-0550-43c1-bda3-02a9b7ec3eb1]\n"
     ]
    },
    {
     "data": {
      "application/vnd.jupyter.widget-view+json": {
       "model_id": "4de182b2872a4944ad37b84dca23eb56",
       "version_major": 2,
       "version_minor": 0
      },
      "text/plain": [
       "Output()"
      ]
     },
     "metadata": {},
     "output_type": "display_data"
    },
    {
     "data": {
      "text/html": [
       "<pre style=\"white-space:pre;overflow-x:auto;line-height:normal;font-family:Menlo,'DejaVu Sans Mono',consolas,'Courier New',monospace\"></pre>\n"
      ],
      "text/plain": []
     },
     "metadata": {},
     "output_type": "display_data"
    },
    {
     "data": {
      "text/html": [
       "<pre style=\"white-space:pre;overflow-x:auto;line-height:normal;font-family:Menlo,'DejaVu Sans Mono',consolas,'Courier New',monospace\">\n",
       "</pre>\n"
      ],
      "text/plain": [
       "\n"
      ]
     },
     "metadata": {},
     "output_type": "display_data"
    },
    {
     "name": "stdout",
     "output_type": "stream",
     "text": [
      "Covariance matrix is symmetric.\n",
      "Covariance matrix is positive semi-definite (PSD).\n",
      "Condition number of the matrix: 1.29e+05\n",
      "Adding jitter made the covariance matrix positive semi-definite.\n",
      "Cholesky decomposition succeeded: Covariance matrix is positive definite.\n",
      "\n",
      "Diagnosis Complete.\n"
     ]
    },
    {
     "name": "stderr",
     "output_type": "stream",
     "text": [
      "Sampling: [f_pred_42df378f-7f4d-41a2-8081-5208eb7bbc6d]\n"
     ]
    },
    {
     "data": {
      "application/vnd.jupyter.widget-view+json": {
       "model_id": "7fe3cf08700943809c43e4e212a5d109",
       "version_major": 2,
       "version_minor": 0
      },
      "text/plain": [
       "Output()"
      ]
     },
     "metadata": {},
     "output_type": "display_data"
    },
    {
     "data": {
      "text/html": [
       "<pre style=\"white-space:pre;overflow-x:auto;line-height:normal;font-family:Menlo,'DejaVu Sans Mono',consolas,'Courier New',monospace\"></pre>\n"
      ],
      "text/plain": []
     },
     "metadata": {},
     "output_type": "display_data"
    },
    {
     "data": {
      "text/html": [
       "<pre style=\"white-space:pre;overflow-x:auto;line-height:normal;font-family:Menlo,'DejaVu Sans Mono',consolas,'Courier New',monospace\">\n",
       "</pre>\n"
      ],
      "text/plain": [
       "\n"
      ]
     },
     "metadata": {},
     "output_type": "display_data"
    },
    {
     "name": "stdout",
     "output_type": "stream",
     "text": [
      "Covariance matrix is symmetric.\n",
      "Covariance matrix is positive semi-definite (PSD).\n",
      "Condition number of the matrix: 5.70e+04\n",
      "Adding jitter made the covariance matrix positive semi-definite.\n",
      "Cholesky decomposition succeeded: Covariance matrix is positive definite.\n",
      "\n",
      "Diagnosis Complete.\n"
     ]
    },
    {
     "name": "stderr",
     "output_type": "stream",
     "text": [
      "Sampling: [f_pred_da748357-2e12-43f5-8cb9-d3c8f2a8bc99]\n"
     ]
    },
    {
     "data": {
      "application/vnd.jupyter.widget-view+json": {
       "model_id": "794681e6d1fe41728b284fbd217d4bab",
       "version_major": 2,
       "version_minor": 0
      },
      "text/plain": [
       "Output()"
      ]
     },
     "metadata": {},
     "output_type": "display_data"
    },
    {
     "data": {
      "text/html": [
       "<pre style=\"white-space:pre;overflow-x:auto;line-height:normal;font-family:Menlo,'DejaVu Sans Mono',consolas,'Courier New',monospace\"></pre>\n"
      ],
      "text/plain": []
     },
     "metadata": {},
     "output_type": "display_data"
    },
    {
     "data": {
      "text/html": [
       "<pre style=\"white-space:pre;overflow-x:auto;line-height:normal;font-family:Menlo,'DejaVu Sans Mono',consolas,'Courier New',monospace\">\n",
       "</pre>\n"
      ],
      "text/plain": [
       "\n"
      ]
     },
     "metadata": {},
     "output_type": "display_data"
    },
    {
     "name": "stdout",
     "output_type": "stream",
     "text": [
      "Covariance matrix is symmetric.\n",
      "Covariance matrix is positive semi-definite (PSD).\n",
      "Condition number of the matrix: 8.67e+03\n",
      "Adding jitter made the covariance matrix positive semi-definite.\n",
      "Cholesky decomposition succeeded: Covariance matrix is positive definite.\n",
      "\n",
      "Diagnosis Complete.\n"
     ]
    },
    {
     "name": "stderr",
     "output_type": "stream",
     "text": [
      "Sampling: [f_pred_4395bd55-1722-411f-b93e-e886bdfc0a1f]\n"
     ]
    },
    {
     "data": {
      "application/vnd.jupyter.widget-view+json": {
       "model_id": "d435c3a955134fdc9d57921b73d80af5",
       "version_major": 2,
       "version_minor": 0
      },
      "text/plain": [
       "Output()"
      ]
     },
     "metadata": {},
     "output_type": "display_data"
    },
    {
     "data": {
      "text/html": [
       "<pre style=\"white-space:pre;overflow-x:auto;line-height:normal;font-family:Menlo,'DejaVu Sans Mono',consolas,'Courier New',monospace\"></pre>\n"
      ],
      "text/plain": []
     },
     "metadata": {},
     "output_type": "display_data"
    },
    {
     "data": {
      "text/html": [
       "<pre style=\"white-space:pre;overflow-x:auto;line-height:normal;font-family:Menlo,'DejaVu Sans Mono',consolas,'Courier New',monospace\">\n",
       "</pre>\n"
      ],
      "text/plain": [
       "\n"
      ]
     },
     "metadata": {},
     "output_type": "display_data"
    },
    {
     "name": "stdout",
     "output_type": "stream",
     "text": [
      "Processing batch 3 of 10\n",
      "Covariance matrix is symmetric.\n",
      "Covariance matrix is positive semi-definite (PSD).\n",
      "Condition number of the matrix: 1.80e+05\n",
      "Adding jitter made the covariance matrix positive semi-definite.\n",
      "Cholesky decomposition succeeded: Covariance matrix is positive definite.\n",
      "\n",
      "Diagnosis Complete.\n"
     ]
    },
    {
     "name": "stderr",
     "output_type": "stream",
     "text": [
      "Sampling: [f_pred_bc0fee78-70d3-4811-8495-a213097b7d28]\n"
     ]
    },
    {
     "data": {
      "application/vnd.jupyter.widget-view+json": {
       "model_id": "4aa556a2ee9f4b3ea26b29b52d9c42eb",
       "version_major": 2,
       "version_minor": 0
      },
      "text/plain": [
       "Output()"
      ]
     },
     "metadata": {},
     "output_type": "display_data"
    },
    {
     "data": {
      "text/html": [
       "<pre style=\"white-space:pre;overflow-x:auto;line-height:normal;font-family:Menlo,'DejaVu Sans Mono',consolas,'Courier New',monospace\"></pre>\n"
      ],
      "text/plain": []
     },
     "metadata": {},
     "output_type": "display_data"
    },
    {
     "data": {
      "text/html": [
       "<pre style=\"white-space:pre;overflow-x:auto;line-height:normal;font-family:Menlo,'DejaVu Sans Mono',consolas,'Courier New',monospace\">\n",
       "</pre>\n"
      ],
      "text/plain": [
       "\n"
      ]
     },
     "metadata": {},
     "output_type": "display_data"
    },
    {
     "name": "stdout",
     "output_type": "stream",
     "text": [
      "Covariance matrix is symmetric.\n",
      "Covariance matrix is positive semi-definite (PSD).\n",
      "Condition number of the matrix: 1.54e+05\n",
      "Adding jitter made the covariance matrix positive semi-definite.\n",
      "Cholesky decomposition succeeded: Covariance matrix is positive definite.\n",
      "\n",
      "Diagnosis Complete.\n"
     ]
    },
    {
     "name": "stderr",
     "output_type": "stream",
     "text": [
      "Sampling: [f_pred_fa321d75-0a66-4aa7-b494-3d21040387d2]\n"
     ]
    },
    {
     "data": {
      "application/vnd.jupyter.widget-view+json": {
       "model_id": "515159c6b93c41e1a53282913ddfd94f",
       "version_major": 2,
       "version_minor": 0
      },
      "text/plain": [
       "Output()"
      ]
     },
     "metadata": {},
     "output_type": "display_data"
    },
    {
     "data": {
      "text/html": [
       "<pre style=\"white-space:pre;overflow-x:auto;line-height:normal;font-family:Menlo,'DejaVu Sans Mono',consolas,'Courier New',monospace\"></pre>\n"
      ],
      "text/plain": []
     },
     "metadata": {},
     "output_type": "display_data"
    },
    {
     "data": {
      "text/html": [
       "<pre style=\"white-space:pre;overflow-x:auto;line-height:normal;font-family:Menlo,'DejaVu Sans Mono',consolas,'Courier New',monospace\">\n",
       "</pre>\n"
      ],
      "text/plain": [
       "\n"
      ]
     },
     "metadata": {},
     "output_type": "display_data"
    },
    {
     "name": "stdout",
     "output_type": "stream",
     "text": [
      "Covariance matrix is symmetric.\n",
      "Covariance matrix is positive semi-definite (PSD).\n",
      "Condition number of the matrix: 6.27e+04\n",
      "Adding jitter made the covariance matrix positive semi-definite.\n",
      "Cholesky decomposition succeeded: Covariance matrix is positive definite.\n",
      "\n",
      "Diagnosis Complete.\n"
     ]
    },
    {
     "name": "stderr",
     "output_type": "stream",
     "text": [
      "Sampling: [f_pred_7b6e1291-37d6-4532-9909-1f4bec78433a]\n"
     ]
    },
    {
     "data": {
      "application/vnd.jupyter.widget-view+json": {
       "model_id": "c4037753d32c4ddb87ecbccbe92b8e02",
       "version_major": 2,
       "version_minor": 0
      },
      "text/plain": [
       "Output()"
      ]
     },
     "metadata": {},
     "output_type": "display_data"
    },
    {
     "data": {
      "text/html": [
       "<pre style=\"white-space:pre;overflow-x:auto;line-height:normal;font-family:Menlo,'DejaVu Sans Mono',consolas,'Courier New',monospace\"></pre>\n"
      ],
      "text/plain": []
     },
     "metadata": {},
     "output_type": "display_data"
    },
    {
     "data": {
      "text/html": [
       "<pre style=\"white-space:pre;overflow-x:auto;line-height:normal;font-family:Menlo,'DejaVu Sans Mono',consolas,'Courier New',monospace\">\n",
       "</pre>\n"
      ],
      "text/plain": [
       "\n"
      ]
     },
     "metadata": {},
     "output_type": "display_data"
    },
    {
     "name": "stdout",
     "output_type": "stream",
     "text": [
      "Covariance matrix is symmetric.\n",
      "Covariance matrix is positive semi-definite (PSD).\n",
      "Condition number of the matrix: 9.06e+03\n",
      "Adding jitter made the covariance matrix positive semi-definite.\n",
      "Cholesky decomposition succeeded: Covariance matrix is positive definite.\n",
      "\n",
      "Diagnosis Complete.\n"
     ]
    },
    {
     "name": "stderr",
     "output_type": "stream",
     "text": [
      "Sampling: [f_pred_27b15cae-325a-47d9-a38e-7b7b8f09de37]\n"
     ]
    },
    {
     "data": {
      "application/vnd.jupyter.widget-view+json": {
       "model_id": "ebc35c0f9036489092e0788871eca81c",
       "version_major": 2,
       "version_minor": 0
      },
      "text/plain": [
       "Output()"
      ]
     },
     "metadata": {},
     "output_type": "display_data"
    },
    {
     "data": {
      "text/html": [
       "<pre style=\"white-space:pre;overflow-x:auto;line-height:normal;font-family:Menlo,'DejaVu Sans Mono',consolas,'Courier New',monospace\"></pre>\n"
      ],
      "text/plain": []
     },
     "metadata": {},
     "output_type": "display_data"
    },
    {
     "data": {
      "text/html": [
       "<pre style=\"white-space:pre;overflow-x:auto;line-height:normal;font-family:Menlo,'DejaVu Sans Mono',consolas,'Courier New',monospace\">\n",
       "</pre>\n"
      ],
      "text/plain": [
       "\n"
      ]
     },
     "metadata": {},
     "output_type": "display_data"
    },
    {
     "name": "stdout",
     "output_type": "stream",
     "text": [
      "Processing batch 4 of 10\n",
      "Covariance matrix is symmetric.\n",
      "Covariance matrix is positive semi-definite (PSD).\n",
      "Condition number of the matrix: 1.25e+05\n",
      "Adding jitter made the covariance matrix positive semi-definite.\n",
      "Cholesky decomposition succeeded: Covariance matrix is positive definite.\n",
      "\n",
      "Diagnosis Complete.\n"
     ]
    },
    {
     "name": "stderr",
     "output_type": "stream",
     "text": [
      "Sampling: [f_pred_203edc0b-9009-4db0-8927-a789e0adec61]\n"
     ]
    },
    {
     "data": {
      "application/vnd.jupyter.widget-view+json": {
       "model_id": "6a6041797a55449fba316bfc11fa325b",
       "version_major": 2,
       "version_minor": 0
      },
      "text/plain": [
       "Output()"
      ]
     },
     "metadata": {},
     "output_type": "display_data"
    },
    {
     "data": {
      "text/html": [
       "<pre style=\"white-space:pre;overflow-x:auto;line-height:normal;font-family:Menlo,'DejaVu Sans Mono',consolas,'Courier New',monospace\"></pre>\n"
      ],
      "text/plain": []
     },
     "metadata": {},
     "output_type": "display_data"
    },
    {
     "data": {
      "text/html": [
       "<pre style=\"white-space:pre;overflow-x:auto;line-height:normal;font-family:Menlo,'DejaVu Sans Mono',consolas,'Courier New',monospace\">\n",
       "</pre>\n"
      ],
      "text/plain": [
       "\n"
      ]
     },
     "metadata": {},
     "output_type": "display_data"
    },
    {
     "name": "stdout",
     "output_type": "stream",
     "text": [
      "Covariance matrix is symmetric.\n",
      "Covariance matrix is positive semi-definite (PSD).\n",
      "Condition number of the matrix: 1.08e+05\n",
      "Adding jitter made the covariance matrix positive semi-definite.\n",
      "Cholesky decomposition succeeded: Covariance matrix is positive definite.\n",
      "\n",
      "Diagnosis Complete.\n"
     ]
    },
    {
     "name": "stderr",
     "output_type": "stream",
     "text": [
      "Sampling: [f_pred_a043fda8-3228-4174-9162-ef3624841867]\n"
     ]
    },
    {
     "data": {
      "application/vnd.jupyter.widget-view+json": {
       "model_id": "a9f389f1254b42478d9a78f6af623431",
       "version_major": 2,
       "version_minor": 0
      },
      "text/plain": [
       "Output()"
      ]
     },
     "metadata": {},
     "output_type": "display_data"
    },
    {
     "data": {
      "text/html": [
       "<pre style=\"white-space:pre;overflow-x:auto;line-height:normal;font-family:Menlo,'DejaVu Sans Mono',consolas,'Courier New',monospace\"></pre>\n"
      ],
      "text/plain": []
     },
     "metadata": {},
     "output_type": "display_data"
    },
    {
     "data": {
      "text/html": [
       "<pre style=\"white-space:pre;overflow-x:auto;line-height:normal;font-family:Menlo,'DejaVu Sans Mono',consolas,'Courier New',monospace\">\n",
       "</pre>\n"
      ],
      "text/plain": [
       "\n"
      ]
     },
     "metadata": {},
     "output_type": "display_data"
    },
    {
     "name": "stdout",
     "output_type": "stream",
     "text": [
      "Covariance matrix is symmetric.\n",
      "Covariance matrix is positive semi-definite (PSD).\n",
      "Condition number of the matrix: 4.46e+04\n",
      "Adding jitter made the covariance matrix positive semi-definite.\n",
      "Cholesky decomposition succeeded: Covariance matrix is positive definite.\n",
      "\n",
      "Diagnosis Complete.\n"
     ]
    },
    {
     "name": "stderr",
     "output_type": "stream",
     "text": [
      "Sampling: [f_pred_b5996176-4149-48a1-8447-00a261197bd0]\n"
     ]
    },
    {
     "data": {
      "application/vnd.jupyter.widget-view+json": {
       "model_id": "c82533dbca794684af671a39e52676f3",
       "version_major": 2,
       "version_minor": 0
      },
      "text/plain": [
       "Output()"
      ]
     },
     "metadata": {},
     "output_type": "display_data"
    },
    {
     "data": {
      "text/html": [
       "<pre style=\"white-space:pre;overflow-x:auto;line-height:normal;font-family:Menlo,'DejaVu Sans Mono',consolas,'Courier New',monospace\"></pre>\n"
      ],
      "text/plain": []
     },
     "metadata": {},
     "output_type": "display_data"
    },
    {
     "data": {
      "text/html": [
       "<pre style=\"white-space:pre;overflow-x:auto;line-height:normal;font-family:Menlo,'DejaVu Sans Mono',consolas,'Courier New',monospace\">\n",
       "</pre>\n"
      ],
      "text/plain": [
       "\n"
      ]
     },
     "metadata": {},
     "output_type": "display_data"
    },
    {
     "name": "stdout",
     "output_type": "stream",
     "text": [
      "Covariance matrix is symmetric.\n",
      "Covariance matrix is positive semi-definite (PSD).\n",
      "Condition number of the matrix: 6.51e+03\n",
      "Adding jitter made the covariance matrix positive semi-definite.\n",
      "Cholesky decomposition succeeded: Covariance matrix is positive definite.\n",
      "\n",
      "Diagnosis Complete.\n"
     ]
    },
    {
     "name": "stderr",
     "output_type": "stream",
     "text": [
      "Sampling: [f_pred_30031830-4cb6-46c4-a8eb-422bff24620d]\n"
     ]
    },
    {
     "data": {
      "application/vnd.jupyter.widget-view+json": {
       "model_id": "6ee596bf7bdd48368a32845440f04a21",
       "version_major": 2,
       "version_minor": 0
      },
      "text/plain": [
       "Output()"
      ]
     },
     "metadata": {},
     "output_type": "display_data"
    },
    {
     "data": {
      "text/html": [
       "<pre style=\"white-space:pre;overflow-x:auto;line-height:normal;font-family:Menlo,'DejaVu Sans Mono',consolas,'Courier New',monospace\"></pre>\n"
      ],
      "text/plain": []
     },
     "metadata": {},
     "output_type": "display_data"
    },
    {
     "data": {
      "text/html": [
       "<pre style=\"white-space:pre;overflow-x:auto;line-height:normal;font-family:Menlo,'DejaVu Sans Mono',consolas,'Courier New',monospace\">\n",
       "</pre>\n"
      ],
      "text/plain": [
       "\n"
      ]
     },
     "metadata": {},
     "output_type": "display_data"
    },
    {
     "name": "stdout",
     "output_type": "stream",
     "text": [
      "Processing batch 5 of 10\n",
      "Covariance matrix is symmetric.\n",
      "Covariance matrix is positive semi-definite (PSD).\n",
      "Condition number of the matrix: 1.46e+05\n",
      "Adding jitter made the covariance matrix positive semi-definite.\n",
      "Cholesky decomposition succeeded: Covariance matrix is positive definite.\n",
      "\n",
      "Diagnosis Complete.\n"
     ]
    },
    {
     "name": "stderr",
     "output_type": "stream",
     "text": [
      "Sampling: [f_pred_777f73fb-2094-4283-b564-355679e9c8ed]\n"
     ]
    },
    {
     "data": {
      "application/vnd.jupyter.widget-view+json": {
       "model_id": "4b04e4cc1cd54e1c8408f16b74d98eff",
       "version_major": 2,
       "version_minor": 0
      },
      "text/plain": [
       "Output()"
      ]
     },
     "metadata": {},
     "output_type": "display_data"
    },
    {
     "data": {
      "text/html": [
       "<pre style=\"white-space:pre;overflow-x:auto;line-height:normal;font-family:Menlo,'DejaVu Sans Mono',consolas,'Courier New',monospace\"></pre>\n"
      ],
      "text/plain": []
     },
     "metadata": {},
     "output_type": "display_data"
    },
    {
     "data": {
      "text/html": [
       "<pre style=\"white-space:pre;overflow-x:auto;line-height:normal;font-family:Menlo,'DejaVu Sans Mono',consolas,'Courier New',monospace\">\n",
       "</pre>\n"
      ],
      "text/plain": [
       "\n"
      ]
     },
     "metadata": {},
     "output_type": "display_data"
    },
    {
     "name": "stdout",
     "output_type": "stream",
     "text": [
      "Covariance matrix is symmetric.\n",
      "Covariance matrix is positive semi-definite (PSD).\n",
      "Condition number of the matrix: 1.27e+05\n",
      "Adding jitter made the covariance matrix positive semi-definite.\n",
      "Cholesky decomposition succeeded: Covariance matrix is positive definite.\n",
      "\n",
      "Diagnosis Complete.\n"
     ]
    },
    {
     "name": "stderr",
     "output_type": "stream",
     "text": [
      "Sampling: [f_pred_4c93d5b6-bea8-47e6-a90d-91b35ef8bc94]\n"
     ]
    },
    {
     "data": {
      "application/vnd.jupyter.widget-view+json": {
       "model_id": "8cfc369c391e479db39613a96d4a5798",
       "version_major": 2,
       "version_minor": 0
      },
      "text/plain": [
       "Output()"
      ]
     },
     "metadata": {},
     "output_type": "display_data"
    },
    {
     "data": {
      "text/html": [
       "<pre style=\"white-space:pre;overflow-x:auto;line-height:normal;font-family:Menlo,'DejaVu Sans Mono',consolas,'Courier New',monospace\"></pre>\n"
      ],
      "text/plain": []
     },
     "metadata": {},
     "output_type": "display_data"
    },
    {
     "data": {
      "text/html": [
       "<pre style=\"white-space:pre;overflow-x:auto;line-height:normal;font-family:Menlo,'DejaVu Sans Mono',consolas,'Courier New',monospace\">\n",
       "</pre>\n"
      ],
      "text/plain": [
       "\n"
      ]
     },
     "metadata": {},
     "output_type": "display_data"
    },
    {
     "name": "stdout",
     "output_type": "stream",
     "text": [
      "Covariance matrix is symmetric.\n",
      "Covariance matrix is positive semi-definite (PSD).\n",
      "Condition number of the matrix: 5.46e+04\n",
      "Adding jitter made the covariance matrix positive semi-definite.\n",
      "Cholesky decomposition succeeded: Covariance matrix is positive definite.\n",
      "\n",
      "Diagnosis Complete.\n"
     ]
    },
    {
     "name": "stderr",
     "output_type": "stream",
     "text": [
      "Sampling: [f_pred_bbb4e7ec-c22a-41f2-adf9-d9275558a1fa]\n"
     ]
    },
    {
     "data": {
      "application/vnd.jupyter.widget-view+json": {
       "model_id": "98e18b34df694cac8f980b243eb152b9",
       "version_major": 2,
       "version_minor": 0
      },
      "text/plain": [
       "Output()"
      ]
     },
     "metadata": {},
     "output_type": "display_data"
    },
    {
     "data": {
      "text/html": [
       "<pre style=\"white-space:pre;overflow-x:auto;line-height:normal;font-family:Menlo,'DejaVu Sans Mono',consolas,'Courier New',monospace\"></pre>\n"
      ],
      "text/plain": []
     },
     "metadata": {},
     "output_type": "display_data"
    },
    {
     "data": {
      "text/html": [
       "<pre style=\"white-space:pre;overflow-x:auto;line-height:normal;font-family:Menlo,'DejaVu Sans Mono',consolas,'Courier New',monospace\">\n",
       "</pre>\n"
      ],
      "text/plain": [
       "\n"
      ]
     },
     "metadata": {},
     "output_type": "display_data"
    },
    {
     "name": "stdout",
     "output_type": "stream",
     "text": [
      "Covariance matrix is symmetric.\n",
      "Covariance matrix is positive semi-definite (PSD).\n",
      "Condition number of the matrix: 8.17e+03\n",
      "Adding jitter made the covariance matrix positive semi-definite.\n",
      "Cholesky decomposition succeeded: Covariance matrix is positive definite.\n",
      "\n",
      "Diagnosis Complete.\n"
     ]
    },
    {
     "name": "stderr",
     "output_type": "stream",
     "text": [
      "Sampling: [f_pred_70497108-ca27-42db-bbf7-079db6bdb634]\n"
     ]
    },
    {
     "data": {
      "application/vnd.jupyter.widget-view+json": {
       "model_id": "2df826b3774a49f09db613f8259fa8d7",
       "version_major": 2,
       "version_minor": 0
      },
      "text/plain": [
       "Output()"
      ]
     },
     "metadata": {},
     "output_type": "display_data"
    },
    {
     "data": {
      "text/html": [
       "<pre style=\"white-space:pre;overflow-x:auto;line-height:normal;font-family:Menlo,'DejaVu Sans Mono',consolas,'Courier New',monospace\"></pre>\n"
      ],
      "text/plain": []
     },
     "metadata": {},
     "output_type": "display_data"
    },
    {
     "data": {
      "text/html": [
       "<pre style=\"white-space:pre;overflow-x:auto;line-height:normal;font-family:Menlo,'DejaVu Sans Mono',consolas,'Courier New',monospace\">\n",
       "</pre>\n"
      ],
      "text/plain": [
       "\n"
      ]
     },
     "metadata": {},
     "output_type": "display_data"
    },
    {
     "name": "stdout",
     "output_type": "stream",
     "text": [
      "Processing batch 6 of 10\n",
      "Covariance matrix is symmetric.\n",
      "Covariance matrix is positive semi-definite (PSD).\n",
      "Condition number of the matrix: 1.24e+05\n",
      "Adding jitter made the covariance matrix positive semi-definite.\n",
      "Cholesky decomposition succeeded: Covariance matrix is positive definite.\n",
      "\n",
      "Diagnosis Complete.\n"
     ]
    },
    {
     "name": "stderr",
     "output_type": "stream",
     "text": [
      "Sampling: [f_pred_401765b3-44ac-402f-bbd1-d167e7db4b37]\n"
     ]
    },
    {
     "data": {
      "application/vnd.jupyter.widget-view+json": {
       "model_id": "122979b31d0b41549b67d046a4ccaae7",
       "version_major": 2,
       "version_minor": 0
      },
      "text/plain": [
       "Output()"
      ]
     },
     "metadata": {},
     "output_type": "display_data"
    },
    {
     "data": {
      "text/html": [
       "<pre style=\"white-space:pre;overflow-x:auto;line-height:normal;font-family:Menlo,'DejaVu Sans Mono',consolas,'Courier New',monospace\"></pre>\n"
      ],
      "text/plain": []
     },
     "metadata": {},
     "output_type": "display_data"
    },
    {
     "data": {
      "text/html": [
       "<pre style=\"white-space:pre;overflow-x:auto;line-height:normal;font-family:Menlo,'DejaVu Sans Mono',consolas,'Courier New',monospace\">\n",
       "</pre>\n"
      ],
      "text/plain": [
       "\n"
      ]
     },
     "metadata": {},
     "output_type": "display_data"
    },
    {
     "name": "stdout",
     "output_type": "stream",
     "text": [
      "Covariance matrix is symmetric.\n",
      "Covariance matrix is positive semi-definite (PSD).\n",
      "Condition number of the matrix: 1.06e+05\n",
      "Adding jitter made the covariance matrix positive semi-definite.\n",
      "Cholesky decomposition succeeded: Covariance matrix is positive definite.\n",
      "\n",
      "Diagnosis Complete.\n"
     ]
    },
    {
     "name": "stderr",
     "output_type": "stream",
     "text": [
      "Sampling: [f_pred_c8e40a79-72f6-4f95-8dd8-bd90a878b38c]\n"
     ]
    },
    {
     "data": {
      "application/vnd.jupyter.widget-view+json": {
       "model_id": "b6b6bbfb45fc4211b3835701e8e0c52d",
       "version_major": 2,
       "version_minor": 0
      },
      "text/plain": [
       "Output()"
      ]
     },
     "metadata": {},
     "output_type": "display_data"
    },
    {
     "data": {
      "text/html": [
       "<pre style=\"white-space:pre;overflow-x:auto;line-height:normal;font-family:Menlo,'DejaVu Sans Mono',consolas,'Courier New',monospace\"></pre>\n"
      ],
      "text/plain": []
     },
     "metadata": {},
     "output_type": "display_data"
    },
    {
     "data": {
      "text/html": [
       "<pre style=\"white-space:pre;overflow-x:auto;line-height:normal;font-family:Menlo,'DejaVu Sans Mono',consolas,'Courier New',monospace\">\n",
       "</pre>\n"
      ],
      "text/plain": [
       "\n"
      ]
     },
     "metadata": {},
     "output_type": "display_data"
    },
    {
     "name": "stdout",
     "output_type": "stream",
     "text": [
      "Covariance matrix is symmetric.\n",
      "Covariance matrix is positive semi-definite (PSD).\n",
      "Condition number of the matrix: 4.43e+04\n",
      "Adding jitter made the covariance matrix positive semi-definite.\n",
      "Cholesky decomposition succeeded: Covariance matrix is positive definite.\n",
      "\n",
      "Diagnosis Complete.\n"
     ]
    },
    {
     "name": "stderr",
     "output_type": "stream",
     "text": [
      "Sampling: [f_pred_c902cffa-0d1c-4b5e-8ac1-75efe29eca76]\n"
     ]
    },
    {
     "data": {
      "application/vnd.jupyter.widget-view+json": {
       "model_id": "21246f95edb54ddaa79b1e9a32c6c6ad",
       "version_major": 2,
       "version_minor": 0
      },
      "text/plain": [
       "Output()"
      ]
     },
     "metadata": {},
     "output_type": "display_data"
    },
    {
     "data": {
      "text/html": [
       "<pre style=\"white-space:pre;overflow-x:auto;line-height:normal;font-family:Menlo,'DejaVu Sans Mono',consolas,'Courier New',monospace\"></pre>\n"
      ],
      "text/plain": []
     },
     "metadata": {},
     "output_type": "display_data"
    },
    {
     "data": {
      "text/html": [
       "<pre style=\"white-space:pre;overflow-x:auto;line-height:normal;font-family:Menlo,'DejaVu Sans Mono',consolas,'Courier New',monospace\">\n",
       "</pre>\n"
      ],
      "text/plain": [
       "\n"
      ]
     },
     "metadata": {},
     "output_type": "display_data"
    },
    {
     "name": "stdout",
     "output_type": "stream",
     "text": [
      "Covariance matrix is symmetric.\n",
      "Covariance matrix is positive semi-definite (PSD).\n",
      "Condition number of the matrix: 6.47e+03\n",
      "Adding jitter made the covariance matrix positive semi-definite.\n",
      "Cholesky decomposition succeeded: Covariance matrix is positive definite.\n",
      "\n",
      "Diagnosis Complete.\n"
     ]
    },
    {
     "name": "stderr",
     "output_type": "stream",
     "text": [
      "Sampling: [f_pred_153f4a23-0ac7-4966-8782-b7d98a6039d8]\n"
     ]
    },
    {
     "data": {
      "application/vnd.jupyter.widget-view+json": {
       "model_id": "20247bdea2494217b3746f29a3c22c84",
       "version_major": 2,
       "version_minor": 0
      },
      "text/plain": [
       "Output()"
      ]
     },
     "metadata": {},
     "output_type": "display_data"
    },
    {
     "data": {
      "text/html": [
       "<pre style=\"white-space:pre;overflow-x:auto;line-height:normal;font-family:Menlo,'DejaVu Sans Mono',consolas,'Courier New',monospace\"></pre>\n"
      ],
      "text/plain": []
     },
     "metadata": {},
     "output_type": "display_data"
    },
    {
     "data": {
      "text/html": [
       "<pre style=\"white-space:pre;overflow-x:auto;line-height:normal;font-family:Menlo,'DejaVu Sans Mono',consolas,'Courier New',monospace\">\n",
       "</pre>\n"
      ],
      "text/plain": [
       "\n"
      ]
     },
     "metadata": {},
     "output_type": "display_data"
    },
    {
     "name": "stdout",
     "output_type": "stream",
     "text": [
      "Processing batch 7 of 10\n",
      "Covariance matrix is symmetric.\n",
      "Covariance matrix is positive semi-definite (PSD).\n",
      "Condition number of the matrix: 1.01e+05\n",
      "Adding jitter made the covariance matrix positive semi-definite.\n",
      "Cholesky decomposition succeeded: Covariance matrix is positive definite.\n",
      "\n",
      "Diagnosis Complete.\n"
     ]
    },
    {
     "name": "stderr",
     "output_type": "stream",
     "text": [
      "Sampling: [f_pred_3e071c8e-6be0-42fc-bb10-7b9d0654c657]\n"
     ]
    },
    {
     "data": {
      "application/vnd.jupyter.widget-view+json": {
       "model_id": "0a942af45a1745e09b3c79d0051ac324",
       "version_major": 2,
       "version_minor": 0
      },
      "text/plain": [
       "Output()"
      ]
     },
     "metadata": {},
     "output_type": "display_data"
    },
    {
     "data": {
      "text/html": [
       "<pre style=\"white-space:pre;overflow-x:auto;line-height:normal;font-family:Menlo,'DejaVu Sans Mono',consolas,'Courier New',monospace\"></pre>\n"
      ],
      "text/plain": []
     },
     "metadata": {},
     "output_type": "display_data"
    },
    {
     "data": {
      "text/html": [
       "<pre style=\"white-space:pre;overflow-x:auto;line-height:normal;font-family:Menlo,'DejaVu Sans Mono',consolas,'Courier New',monospace\">\n",
       "</pre>\n"
      ],
      "text/plain": [
       "\n"
      ]
     },
     "metadata": {},
     "output_type": "display_data"
    },
    {
     "name": "stdout",
     "output_type": "stream",
     "text": [
      "Covariance matrix is symmetric.\n",
      "Covariance matrix is positive semi-definite (PSD).\n",
      "Condition number of the matrix: 8.87e+04\n",
      "Adding jitter made the covariance matrix positive semi-definite.\n",
      "Cholesky decomposition succeeded: Covariance matrix is positive definite.\n",
      "\n",
      "Diagnosis Complete.\n"
     ]
    },
    {
     "name": "stderr",
     "output_type": "stream",
     "text": [
      "Sampling: [f_pred_ed991d67-705c-4e11-9db4-05815ebf0613]\n"
     ]
    },
    {
     "data": {
      "application/vnd.jupyter.widget-view+json": {
       "model_id": "2f2e16b42c544b5c959aca14f7f20e83",
       "version_major": 2,
       "version_minor": 0
      },
      "text/plain": [
       "Output()"
      ]
     },
     "metadata": {},
     "output_type": "display_data"
    },
    {
     "data": {
      "text/html": [
       "<pre style=\"white-space:pre;overflow-x:auto;line-height:normal;font-family:Menlo,'DejaVu Sans Mono',consolas,'Courier New',monospace\"></pre>\n"
      ],
      "text/plain": []
     },
     "metadata": {},
     "output_type": "display_data"
    },
    {
     "data": {
      "text/html": [
       "<pre style=\"white-space:pre;overflow-x:auto;line-height:normal;font-family:Menlo,'DejaVu Sans Mono',consolas,'Courier New',monospace\">\n",
       "</pre>\n"
      ],
      "text/plain": [
       "\n"
      ]
     },
     "metadata": {},
     "output_type": "display_data"
    },
    {
     "name": "stdout",
     "output_type": "stream",
     "text": [
      "Covariance matrix is symmetric.\n",
      "Covariance matrix is positive semi-definite (PSD).\n",
      "Condition number of the matrix: 3.97e+04\n",
      "Adding jitter made the covariance matrix positive semi-definite.\n",
      "Cholesky decomposition succeeded: Covariance matrix is positive definite.\n",
      "\n",
      "Diagnosis Complete.\n"
     ]
    },
    {
     "name": "stderr",
     "output_type": "stream",
     "text": [
      "Sampling: [f_pred_bd1d34a3-ee4f-4cc2-a164-98c0875bb9ac]\n"
     ]
    },
    {
     "data": {
      "application/vnd.jupyter.widget-view+json": {
       "model_id": "e81ddb31292043669e581c1879812ac5",
       "version_major": 2,
       "version_minor": 0
      },
      "text/plain": [
       "Output()"
      ]
     },
     "metadata": {},
     "output_type": "display_data"
    },
    {
     "data": {
      "text/html": [
       "<pre style=\"white-space:pre;overflow-x:auto;line-height:normal;font-family:Menlo,'DejaVu Sans Mono',consolas,'Courier New',monospace\"></pre>\n"
      ],
      "text/plain": []
     },
     "metadata": {},
     "output_type": "display_data"
    },
    {
     "data": {
      "text/html": [
       "<pre style=\"white-space:pre;overflow-x:auto;line-height:normal;font-family:Menlo,'DejaVu Sans Mono',consolas,'Courier New',monospace\">\n",
       "</pre>\n"
      ],
      "text/plain": [
       "\n"
      ]
     },
     "metadata": {},
     "output_type": "display_data"
    },
    {
     "name": "stdout",
     "output_type": "stream",
     "text": [
      "Covariance matrix is symmetric.\n",
      "Covariance matrix is positive semi-definite (PSD).\n",
      "Condition number of the matrix: 6.10e+03\n",
      "Adding jitter made the covariance matrix positive semi-definite.\n",
      "Cholesky decomposition succeeded: Covariance matrix is positive definite.\n",
      "\n",
      "Diagnosis Complete.\n"
     ]
    },
    {
     "name": "stderr",
     "output_type": "stream",
     "text": [
      "Sampling: [f_pred_a0393930-ec37-489c-9b49-13387b4dda8e]\n"
     ]
    },
    {
     "data": {
      "application/vnd.jupyter.widget-view+json": {
       "model_id": "dad3486b7902439286132ffd2e4c7e75",
       "version_major": 2,
       "version_minor": 0
      },
      "text/plain": [
       "Output()"
      ]
     },
     "metadata": {},
     "output_type": "display_data"
    },
    {
     "data": {
      "text/html": [
       "<pre style=\"white-space:pre;overflow-x:auto;line-height:normal;font-family:Menlo,'DejaVu Sans Mono',consolas,'Courier New',monospace\"></pre>\n"
      ],
      "text/plain": []
     },
     "metadata": {},
     "output_type": "display_data"
    },
    {
     "data": {
      "text/html": [
       "<pre style=\"white-space:pre;overflow-x:auto;line-height:normal;font-family:Menlo,'DejaVu Sans Mono',consolas,'Courier New',monospace\">\n",
       "</pre>\n"
      ],
      "text/plain": [
       "\n"
      ]
     },
     "metadata": {},
     "output_type": "display_data"
    },
    {
     "name": "stdout",
     "output_type": "stream",
     "text": [
      "Processing batch 8 of 10\n",
      "Covariance matrix is symmetric.\n",
      "Covariance matrix is positive semi-definite (PSD).\n",
      "Condition number of the matrix: 1.11e+05\n",
      "Adding jitter made the covariance matrix positive semi-definite.\n",
      "Cholesky decomposition succeeded: Covariance matrix is positive definite.\n",
      "\n",
      "Diagnosis Complete.\n"
     ]
    },
    {
     "name": "stderr",
     "output_type": "stream",
     "text": [
      "Sampling: [f_pred_fcc70507-60b5-46e4-ba7c-f3bf23a96812]\n"
     ]
    },
    {
     "data": {
      "application/vnd.jupyter.widget-view+json": {
       "model_id": "51ee7a5f698f4b4584e865a9879a67b1",
       "version_major": 2,
       "version_minor": 0
      },
      "text/plain": [
       "Output()"
      ]
     },
     "metadata": {},
     "output_type": "display_data"
    },
    {
     "data": {
      "text/html": [
       "<pre style=\"white-space:pre;overflow-x:auto;line-height:normal;font-family:Menlo,'DejaVu Sans Mono',consolas,'Courier New',monospace\"></pre>\n"
      ],
      "text/plain": []
     },
     "metadata": {},
     "output_type": "display_data"
    },
    {
     "data": {
      "text/html": [
       "<pre style=\"white-space:pre;overflow-x:auto;line-height:normal;font-family:Menlo,'DejaVu Sans Mono',consolas,'Courier New',monospace\">\n",
       "</pre>\n"
      ],
      "text/plain": [
       "\n"
      ]
     },
     "metadata": {},
     "output_type": "display_data"
    },
    {
     "name": "stdout",
     "output_type": "stream",
     "text": [
      "Covariance matrix is symmetric.\n",
      "Covariance matrix is positive semi-definite (PSD).\n",
      "Condition number of the matrix: 9.54e+04\n",
      "Adding jitter made the covariance matrix positive semi-definite.\n",
      "Cholesky decomposition succeeded: Covariance matrix is positive definite.\n",
      "\n",
      "Diagnosis Complete.\n"
     ]
    },
    {
     "name": "stderr",
     "output_type": "stream",
     "text": [
      "Sampling: [f_pred_c614ed08-945e-491e-94cc-e5a4b20cab1e]\n"
     ]
    },
    {
     "data": {
      "application/vnd.jupyter.widget-view+json": {
       "model_id": "4cd9c9bb06f0402fbf3f647cad831e24",
       "version_major": 2,
       "version_minor": 0
      },
      "text/plain": [
       "Output()"
      ]
     },
     "metadata": {},
     "output_type": "display_data"
    },
    {
     "data": {
      "text/html": [
       "<pre style=\"white-space:pre;overflow-x:auto;line-height:normal;font-family:Menlo,'DejaVu Sans Mono',consolas,'Courier New',monospace\"></pre>\n"
      ],
      "text/plain": []
     },
     "metadata": {},
     "output_type": "display_data"
    },
    {
     "data": {
      "text/html": [
       "<pre style=\"white-space:pre;overflow-x:auto;line-height:normal;font-family:Menlo,'DejaVu Sans Mono',consolas,'Courier New',monospace\">\n",
       "</pre>\n"
      ],
      "text/plain": [
       "\n"
      ]
     },
     "metadata": {},
     "output_type": "display_data"
    },
    {
     "name": "stdout",
     "output_type": "stream",
     "text": [
      "Covariance matrix is symmetric.\n",
      "Covariance matrix is positive semi-definite (PSD).\n",
      "Condition number of the matrix: 4.01e+04\n",
      "Adding jitter made the covariance matrix positive semi-definite.\n",
      "Cholesky decomposition succeeded: Covariance matrix is positive definite.\n",
      "\n",
      "Diagnosis Complete.\n"
     ]
    },
    {
     "name": "stderr",
     "output_type": "stream",
     "text": [
      "Sampling: [f_pred_e02019fa-ae15-4021-b43b-48e629b34857]\n"
     ]
    },
    {
     "data": {
      "application/vnd.jupyter.widget-view+json": {
       "model_id": "91ac7d275ee44a4586ba983dac7d62e3",
       "version_major": 2,
       "version_minor": 0
      },
      "text/plain": [
       "Output()"
      ]
     },
     "metadata": {},
     "output_type": "display_data"
    },
    {
     "data": {
      "text/html": [
       "<pre style=\"white-space:pre;overflow-x:auto;line-height:normal;font-family:Menlo,'DejaVu Sans Mono',consolas,'Courier New',monospace\"></pre>\n"
      ],
      "text/plain": []
     },
     "metadata": {},
     "output_type": "display_data"
    },
    {
     "data": {
      "text/html": [
       "<pre style=\"white-space:pre;overflow-x:auto;line-height:normal;font-family:Menlo,'DejaVu Sans Mono',consolas,'Courier New',monospace\">\n",
       "</pre>\n"
      ],
      "text/plain": [
       "\n"
      ]
     },
     "metadata": {},
     "output_type": "display_data"
    },
    {
     "name": "stdout",
     "output_type": "stream",
     "text": [
      "Covariance matrix is symmetric.\n",
      "Covariance matrix is positive semi-definite (PSD).\n",
      "Condition number of the matrix: 5.89e+03\n",
      "Adding jitter made the covariance matrix positive semi-definite.\n",
      "Cholesky decomposition succeeded: Covariance matrix is positive definite.\n",
      "\n",
      "Diagnosis Complete.\n"
     ]
    },
    {
     "name": "stderr",
     "output_type": "stream",
     "text": [
      "Sampling: [f_pred_e25c244e-7a52-4d9f-b93a-d826fbd751aa]\n"
     ]
    },
    {
     "data": {
      "application/vnd.jupyter.widget-view+json": {
       "model_id": "6fd054086a074b858fa097b8f83ea8ca",
       "version_major": 2,
       "version_minor": 0
      },
      "text/plain": [
       "Output()"
      ]
     },
     "metadata": {},
     "output_type": "display_data"
    },
    {
     "data": {
      "text/html": [
       "<pre style=\"white-space:pre;overflow-x:auto;line-height:normal;font-family:Menlo,'DejaVu Sans Mono',consolas,'Courier New',monospace\"></pre>\n"
      ],
      "text/plain": []
     },
     "metadata": {},
     "output_type": "display_data"
    },
    {
     "data": {
      "text/html": [
       "<pre style=\"white-space:pre;overflow-x:auto;line-height:normal;font-family:Menlo,'DejaVu Sans Mono',consolas,'Courier New',monospace\">\n",
       "</pre>\n"
      ],
      "text/plain": [
       "\n"
      ]
     },
     "metadata": {},
     "output_type": "display_data"
    },
    {
     "name": "stdout",
     "output_type": "stream",
     "text": [
      "Processing batch 9 of 10\n",
      "Covariance matrix is symmetric.\n",
      "Covariance matrix is positive semi-definite (PSD).\n",
      "Condition number of the matrix: 1.09e+05\n",
      "Adding jitter made the covariance matrix positive semi-definite.\n",
      "Cholesky decomposition succeeded: Covariance matrix is positive definite.\n",
      "\n",
      "Diagnosis Complete.\n"
     ]
    },
    {
     "name": "stderr",
     "output_type": "stream",
     "text": [
      "Sampling: [f_pred_14604396-7fd2-4d02-896c-03899f53a694]\n"
     ]
    },
    {
     "data": {
      "application/vnd.jupyter.widget-view+json": {
       "model_id": "944aeb7a45c64e8c81622e340cb18b1f",
       "version_major": 2,
       "version_minor": 0
      },
      "text/plain": [
       "Output()"
      ]
     },
     "metadata": {},
     "output_type": "display_data"
    },
    {
     "data": {
      "text/html": [
       "<pre style=\"white-space:pre;overflow-x:auto;line-height:normal;font-family:Menlo,'DejaVu Sans Mono',consolas,'Courier New',monospace\"></pre>\n"
      ],
      "text/plain": []
     },
     "metadata": {},
     "output_type": "display_data"
    },
    {
     "data": {
      "text/html": [
       "<pre style=\"white-space:pre;overflow-x:auto;line-height:normal;font-family:Menlo,'DejaVu Sans Mono',consolas,'Courier New',monospace\">\n",
       "</pre>\n"
      ],
      "text/plain": [
       "\n"
      ]
     },
     "metadata": {},
     "output_type": "display_data"
    },
    {
     "name": "stdout",
     "output_type": "stream",
     "text": [
      "Covariance matrix is symmetric.\n",
      "Covariance matrix is positive semi-definite (PSD).\n",
      "Condition number of the matrix: 9.60e+04\n",
      "Adding jitter made the covariance matrix positive semi-definite.\n",
      "Cholesky decomposition succeeded: Covariance matrix is positive definite.\n",
      "\n",
      "Diagnosis Complete.\n"
     ]
    },
    {
     "name": "stderr",
     "output_type": "stream",
     "text": [
      "Sampling: [f_pred_489346a0-955e-42c9-921d-e6ad4218743e]\n"
     ]
    },
    {
     "data": {
      "application/vnd.jupyter.widget-view+json": {
       "model_id": "71530d00c36b4ba6b2d961e93a3d991b",
       "version_major": 2,
       "version_minor": 0
      },
      "text/plain": [
       "Output()"
      ]
     },
     "metadata": {},
     "output_type": "display_data"
    },
    {
     "data": {
      "text/html": [
       "<pre style=\"white-space:pre;overflow-x:auto;line-height:normal;font-family:Menlo,'DejaVu Sans Mono',consolas,'Courier New',monospace\"></pre>\n"
      ],
      "text/plain": []
     },
     "metadata": {},
     "output_type": "display_data"
    },
    {
     "data": {
      "text/html": [
       "<pre style=\"white-space:pre;overflow-x:auto;line-height:normal;font-family:Menlo,'DejaVu Sans Mono',consolas,'Courier New',monospace\">\n",
       "</pre>\n"
      ],
      "text/plain": [
       "\n"
      ]
     },
     "metadata": {},
     "output_type": "display_data"
    },
    {
     "name": "stdout",
     "output_type": "stream",
     "text": [
      "Covariance matrix is symmetric.\n",
      "Covariance matrix is positive semi-definite (PSD).\n",
      "Condition number of the matrix: 4.36e+04\n",
      "Adding jitter made the covariance matrix positive semi-definite.\n",
      "Cholesky decomposition succeeded: Covariance matrix is positive definite.\n",
      "\n",
      "Diagnosis Complete.\n"
     ]
    },
    {
     "name": "stderr",
     "output_type": "stream",
     "text": [
      "Sampling: [f_pred_a34f256a-fa70-40d4-9e3c-1a9d3b1517d1]\n"
     ]
    },
    {
     "data": {
      "application/vnd.jupyter.widget-view+json": {
       "model_id": "3aa407b5595b47ab8f3865efb63ec181",
       "version_major": 2,
       "version_minor": 0
      },
      "text/plain": [
       "Output()"
      ]
     },
     "metadata": {},
     "output_type": "display_data"
    },
    {
     "data": {
      "text/html": [
       "<pre style=\"white-space:pre;overflow-x:auto;line-height:normal;font-family:Menlo,'DejaVu Sans Mono',consolas,'Courier New',monospace\"></pre>\n"
      ],
      "text/plain": []
     },
     "metadata": {},
     "output_type": "display_data"
    },
    {
     "data": {
      "text/html": [
       "<pre style=\"white-space:pre;overflow-x:auto;line-height:normal;font-family:Menlo,'DejaVu Sans Mono',consolas,'Courier New',monospace\">\n",
       "</pre>\n"
      ],
      "text/plain": [
       "\n"
      ]
     },
     "metadata": {},
     "output_type": "display_data"
    },
    {
     "name": "stdout",
     "output_type": "stream",
     "text": [
      "Covariance matrix is symmetric.\n",
      "Covariance matrix is positive semi-definite (PSD).\n",
      "Condition number of the matrix: 6.74e+03\n",
      "Adding jitter made the covariance matrix positive semi-definite.\n",
      "Cholesky decomposition succeeded: Covariance matrix is positive definite.\n",
      "\n",
      "Diagnosis Complete.\n"
     ]
    },
    {
     "name": "stderr",
     "output_type": "stream",
     "text": [
      "Sampling: [f_pred_6c88ed5d-80b0-4c69-bf37-49b39bfe1cce]\n"
     ]
    },
    {
     "data": {
      "application/vnd.jupyter.widget-view+json": {
       "model_id": "be7b6de1b1554b9da248ed4639771e47",
       "version_major": 2,
       "version_minor": 0
      },
      "text/plain": [
       "Output()"
      ]
     },
     "metadata": {},
     "output_type": "display_data"
    },
    {
     "data": {
      "text/html": [
       "<pre style=\"white-space:pre;overflow-x:auto;line-height:normal;font-family:Menlo,'DejaVu Sans Mono',consolas,'Courier New',monospace\"></pre>\n"
      ],
      "text/plain": []
     },
     "metadata": {},
     "output_type": "display_data"
    },
    {
     "data": {
      "text/html": [
       "<pre style=\"white-space:pre;overflow-x:auto;line-height:normal;font-family:Menlo,'DejaVu Sans Mono',consolas,'Courier New',monospace\">\n",
       "</pre>\n"
      ],
      "text/plain": [
       "\n"
      ]
     },
     "metadata": {},
     "output_type": "display_data"
    },
    {
     "name": "stdout",
     "output_type": "stream",
     "text": [
      "Processing batch 10 of 10\n",
      "Covariance matrix is symmetric.\n",
      "Covariance matrix is positive semi-definite (PSD).\n",
      "Condition number of the matrix: 1.35e+05\n",
      "Adding jitter made the covariance matrix positive semi-definite.\n",
      "Cholesky decomposition succeeded: Covariance matrix is positive definite.\n",
      "\n",
      "Diagnosis Complete.\n"
     ]
    },
    {
     "name": "stderr",
     "output_type": "stream",
     "text": [
      "Sampling: [f_pred_6d0d1171-6bed-4779-96a6-1b6beb67fd4a]\n"
     ]
    },
    {
     "data": {
      "application/vnd.jupyter.widget-view+json": {
       "model_id": "4bdec482d030499d85a1d1cdd11621e0",
       "version_major": 2,
       "version_minor": 0
      },
      "text/plain": [
       "Output()"
      ]
     },
     "metadata": {},
     "output_type": "display_data"
    },
    {
     "data": {
      "text/html": [
       "<pre style=\"white-space:pre;overflow-x:auto;line-height:normal;font-family:Menlo,'DejaVu Sans Mono',consolas,'Courier New',monospace\"></pre>\n"
      ],
      "text/plain": []
     },
     "metadata": {},
     "output_type": "display_data"
    },
    {
     "data": {
      "text/html": [
       "<pre style=\"white-space:pre;overflow-x:auto;line-height:normal;font-family:Menlo,'DejaVu Sans Mono',consolas,'Courier New',monospace\">\n",
       "</pre>\n"
      ],
      "text/plain": [
       "\n"
      ]
     },
     "metadata": {},
     "output_type": "display_data"
    },
    {
     "name": "stdout",
     "output_type": "stream",
     "text": [
      "Covariance matrix is symmetric.\n",
      "Covariance matrix is positive semi-definite (PSD).\n",
      "Condition number of the matrix: 1.15e+05\n",
      "Adding jitter made the covariance matrix positive semi-definite.\n",
      "Cholesky decomposition succeeded: Covariance matrix is positive definite.\n",
      "\n",
      "Diagnosis Complete.\n"
     ]
    },
    {
     "name": "stderr",
     "output_type": "stream",
     "text": [
      "Sampling: [f_pred_81ad02c0-0b8c-4328-a9f4-62fad8bdba16]\n"
     ]
    },
    {
     "data": {
      "application/vnd.jupyter.widget-view+json": {
       "model_id": "b800dc31513341dfa8bb0236c8f542dd",
       "version_major": 2,
       "version_minor": 0
      },
      "text/plain": [
       "Output()"
      ]
     },
     "metadata": {},
     "output_type": "display_data"
    },
    {
     "data": {
      "text/html": [
       "<pre style=\"white-space:pre;overflow-x:auto;line-height:normal;font-family:Menlo,'DejaVu Sans Mono',consolas,'Courier New',monospace\"></pre>\n"
      ],
      "text/plain": []
     },
     "metadata": {},
     "output_type": "display_data"
    },
    {
     "data": {
      "text/html": [
       "<pre style=\"white-space:pre;overflow-x:auto;line-height:normal;font-family:Menlo,'DejaVu Sans Mono',consolas,'Courier New',monospace\">\n",
       "</pre>\n"
      ],
      "text/plain": [
       "\n"
      ]
     },
     "metadata": {},
     "output_type": "display_data"
    },
    {
     "name": "stdout",
     "output_type": "stream",
     "text": [
      "Covariance matrix is symmetric.\n",
      "Covariance matrix is positive semi-definite (PSD).\n",
      "Condition number of the matrix: 4.59e+04\n",
      "Adding jitter made the covariance matrix positive semi-definite.\n",
      "Cholesky decomposition succeeded: Covariance matrix is positive definite.\n",
      "\n",
      "Diagnosis Complete.\n"
     ]
    },
    {
     "name": "stderr",
     "output_type": "stream",
     "text": [
      "Sampling: [f_pred_a7f1f158-3b55-4b38-a9f8-2937de127fc8]\n"
     ]
    },
    {
     "data": {
      "application/vnd.jupyter.widget-view+json": {
       "model_id": "f1c5570c257f4470a892b60c17bebf44",
       "version_major": 2,
       "version_minor": 0
      },
      "text/plain": [
       "Output()"
      ]
     },
     "metadata": {},
     "output_type": "display_data"
    },
    {
     "data": {
      "text/html": [
       "<pre style=\"white-space:pre;overflow-x:auto;line-height:normal;font-family:Menlo,'DejaVu Sans Mono',consolas,'Courier New',monospace\"></pre>\n"
      ],
      "text/plain": []
     },
     "metadata": {},
     "output_type": "display_data"
    },
    {
     "data": {
      "text/html": [
       "<pre style=\"white-space:pre;overflow-x:auto;line-height:normal;font-family:Menlo,'DejaVu Sans Mono',consolas,'Courier New',monospace\">\n",
       "</pre>\n"
      ],
      "text/plain": [
       "\n"
      ]
     },
     "metadata": {},
     "output_type": "display_data"
    },
    {
     "name": "stdout",
     "output_type": "stream",
     "text": [
      "Covariance matrix is symmetric.\n",
      "Covariance matrix is positive semi-definite (PSD).\n",
      "Condition number of the matrix: 6.56e+03\n",
      "Adding jitter made the covariance matrix positive semi-definite.\n",
      "Cholesky decomposition succeeded: Covariance matrix is positive definite.\n",
      "\n",
      "Diagnosis Complete.\n"
     ]
    },
    {
     "name": "stderr",
     "output_type": "stream",
     "text": [
      "Sampling: [f_pred_b16e7b9a-83af-4aa6-950f-e312dfd693ef]\n"
     ]
    },
    {
     "data": {
      "application/vnd.jupyter.widget-view+json": {
       "model_id": "f0ba9853d6ed4435a08732b4a6a9409c",
       "version_major": 2,
       "version_minor": 0
      },
      "text/plain": [
       "Output()"
      ]
     },
     "metadata": {},
     "output_type": "display_data"
    },
    {
     "data": {
      "text/html": [
       "<pre style=\"white-space:pre;overflow-x:auto;line-height:normal;font-family:Menlo,'DejaVu Sans Mono',consolas,'Courier New',monospace\"></pre>\n"
      ],
      "text/plain": []
     },
     "metadata": {},
     "output_type": "display_data"
    },
    {
     "data": {
      "text/html": [
       "<pre style=\"white-space:pre;overflow-x:auto;line-height:normal;font-family:Menlo,'DejaVu Sans Mono',consolas,'Courier New',monospace\">\n",
       "</pre>\n"
      ],
      "text/plain": [
       "\n"
      ]
     },
     "metadata": {},
     "output_type": "display_data"
    },
    {
     "name": "stdout",
     "output_type": "stream",
     "text": [
      "Batch processing completed. Results combined into a single DataFrame.\n"
     ]
    }
   ],
   "source": [
    "# Example usage\n",
    "batch_size = 10  # Adjust batch size based on your system's memory capacity\n",
    "\n",
    "# Ensure that X_new and coordinates_new are properly defined and standardized\n",
    "all_predictions_df = process_in_batches(model, X_new, coordinates_new, idata, response, batch_size=batch_size)\n",
    "\n",
    "# Create a DataFrame to store the results along with the grid IDs\n",
    "df3 = pd.concat([df2['grid_id'].reset_index(drop=True), all_predictions_df], axis=1)\n",
    "\n",
    "print(\"Batch processing completed. Results combined into a single DataFrame.\")\n"
   ]
  },
  {
   "cell_type": "markdown",
   "id": "277b3166-cca2-409b-8bcc-ee678ac1673f",
   "metadata": {},
   "source": [
    "## Testing the model results\n",
    "\n",
    "1. Posterior Predictive Checks\n",
    "2. Prediction Accuracy Metrics\n",
    "3. Residual Analysis\n",
    "4. Uncertainty Quantification"
   ]
  },
  {
   "cell_type": "markdown",
   "id": "2d960452-f2b8-480e-8571-17dd1e06afe0",
   "metadata": {},
   "source": [
    "### Posterior Predictive Checks:\n",
    "\n",
    "Posterior Predictive Distribution: Compare the observed data to the posterior predictive distribution of the model. This involves generating new data based on the posterior distributions of the model parameters and comparing these simulated data to the actual observations.\n"
   ]
  },
  {
   "cell_type": "code",
   "execution_count": 20,
   "id": "8c3707ef-231e-443a-9bb1-13368730d3fb",
   "metadata": {
    "tags": []
   },
   "outputs": [
    {
     "name": "stderr",
     "output_type": "stream",
     "text": [
      "Sampling: [y_obs]\n"
     ]
    },
    {
     "data": {
      "application/vnd.jupyter.widget-view+json": {
       "model_id": "1c9076096c494c5a9455a1a44f99b614",
       "version_major": 2,
       "version_minor": 0
      },
      "text/plain": [
       "Output()"
      ]
     },
     "metadata": {},
     "output_type": "display_data"
    },
    {
     "data": {
      "text/html": [
       "<pre style=\"white-space:pre;overflow-x:auto;line-height:normal;font-family:Menlo,'DejaVu Sans Mono',consolas,'Courier New',monospace\"></pre>\n"
      ],
      "text/plain": []
     },
     "metadata": {},
     "output_type": "display_data"
    },
    {
     "data": {
      "text/html": [
       "<pre style=\"white-space:pre;overflow-x:auto;line-height:normal;font-family:Menlo,'DejaVu Sans Mono',consolas,'Courier New',monospace\">\n",
       "</pre>\n"
      ],
      "text/plain": [
       "\n"
      ]
     },
     "metadata": {},
     "output_type": "display_data"
    },
    {
     "ename": "TypeError",
     "evalue": "(\"The type's shape ((9,)) is not compatible with the data's ((8,))\", 'Container name \"beta\"')",
     "output_type": "error",
     "traceback": [
      "\u001b[0;31m---------------------------------------------------------------------------\u001b[0m",
      "\u001b[0;31mNotImplementedError\u001b[0m                       Traceback (most recent call last)",
      "File \u001b[0;32m~/miniconda3/envs/pymc_env/lib/python3.12/site-packages/pytensor/link/basic.py:102\u001b[0m, in \u001b[0;36mContainer.__set__\u001b[0;34m(self, value)\u001b[0m\n\u001b[1;32m    100\u001b[0m \u001b[38;5;28;01mtry\u001b[39;00m:\n\u001b[1;32m    101\u001b[0m     \u001b[38;5;66;03m# Use in-place filtering when/if possible\u001b[39;00m\n\u001b[0;32m--> 102\u001b[0m     \u001b[38;5;28mself\u001b[39m\u001b[38;5;241m.\u001b[39mstorage[\u001b[38;5;241m0\u001b[39m] \u001b[38;5;241m=\u001b[39m \u001b[38;5;28;43mself\u001b[39;49m\u001b[38;5;241;43m.\u001b[39;49m\u001b[43mtype\u001b[49m\u001b[38;5;241;43m.\u001b[39;49m\u001b[43mfilter_inplace\u001b[49m\u001b[43m(\u001b[49m\n\u001b[1;32m    103\u001b[0m \u001b[43m        \u001b[49m\u001b[43mvalue\u001b[49m\u001b[43m,\u001b[49m\u001b[43m \u001b[49m\u001b[38;5;28;43mself\u001b[39;49m\u001b[38;5;241;43m.\u001b[39;49m\u001b[43mstorage\u001b[49m\u001b[43m[\u001b[49m\u001b[38;5;241;43m0\u001b[39;49m\u001b[43m]\u001b[49m\u001b[43m,\u001b[49m\u001b[43m \u001b[49m\u001b[38;5;241;43m*\u001b[39;49m\u001b[38;5;241;43m*\u001b[39;49m\u001b[43mkwargs\u001b[49m\n\u001b[1;32m    104\u001b[0m \u001b[43m    \u001b[49m\u001b[43m)\u001b[49m\n\u001b[1;32m    105\u001b[0m \u001b[38;5;28;01mexcept\u001b[39;00m \u001b[38;5;167;01mNotImplementedError\u001b[39;00m:\n",
      "File \u001b[0;32m~/miniconda3/envs/pymc_env/lib/python3.12/site-packages/pytensor/graph/type.py:128\u001b[0m, in \u001b[0;36mType.filter_inplace\u001b[0;34m(self, value, storage, strict, allow_downcast)\u001b[0m\n\u001b[1;32m    109\u001b[0m \u001b[38;5;250m\u001b[39m\u001b[38;5;124;03m\"\"\"Return data or an appropriately wrapped/converted data by converting it in-place.\u001b[39;00m\n\u001b[1;32m    110\u001b[0m \n\u001b[1;32m    111\u001b[0m \u001b[38;5;124;03mThis method allows one to reuse old allocated memory.  If this method\u001b[39;00m\n\u001b[0;32m   (...)\u001b[0m\n\u001b[1;32m    126\u001b[0m \u001b[38;5;124;03mNotImplementedError\u001b[39;00m\n\u001b[1;32m    127\u001b[0m \u001b[38;5;124;03m\"\"\"\u001b[39;00m\n\u001b[0;32m--> 128\u001b[0m \u001b[38;5;28;01mraise\u001b[39;00m \u001b[38;5;167;01mNotImplementedError\u001b[39;00m()\n",
      "\u001b[0;31mNotImplementedError\u001b[0m: ",
      "\nDuring handling of the above exception, another exception occurred:\n",
      "\u001b[0;31mTypeError\u001b[0m                                 Traceback (most recent call last)",
      "Cell \u001b[0;32mIn[20], line 3\u001b[0m\n\u001b[1;32m      1\u001b[0m \u001b[38;5;66;03m# Generate posterior predictive samples for checks\u001b[39;00m\n\u001b[1;32m      2\u001b[0m \u001b[38;5;28;01mwith\u001b[39;00m model:\n\u001b[0;32m----> 3\u001b[0m     posterior_predictive \u001b[38;5;241m=\u001b[39m \u001b[43mpm\u001b[49m\u001b[38;5;241;43m.\u001b[39;49m\u001b[43msample_posterior_predictive\u001b[49m\u001b[43m(\u001b[49m\u001b[43midata\u001b[49m\u001b[43m,\u001b[49m\u001b[43m \u001b[49m\u001b[43mvar_names\u001b[49m\u001b[38;5;241;43m=\u001b[39;49m\u001b[43m[\u001b[49m\u001b[38;5;124;43m'\u001b[39;49m\u001b[38;5;124;43my_obs\u001b[39;49m\u001b[38;5;124;43m'\u001b[39;49m\u001b[43m]\u001b[49m\u001b[43m,\u001b[49m\u001b[43m \u001b[49m\u001b[43mreturn_inferencedata\u001b[49m\u001b[38;5;241;43m=\u001b[39;49m\u001b[38;5;28;43;01mTrue\u001b[39;49;00m\u001b[43m)\u001b[49m\n\u001b[1;32m      5\u001b[0m \u001b[38;5;66;03m# Plot posterior predictive checks\u001b[39;00m\n\u001b[1;32m      6\u001b[0m az\u001b[38;5;241m.\u001b[39mplot_ppc(posterior_predictive, kind\u001b[38;5;241m=\u001b[39m\u001b[38;5;124m'\u001b[39m\u001b[38;5;124mkde\u001b[39m\u001b[38;5;124m'\u001b[39m, data_pairs\u001b[38;5;241m=\u001b[39m{\u001b[38;5;124m'\u001b[39m\u001b[38;5;124my_obs\u001b[39m\u001b[38;5;124m'\u001b[39m: \u001b[38;5;124m'\u001b[39m\u001b[38;5;124my_obs\u001b[39m\u001b[38;5;124m'\u001b[39m})\n",
      "File \u001b[0;32m~/miniconda3/envs/pymc_env/lib/python3.12/site-packages/pymc/sampling/forward.py:885\u001b[0m, in \u001b[0;36msample_posterior_predictive\u001b[0;34m(trace, model, var_names, sample_dims, random_seed, progressbar, progressbar_theme, return_inferencedata, extend_inferencedata, predictions, idata_kwargs, compile_kwargs)\u001b[0m\n\u001b[1;32m    880\u001b[0m \u001b[38;5;66;03m# there's only a single chain, but the index might hit it multiple times if\u001b[39;00m\n\u001b[1;32m    881\u001b[0m \u001b[38;5;66;03m# the number of indices is greater than the length of the trace.\u001b[39;00m\n\u001b[1;32m    882\u001b[0m \u001b[38;5;28;01melse\u001b[39;00m:\n\u001b[1;32m    883\u001b[0m     param \u001b[38;5;241m=\u001b[39m _trace[idx \u001b[38;5;241m%\u001b[39m len_trace]\n\u001b[0;32m--> 885\u001b[0m values \u001b[38;5;241m=\u001b[39m \u001b[43msampler_fn\u001b[49m\u001b[43m(\u001b[49m\u001b[38;5;241;43m*\u001b[39;49m\u001b[38;5;241;43m*\u001b[39;49m\u001b[43mparam\u001b[49m\u001b[43m)\u001b[49m\n\u001b[1;32m    887\u001b[0m \u001b[38;5;28;01mfor\u001b[39;00m k, v \u001b[38;5;129;01min\u001b[39;00m \u001b[38;5;28mzip\u001b[39m(vars_, values):\n\u001b[1;32m    888\u001b[0m     ppc_trace_t\u001b[38;5;241m.\u001b[39minsert(k\u001b[38;5;241m.\u001b[39mname, v, idx)\n",
      "File \u001b[0;32m~/miniconda3/envs/pymc_env/lib/python3.12/site-packages/pymc/util.py:395\u001b[0m, in \u001b[0;36mpoint_wrapper.<locals>.wrapped\u001b[0;34m(**kwargs)\u001b[0m\n\u001b[1;32m    393\u001b[0m \u001b[38;5;28;01mdef\u001b[39;00m \u001b[38;5;21mwrapped\u001b[39m(\u001b[38;5;241m*\u001b[39m\u001b[38;5;241m*\u001b[39mkwargs):\n\u001b[1;32m    394\u001b[0m     input_point \u001b[38;5;241m=\u001b[39m {k: v \u001b[38;5;28;01mfor\u001b[39;00m k, v \u001b[38;5;129;01min\u001b[39;00m kwargs\u001b[38;5;241m.\u001b[39mitems() \u001b[38;5;28;01mif\u001b[39;00m k \u001b[38;5;129;01min\u001b[39;00m ins}\n\u001b[0;32m--> 395\u001b[0m     \u001b[38;5;28;01mreturn\u001b[39;00m \u001b[43mcore_function\u001b[49m\u001b[43m(\u001b[49m\u001b[38;5;241;43m*\u001b[39;49m\u001b[38;5;241;43m*\u001b[39;49m\u001b[43minput_point\u001b[49m\u001b[43m)\u001b[49m\n",
      "File \u001b[0;32m~/miniconda3/envs/pymc_env/lib/python3.12/site-packages/pytensor/compile/function/types.py:886\u001b[0m, in \u001b[0;36mFunction.__call__\u001b[0;34m(self, *args, **kwargs)\u001b[0m\n\u001b[1;32m    884\u001b[0m \u001b[38;5;28;01mif\u001b[39;00m kwargs:  \u001b[38;5;66;03m# for speed, skip the items for empty kwargs\u001b[39;00m\n\u001b[1;32m    885\u001b[0m     \u001b[38;5;28;01mfor\u001b[39;00m k, arg \u001b[38;5;129;01min\u001b[39;00m kwargs\u001b[38;5;241m.\u001b[39mitems():\n\u001b[0;32m--> 886\u001b[0m         \u001b[38;5;28;43mself\u001b[39;49m\u001b[43m[\u001b[49m\u001b[43mk\u001b[49m\u001b[43m]\u001b[49m \u001b[38;5;241m=\u001b[39m arg\n\u001b[1;32m    888\u001b[0m \u001b[38;5;28;01mif\u001b[39;00m (\n\u001b[1;32m    889\u001b[0m     \u001b[38;5;129;01mnot\u001b[39;00m \u001b[38;5;28mself\u001b[39m\u001b[38;5;241m.\u001b[39mtrust_input\n\u001b[1;32m    890\u001b[0m     \u001b[38;5;129;01mand\u001b[39;00m\n\u001b[0;32m   (...)\u001b[0m\n\u001b[1;32m    893\u001b[0m ):\n\u001b[1;32m    894\u001b[0m     \u001b[38;5;66;03m# Collect aliased inputs among the storage space\u001b[39;00m\n\u001b[1;32m    895\u001b[0m     args_share_memory \u001b[38;5;241m=\u001b[39m []\n",
      "File \u001b[0;32m~/miniconda3/envs/pymc_env/lib/python3.12/site-packages/pytensor/compile/function/types.py:544\u001b[0m, in \u001b[0;36mFunction.__setitem__\u001b[0;34m(self, item, value)\u001b[0m\n\u001b[1;32m    543\u001b[0m \u001b[38;5;28;01mdef\u001b[39;00m \u001b[38;5;21m__setitem__\u001b[39m(\u001b[38;5;28mself\u001b[39m, item, value):\n\u001b[0;32m--> 544\u001b[0m     \u001b[38;5;28;43mself\u001b[39;49m\u001b[38;5;241;43m.\u001b[39;49m\u001b[43mvalue\u001b[49m\u001b[43m[\u001b[49m\u001b[43mitem\u001b[49m\u001b[43m]\u001b[49m \u001b[38;5;241m=\u001b[39m value\n",
      "File \u001b[0;32m~/miniconda3/envs/pymc_env/lib/python3.12/site-packages/pytensor/compile/function/types.py:500\u001b[0m, in \u001b[0;36mFunction.__init__.<locals>.ValueAttribute.__setitem__\u001b[0;34m(self, item, value)\u001b[0m\n\u001b[1;32m    494\u001b[0m     \u001b[38;5;28;01mraise\u001b[39;00m \u001b[38;5;167;01mTypeError\u001b[39;00m(\n\u001b[1;32m    495\u001b[0m         \u001b[38;5;124mf\u001b[39m\u001b[38;5;124m\"\u001b[39m\u001b[38;5;124mAmbiguous name: \u001b[39m\u001b[38;5;132;01m{\u001b[39;00mitem\u001b[38;5;132;01m}\u001b[39;00m\u001b[38;5;124m - please check the \u001b[39m\u001b[38;5;124m\"\u001b[39m\n\u001b[1;32m    496\u001b[0m         \u001b[38;5;124m\"\u001b[39m\u001b[38;5;124mnames of the inputs of your function \u001b[39m\u001b[38;5;124m\"\u001b[39m\n\u001b[1;32m    497\u001b[0m         \u001b[38;5;124m\"\u001b[39m\u001b[38;5;124mfor duplicates.\u001b[39m\u001b[38;5;124m\"\u001b[39m\n\u001b[1;32m    498\u001b[0m     )\n\u001b[1;32m    499\u001b[0m \u001b[38;5;28;01mif\u001b[39;00m \u001b[38;5;28misinstance\u001b[39m(s, Container):\n\u001b[0;32m--> 500\u001b[0m     \u001b[43ms\u001b[49m\u001b[38;5;241;43m.\u001b[39;49m\u001b[43mvalue\u001b[49m \u001b[38;5;241m=\u001b[39m value\n\u001b[1;32m    501\u001b[0m     s\u001b[38;5;241m.\u001b[39mprovided \u001b[38;5;241m+\u001b[39m\u001b[38;5;241m=\u001b[39m \u001b[38;5;241m1\u001b[39m\n\u001b[1;32m    502\u001b[0m \u001b[38;5;28;01melse\u001b[39;00m:\n",
      "File \u001b[0;32m~/miniconda3/envs/pymc_env/lib/python3.12/site-packages/pytensor/link/basic.py:106\u001b[0m, in \u001b[0;36mContainer.__set__\u001b[0;34m(self, value)\u001b[0m\n\u001b[1;32m    102\u001b[0m         \u001b[38;5;28mself\u001b[39m\u001b[38;5;241m.\u001b[39mstorage[\u001b[38;5;241m0\u001b[39m] \u001b[38;5;241m=\u001b[39m \u001b[38;5;28mself\u001b[39m\u001b[38;5;241m.\u001b[39mtype\u001b[38;5;241m.\u001b[39mfilter_inplace(\n\u001b[1;32m    103\u001b[0m             value, \u001b[38;5;28mself\u001b[39m\u001b[38;5;241m.\u001b[39mstorage[\u001b[38;5;241m0\u001b[39m], \u001b[38;5;241m*\u001b[39m\u001b[38;5;241m*\u001b[39mkwargs\n\u001b[1;32m    104\u001b[0m         )\n\u001b[1;32m    105\u001b[0m     \u001b[38;5;28;01mexcept\u001b[39;00m \u001b[38;5;167;01mNotImplementedError\u001b[39;00m:\n\u001b[0;32m--> 106\u001b[0m         \u001b[38;5;28mself\u001b[39m\u001b[38;5;241m.\u001b[39mstorage[\u001b[38;5;241m0\u001b[39m] \u001b[38;5;241m=\u001b[39m \u001b[38;5;28;43mself\u001b[39;49m\u001b[38;5;241;43m.\u001b[39;49m\u001b[43mtype\u001b[49m\u001b[38;5;241;43m.\u001b[39;49m\u001b[43mfilter\u001b[49m\u001b[43m(\u001b[49m\u001b[43mvalue\u001b[49m\u001b[43m,\u001b[49m\u001b[43m \u001b[49m\u001b[38;5;241;43m*\u001b[39;49m\u001b[38;5;241;43m*\u001b[39;49m\u001b[43mkwargs\u001b[49m\u001b[43m)\u001b[49m\n\u001b[1;32m    108\u001b[0m \u001b[38;5;28;01mexcept\u001b[39;00m \u001b[38;5;167;01mException\u001b[39;00m \u001b[38;5;28;01mas\u001b[39;00m e:\n\u001b[1;32m    109\u001b[0m     e\u001b[38;5;241m.\u001b[39margs \u001b[38;5;241m=\u001b[39m (\u001b[38;5;241m*\u001b[39me\u001b[38;5;241m.\u001b[39margs, \u001b[38;5;124mf\u001b[39m\u001b[38;5;124m'\u001b[39m\u001b[38;5;124mContainer name \u001b[39m\u001b[38;5;124m\"\u001b[39m\u001b[38;5;132;01m{\u001b[39;00m\u001b[38;5;28mself\u001b[39m\u001b[38;5;241m.\u001b[39mname\u001b[38;5;132;01m}\u001b[39;00m\u001b[38;5;124m\"\u001b[39m\u001b[38;5;124m'\u001b[39m)\n",
      "File \u001b[0;32m~/miniconda3/envs/pymc_env/lib/python3.12/site-packages/pytensor/tensor/type.py:256\u001b[0m, in \u001b[0;36mTensorType.filter\u001b[0;34m(self, data, strict, allow_downcast)\u001b[0m\n\u001b[1;32m    247\u001b[0m     \u001b[38;5;28;01mraise\u001b[39;00m \u001b[38;5;167;01mTypeError\u001b[39;00m(\n\u001b[1;32m    248\u001b[0m         \u001b[38;5;124m\"\u001b[39m\u001b[38;5;124mThe numpy.ndarray object is not aligned.\u001b[39m\u001b[38;5;124m\"\u001b[39m\n\u001b[1;32m    249\u001b[0m         \u001b[38;5;124m\"\u001b[39m\u001b[38;5;124m PyTensor C code does not support that.\u001b[39m\u001b[38;5;124m\"\u001b[39m,\n\u001b[1;32m    250\u001b[0m     )\n\u001b[1;32m    252\u001b[0m \u001b[38;5;28;01mif\u001b[39;00m \u001b[38;5;129;01mnot\u001b[39;00m \u001b[38;5;28mall\u001b[39m(\n\u001b[1;32m    253\u001b[0m     ds \u001b[38;5;241m==\u001b[39m ts \u001b[38;5;28;01mif\u001b[39;00m ts \u001b[38;5;129;01mis\u001b[39;00m \u001b[38;5;129;01mnot\u001b[39;00m \u001b[38;5;28;01mNone\u001b[39;00m \u001b[38;5;28;01melse\u001b[39;00m \u001b[38;5;28;01mTrue\u001b[39;00m\n\u001b[1;32m    254\u001b[0m     \u001b[38;5;28;01mfor\u001b[39;00m ds, ts \u001b[38;5;129;01min\u001b[39;00m \u001b[38;5;28mzip\u001b[39m(data\u001b[38;5;241m.\u001b[39mshape, \u001b[38;5;28mself\u001b[39m\u001b[38;5;241m.\u001b[39mshape)\n\u001b[1;32m    255\u001b[0m ):\n\u001b[0;32m--> 256\u001b[0m     \u001b[38;5;28;01mraise\u001b[39;00m \u001b[38;5;167;01mTypeError\u001b[39;00m(\n\u001b[1;32m    257\u001b[0m         \u001b[38;5;124mf\u001b[39m\u001b[38;5;124m\"\u001b[39m\u001b[38;5;124mThe type\u001b[39m\u001b[38;5;124m'\u001b[39m\u001b[38;5;124ms shape (\u001b[39m\u001b[38;5;132;01m{\u001b[39;00m\u001b[38;5;28mself\u001b[39m\u001b[38;5;241m.\u001b[39mshape\u001b[38;5;132;01m}\u001b[39;00m\u001b[38;5;124m) is not compatible with the data\u001b[39m\u001b[38;5;124m'\u001b[39m\u001b[38;5;124ms (\u001b[39m\u001b[38;5;132;01m{\u001b[39;00mdata\u001b[38;5;241m.\u001b[39mshape\u001b[38;5;132;01m}\u001b[39;00m\u001b[38;5;124m)\u001b[39m\u001b[38;5;124m\"\u001b[39m\n\u001b[1;32m    258\u001b[0m     )\n\u001b[1;32m    260\u001b[0m \u001b[38;5;28;01mif\u001b[39;00m \u001b[38;5;28mself\u001b[39m\u001b[38;5;241m.\u001b[39mfilter_checks_isfinite \u001b[38;5;129;01mand\u001b[39;00m \u001b[38;5;129;01mnot\u001b[39;00m np\u001b[38;5;241m.\u001b[39mall(np\u001b[38;5;241m.\u001b[39misfinite(data)):\n\u001b[1;32m    261\u001b[0m     \u001b[38;5;28;01mraise\u001b[39;00m \u001b[38;5;167;01mValueError\u001b[39;00m(\u001b[38;5;124m\"\u001b[39m\u001b[38;5;124mNon-finite elements not allowed\u001b[39m\u001b[38;5;124m\"\u001b[39m)\n",
      "\u001b[0;31mTypeError\u001b[0m: (\"The type's shape ((9,)) is not compatible with the data's ((8,))\", 'Container name \"beta\"')"
     ]
    }
   ],
   "source": [
    "# Generate posterior predictive samples for checks\n",
    "with model:\n",
    "    posterior_predictive = pm.sample_posterior_predictive(idata, var_names=['y_obs'], return_inferencedata=True)\n",
    "\n",
    "# Plot posterior predictive checks\n",
    "az.plot_ppc(posterior_predictive, kind='kde', data_pairs={'y_obs': 'y_obs'})\n",
    "\n",
    "# Show the plot\n",
    "plt.show()"
   ]
  },
  {
   "cell_type": "code",
   "execution_count": 27,
   "id": "7851b878-4927-4124-885f-d98fb9ac824b",
   "metadata": {
    "tags": []
   },
   "outputs": [
    {
     "data": {
      "text/plain": [
       "array([<Axes: title={'center': '95.0% HDI'}>,\n",
       "       <Axes: title={'center': 'r_hat'}>], dtype=object)"
      ]
     },
     "execution_count": 27,
     "metadata": {},
     "output_type": "execute_result"
    },
    {
     "data": {
      "image/png": "[encoded data removed]",
      "text/plain": [
       "<Figure size 800x490 with 2 Axes>"
      ]
     },
     "metadata": {},
     "output_type": "display_data"
    }
   ],
   "source": [
    "az.plot_forest(idata, var_names=[\"beta\"], combined=True, hdi_prob=0.95, r_hat=True)"
   ]
  },
  {
   "cell_type": "markdown",
   "id": "59d434ce-055c-4c24-8f3d-8bd0c785e6db",
   "metadata": {},
   "source": [
    "### Prediction Accuracy Metrics"
   ]
  },
  {
   "cell_type": "markdown",
   "id": "231b035d-f784-437e-8f40-a14dcb197c73",
   "metadata": {},
   "source": [
    "#### Mean Absolute Error (MAE)\n",
    "\n",
    "Measures the average magnitude of the errors in a set of predictions, without considering their direction."
   ]
  },
  {
   "cell_type": "markdown",
   "id": "3e0ad677-5765-4b4a-a1bf-ea8180ab7891",
   "metadata": {},
   "source": [
    "#### Root Mean Squared Error (RMSE) \n",
    "\n",
    "Measures the square root of the average of squared differences between predicted and observed values, providing an indication of the model’s overall error."
   ]
  },
  {
   "cell_type": "markdown",
   "id": "ed9b2c0e-ed1b-4332-98b2-dd63646a8624",
   "metadata": {},
   "source": [
    "#### Coverage Probability\n",
    "\n",
    "The proportion of observed data points that lie within a specified credible interval (e.g., 95% credible interval) of the predicted distribution. High coverage indicates that the model’s uncertainty estimates are reliable."
   ]
  },
  {
   "cell_type": "markdown",
   "id": "1101f5ba-a698-4133-a752-2605f5cf4f2b",
   "metadata": {},
   "source": [
    "### Residual Analysis"
   ]
  },
  {
   "cell_type": "markdown",
   "id": "62d93af3-4191-48dc-9930-bf49dd2637a7",
   "metadata": {},
   "source": [
    "#### Spatial Residual Plots \n",
    "\n",
    "Plot residuals (the differences between observed and predicted values) over the spatial domain to check for patterns. Randomly distributed residuals indicate a good fit."
   ]
  },
  {
   "cell_type": "code",
   "execution_count": 31,
   "id": "80ea2868-96cd-438f-84b6-910fa43c03d5",
   "metadata": {
    "tags": []
   },
   "outputs": [
    {
     "ename": "KeyError",
     "evalue": "'y_obs_dim_2'",
     "output_type": "error",
     "traceback": [
      "\u001b[0;31m---------------------------------------------------------------------------\u001b[0m",
      "\u001b[0;31mKeyError\u001b[0m                                  Traceback (most recent call last)",
      "Cell \u001b[0;32mIn[31], line 1\u001b[0m\n\u001b[0;32m----> 1\u001b[0m \u001b[43mposterior_predictive\u001b[49m\u001b[43m[\u001b[49m\u001b[38;5;124;43m'\u001b[39;49m\u001b[38;5;124;43my_obs_dim_2\u001b[39;49m\u001b[38;5;124;43m'\u001b[39;49m\u001b[43m]\u001b[49m\n",
      "File \u001b[0;32m/opt/conda/envs/pymc_env/lib/python3.12/site-packages/arviz/data/inference_data.py:266\u001b[0m, in \u001b[0;36mInferenceData.__getitem__\u001b[0;34m(self, key)\u001b[0m\n\u001b[1;32m    264\u001b[0m \u001b[38;5;250m\u001b[39m\u001b[38;5;124;03m\"\"\"Get item by key.\"\"\"\u001b[39;00m\n\u001b[1;32m    265\u001b[0m \u001b[38;5;28;01mif\u001b[39;00m key \u001b[38;5;129;01mnot\u001b[39;00m \u001b[38;5;129;01min\u001b[39;00m \u001b[38;5;28mself\u001b[39m\u001b[38;5;241m.\u001b[39m_groups_all:\n\u001b[0;32m--> 266\u001b[0m     \u001b[38;5;28;01mraise\u001b[39;00m \u001b[38;5;167;01mKeyError\u001b[39;00m(key)\n\u001b[1;32m    267\u001b[0m \u001b[38;5;28;01mreturn\u001b[39;00m \u001b[38;5;28mgetattr\u001b[39m(\u001b[38;5;28mself\u001b[39m, key)\n",
      "\u001b[0;31mKeyError\u001b[0m: 'y_obs_dim_2'"
     ]
    }
   ],
   "source": [
    "posterior_predictive"
   ]
  },
  {
   "cell_type": "code",
   "execution_count": 28,
   "id": "25f1adc2-cb59-43bf-9700-1ad7de8bd4cc",
   "metadata": {
    "tags": []
   },
   "outputs": [
    {
     "ename": "KeyError",
     "evalue": "'y_obs'",
     "output_type": "error",
     "traceback": [
      "\u001b[0;31m---------------------------------------------------------------------------\u001b[0m",
      "\u001b[0;31mKeyError\u001b[0m                                  Traceback (most recent call last)",
      "Cell \u001b[0;32mIn[28], line 3\u001b[0m\n\u001b[1;32m      1\u001b[0m \u001b[38;5;66;03m# Extract the observed and simulated data\u001b[39;00m\n\u001b[1;32m      2\u001b[0m y_obs \u001b[38;5;241m=\u001b[39m response\n\u001b[0;32m----> 3\u001b[0m y_sim \u001b[38;5;241m=\u001b[39m \u001b[43mposterior_predictive\u001b[49m\u001b[43m[\u001b[49m\u001b[38;5;124;43m'\u001b[39;49m\u001b[38;5;124;43my_obs\u001b[39;49m\u001b[38;5;124;43m'\u001b[39;49m\u001b[43m]\u001b[49m\u001b[38;5;241m.\u001b[39mmean(axis\u001b[38;5;241m=\u001b[39m\u001b[38;5;241m0\u001b[39m)  \u001b[38;5;66;03m# Mean prediction for each observed data point\u001b[39;00m\n\u001b[1;32m      5\u001b[0m \u001b[38;5;66;03m# Calculate residuals\u001b[39;00m\n\u001b[1;32m      6\u001b[0m residuals \u001b[38;5;241m=\u001b[39m y_obs \u001b[38;5;241m-\u001b[39m y_sim\n",
      "File \u001b[0;32m/opt/conda/envs/pymc_env/lib/python3.12/site-packages/arviz/data/inference_data.py:266\u001b[0m, in \u001b[0;36mInferenceData.__getitem__\u001b[0;34m(self, key)\u001b[0m\n\u001b[1;32m    264\u001b[0m \u001b[38;5;250m\u001b[39m\u001b[38;5;124;03m\"\"\"Get item by key.\"\"\"\u001b[39;00m\n\u001b[1;32m    265\u001b[0m \u001b[38;5;28;01mif\u001b[39;00m key \u001b[38;5;129;01mnot\u001b[39;00m \u001b[38;5;129;01min\u001b[39;00m \u001b[38;5;28mself\u001b[39m\u001b[38;5;241m.\u001b[39m_groups_all:\n\u001b[0;32m--> 266\u001b[0m     \u001b[38;5;28;01mraise\u001b[39;00m \u001b[38;5;167;01mKeyError\u001b[39;00m(key)\n\u001b[1;32m    267\u001b[0m \u001b[38;5;28;01mreturn\u001b[39;00m \u001b[38;5;28mgetattr\u001b[39m(\u001b[38;5;28mself\u001b[39m, key)\n",
      "\u001b[0;31mKeyError\u001b[0m: 'y_obs'"
     ]
    }
   ],
   "source": [
    "# Extract the observed and simulated data\n",
    "y_obs = response\n",
    "y_sim = posterior_predictive['y_obs'].mean(axis=0)  # Mean prediction for each observed data point\n",
    "\n",
    "# Calculate residuals\n",
    "residuals = y_obs - y_sim\n",
    "\n",
    "# Plot spatial residuals\n",
    "plt.figure(figsize=(12, 8))\n",
    "sc = plt.scatter(coordinates_observed[:, 0], coordinates_observed[:, 1], c=residuals, cmap='coolwarm', s=100)\n",
    "plt.colorbar(sc, label='Residuals')\n",
    "plt.xlabel('Longitude')\n",
    "plt.ylabel('Latitude')\n",
    "plt.title('Spatial Residual Plot')\n",
    "plt.show()\n",
    "\n",
    "# Histogram of residuals\n",
    "plt.figure(figsize=(12, 6))\n",
    "plt.hist(residuals, bins=30, edgecolor='k', alpha=0.7)\n",
    "plt.xlabel('Residuals')\n",
    "plt.ylabel('Frequency')\n",
    "plt.title('Histogram of Residuals')\n",
    "plt.show()"
   ]
  },
  {
   "cell_type": "markdown",
   "id": "82876d73-6a69-4288-af0a-7adc94733b35",
   "metadata": {},
   "source": [
    "### Uncertainty Quantification\n",
    "\n",
    "\t•\tCredible Intervals: Evaluate the width of the credible intervals for predictions. Narrower intervals indicate higher precision, but they should still encompass the true values.\n",
    "\t•\tUncertainty Maps: Generate maps of prediction uncertainty to visualize areas of high and low certainty in the predictions."
   ]
  },
  {
   "cell_type": "markdown",
   "id": "499dd7bc-7f8d-4a21-a3d0-a98b000d7cf8",
   "metadata": {},
   "source": [
    "#### Credible Intervals\n",
    "\n",
    "Evaluate the width of the credible intervals for predictions. Narrower intervals indicate higher precision, but they should still encompass the true values."
   ]
  },
  {
   "cell_type": "code",
   "execution_count": null,
   "id": "3457e3cf-0b27-4744-995e-0a991fe1d6b7",
   "metadata": {
    "tags": []
   },
   "outputs": [],
   "source": [
    "# Extract the observed and simulated data\n",
    "y_obs = response\n",
    "\n",
    "# Generate posterior predictive samples for checks\n",
    "with model:\n",
    "    posterior_predictive = pm.sample_posterior_predictive(idata, var_names=['y_obs'], return_inferencedata=True)\n",
    "\n",
    "# Extract the mean prediction, lower and upper bounds of the 95% credible intervals\n",
    "y_sim = posterior_predictive.posterior_predictive['y_obs'].mean(dim=(\"chain\", \"draw\")).values\n",
    "hdi = az.hdi(posterior_predictive.posterior_predictive, hdi_prob=0.95)['y_obs']\n",
    "\n",
    "# Calculate the width of the credible intervals\n",
    "ci_width = hdi[:, 1] - hdi[:, 0]\n",
    "\n",
    "# Check how many true values are within the credible intervals\n",
    "within_ci = np.sum((y_obs >= hdi[:, 0]) & (y_obs <= hdi[:, 1]))\n",
    "total_obs = len(y_obs)\n",
    "coverage = within_ci / total_obs\n",
    "\n",
    "print(f\"Coverage of 95% Credible Intervals: {coverage * 100:.2f}%\")\n",
    "\n",
    "# Plot the credible intervals vs the observed values\n",
    "plt.figure(figsize=(12, 8))\n",
    "plt.errorbar(np.arange(len(y_obs)), y_sim, yerr=[y_sim - hdi[:, 0], hdi[:, 1] - y_sim], fmt='o', label='Predictions with 95% CI')\n",
    "plt.plot(np.arange(len(y_obs)), y_obs, 'r.', label='Observed Values')\n",
    "plt.xlabel('Data Point Index')\n",
    "plt.ylabel('Values')\n",
    "plt.title('Predictions with 95% Credible Intervals vs Observed Values')\n",
    "plt.legend()\n",
    "plt.show()\n",
    "\n",
    "# Plot the width of the credible intervals\n",
    "plt.figure(figsize=(12, 6))\n",
    "plt.hist(ci_width, bins=30, edgecolor='k', alpha=0.7)\n",
    "plt.xlabel('Width of 95% Credible Intervals')\n",
    "plt.ylabel('Frequency')\n",
    "plt.title('Histogram of the Width of 95% Credible Intervals')\n",
    "plt.show()"
   ]
  },
  {
   "cell_type": "markdown",
   "id": "74aa99f0-8955-41cb-b75f-c168089f50cf",
   "metadata": {},
   "source": [
    "#### Credible intervals for predictions"
   ]
  },
  {
   "cell_type": "code",
   "execution_count": null,
   "id": "ef27cb17-1696-4e16-8b8a-7527e50eeaae",
   "metadata": {
    "tags": []
   },
   "outputs": [],
   "source": [
    "# Function to generate predictions using posterior samples\n",
    "def generate_predictions(model, coordinates_new, X_new, idata):\n",
    "    with model:\n",
    "        jitter = 1e-5  # Increase the jitter value\n",
    "        f_pred = gp.conditional('f_pred', coordinates_new, jitter=jitter)\n",
    "        beta_mean = idata.posterior['beta'].mean(dim=(\"chain\", \"draw\")).values\n",
    "        mu_pred = pm.math.dot(X_new, beta_mean) + f_pred\n",
    "        pred_samples = pm.sample_posterior_predictive(idata, var_names=[\"f_pred\"], return_inferencedata=True)\n",
    "        return mu_pred, pred_samples\n",
    "\n",
    "# Generate predictions\n",
    "mu_pred, pred_samples = generate_predictions(model, coordinates_new, X_new, idata)"
   ]
  },
  {
   "cell_type": "code",
   "execution_count": null,
   "id": "63dda18e-fba5-4b56-bd56-cc73685f2466",
   "metadata": {
    "tags": []
   },
   "outputs": [],
   "source": [
    "# Extract the samples for the predicted function values\n",
    "f_pred_samples = pred_samples.posterior_predictive[\"f_pred\"]\n",
    "\n",
    "# Compute the 95% credible intervals\n",
    "hdi = az.hdi(f_pred_samples, hdi_prob=0.95)\n",
    "\n",
    "# Extract mean predictions\n",
    "mu_pred_mean = f_pred_samples.mean(dim=(\"chain\", \"draw\")).values\n",
    "\n",
    "# Extract lower and upper bounds of the credible intervals\n",
    "ci_lower = hdi.sel(hdi=\"lower\").to_array().values.flatten()\n",
    "ci_upper = hdi.sel(hdi=\"higher\").to_array().values.flatten()\n",
    "\n",
    "# Calculate the width of the credible intervals\n",
    "ci_width = ci_upper - ci_lower\n",
    "\n",
    "# Plot the credible intervals for new data\n",
    "plt.figure(figsize=(12, 8))\n",
    "plt.errorbar(np.arange(len(mu_pred_mean)), mu_pred_mean, yerr=[mu_pred_mean - ci_lower, ci_upper - mu_pred_mean], fmt='o', label='Predictions with 95% CI')\n",
    "plt.xlabel('Data Point Index')\n",
    "plt.ylabel('Predicted Values')\n",
    "plt.title('Predictions with 95% Credible Intervals for New Data')\n",
    "plt.legend()\n",
    "plt.show()\n",
    "\n",
    "# Plot the width of the credible intervals\n",
    "plt.figure(figsize=(12, 6))\n",
    "plt.hist(ci_width, bins=30, edgecolor='k', alpha=0.7)\n",
    "plt.xlabel('Width of 95% Credible Intervals')\n",
    "plt.ylabel('Frequency')\n",
    "plt.title('Histogram of the Width of 95% Credible Intervals for New Data')\n",
    "plt.show()\n",
    "\n",
    "# Generate uncertainty maps\n",
    "plt.figure(figsize=(12, 8))\n",
    "sc = plt.scatter(coordinates_new[:, 0], coordinates_new[:, 1], c=ci_width, cmap='coolwarm', s=100)\n",
    "plt.colorbar(sc, label='Credible Interval Width')\n",
    "plt.xlabel('Longitude')\n",
    "plt.ylabel('Latitude')\n",
    "plt.title('Prediction Uncertainty Map')\n",
    "plt.show()"
   ]
  },
  {
   "cell_type": "code",
   "execution_count": null,
   "id": "e0247740-c22f-4a17-9ee6-ede4f074a325",
   "metadata": {
    "tags": []
   },
   "outputs": [],
   "source": [
    "ci_upper"
   ]
  },
  {
   "cell_type": "markdown",
   "id": "eaf38520-8ad6-4d18-9070-68289bfb30df",
   "metadata": {},
   "source": [
    "#### Uncertainty Maps \n",
    "\n",
    "Generate maps of prediction uncertainty to visualize areas of high and low certainty in the predictions."
   ]
  },
  {
   "cell_type": "markdown",
   "id": "862ea41e-c871-4dc0-b9c8-cdc082e71b35",
   "metadata": {},
   "source": [
    "#### Trace plots\n",
    "\n",
    "Interpretation of Trace Plots\n",
    "\n",
    "    Density Plots (Left Column):\n",
    "        Each subplot on the left shows the kernel density estimate of the posterior distribution for a parameter.\n",
    "        These plots give an idea of the central tendency (mean or median) and the spread (variance) of the parameter estimates.\n",
    "        For example, the density plot for beta shows multiple colored curves corresponding to different chains, indicating the posterior distributions of the coefficients.\n",
    "\n",
    "    Trace Plots (Right Column):\n",
    "        Each subplot on the right shows the sampled values of the parameter across iterations for each chain.\n",
    "        These plots help in assessing the convergence of the Markov Chain Monte Carlo (MCMC) sampling.\n",
    "        A good trace plot should look like a \"hairy caterpillar,\" with the chains mixing well and no apparent trends or patterns over iterations."
   ]
  },
  {
   "cell_type": "code",
   "execution_count": null,
   "id": "bce6da08-c651-48d7-93c9-ca8410413560",
   "metadata": {
    "tags": []
   },
   "outputs": [],
   "source": [
    "import matplotlib.pyplot as plt\n",
    "\n",
    "# Generate the trace plot\n",
    "trace_plot = az.plot_trace(idata)\n",
    "\n",
    "# Save the plot to a file\n",
    "plt.savefig('temp_files/trace_plot.png')"
   ]
  },
  {
   "cell_type": "markdown",
   "id": "f6c3a702-f0f2-4e2d-902e-8a98f1acaad3",
   "metadata": {},
   "source": [
    "### Create modeled surface maps"
   ]
  },
  {
   "cell_type": "code",
   "execution_count": null,
   "id": "1cdb2629-393e-49e2-96f1-f470f469f382",
   "metadata": {},
   "outputs": [],
   "source": [
    "# Assuming new_coordinates is a grid, reshape mean predictions\n",
    "x_new = coordinates_new[:, 0].reshape(grid_shape)  # Define grid_shape as per your coordinate grid\n",
    "y_new = coordinates_new[:, 1].reshape(grid_shape)\n",
    "z_pred_mean = y_pred_mean.reshape(grid_shape)\n",
    "\n",
    "# Plot the mean predictions\n",
    "fig = plt.figure()\n",
    "ax = fig.add_subplot(111, projection='3d')\n",
    "ax.plot_surface(x_new, y_new, z_pred_mean, cmap='viridis')\n",
    "\n",
    "plt.title('Modeled Surface Map')\n",
    "plt.xlabel('X Coordinate')\n",
    "plt.ylabel('Y Coordinate')\n",
    "ax.set_zlabel('Predicted Value')\n",
    "plt.show()"
   ]
  }
 ],
 "metadata": {
  "environment": {
   "kernel": "pymc_env",
   "name": "workbench-notebooks.m124",
   "type": "gcloud",
   "uri": "us-docker.pkg.dev/deeplearning-platform-release/gcr.io/workbench-notebooks:m124"
  },
  "kernelspec": {
   "display_name": "Python 3 (ipykernel)",
   "language": "python",
   "name": "python3"
  },
  "language_info": {
   "codemirror_mode": {
    "name": "ipython",
    "version": 3
   },
   "file_extension": ".py",
   "mimetype": "text/x-python",
   "name": "python",
   "nbconvert_exporter": "python",
   "pygments_lexer": "ipython3",
   "version": "3.12.5"
  }
 },
 "nbformat": 4,
 "nbformat_minor": 5
}
