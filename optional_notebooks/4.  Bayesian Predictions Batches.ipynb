{
 "cells": [
  {
   "cell_type": "markdown",
   "id": "c385c605-f254-47c8-8726-6db0b69b40b2",
   "metadata": {},
   "source": [
    "# Bayesian MBG Predictions (batched)"
   ]
  },
  {
   "cell_type": "code",
   "execution_count": 1,
   "id": "1e6cd79a-32fd-4894-8dd7-c583e8a11e04",
   "metadata": {
    "tags": []
   },
   "outputs": [],
   "source": [
    "import functions\n",
    "\n",
    "import pymc as pm\n",
    "\n",
    "import os\n",
    "import pickle\n",
    "import numpy as np\n",
    "import arviz as az\n",
    "import pandas as pd\n",
    "import geopandas as gpd\n",
    "\n",
    "import matplotlib.pyplot as plt\n",
    "from mpl_toolkits.mplot3d import Axes3D\n",
    "\n",
    "from sklearn.preprocessing import StandardScaler\n",
    "import pytensor.tensor as at\n",
    "\n",
    "import uuid\n",
    "import pytensor.tensor as at\n",
    "import scipy.stats as stats\n",
    "\n",
    "from sklearn.preprocessing import StandardScaler, MinMaxScaler, RobustScaler\n"
   ]
  },
  {
   "cell_type": "markdown",
   "id": "0d89a092",
   "metadata": {
    "tags": []
   },
   "source": [
    "## Geostatistical Modeling"
   ]
  },
  {
   "cell_type": "markdown",
   "id": "0fb9b3df-09bf-413b-83ef-368d2a7019a1",
   "metadata": {},
   "source": [
    "### Parameters"
   ]
  },
  {
   "cell_type": "code",
   "execution_count": 2,
   "id": "e9b6f9ef-83a4-4f23-8fdc-8c771b43fcba",
   "metadata": {},
   "outputs": [],
   "source": [
    "#Load report\n",
    "with open('temp_files/report/report.pkl', 'rb') as pickle_file:\n",
    "    report = pickle.load(pickle_file)"
   ]
  },
  {
   "cell_type": "code",
   "execution_count": 3,
   "id": "1c344177-fc16-4d28-98ad-ca9511cfb782",
   "metadata": {
    "tags": []
   },
   "outputs": [
    {
     "name": "stdout",
     "output_type": "stream",
     "text": [
      "Number of CPU cores: 8\n"
     ]
    }
   ],
   "source": [
    "#Define the directory where the pickle files are stored\n",
    "pickle_dir = 'temp_files'\n",
    "\n",
    "target_indicator = report['Target Indicator']\n",
    "\n",
    "# Get the number of CPU cores to max out the machine in the traning stage\n",
    "num_cores = os.cpu_count()\n",
    "\n",
    "print(f\"Number of CPU cores: {num_cores}\")"
   ]
  },
  {
   "cell_type": "markdown",
   "id": "fc9113a7-fc0d-4394-8a6c-0772770197d1",
   "metadata": {},
   "source": [
    "### Load target and covariates"
   ]
  },
  {
   "cell_type": "code",
   "execution_count": 4,
   "id": "409f213f-8414-4f03-8be9-2afee28fdbf2",
   "metadata": {
    "tags": []
   },
   "outputs": [],
   "source": [
    "gdf = pd.read_pickle('temp_files/selected_features.pkl')\n",
    "gdf_full = pd.read_pickle('temp_files/selected_features_full.pkl')"
   ]
  },
  {
   "cell_type": "code",
   "execution_count": 5,
   "id": "fea1c0f3-3d32-47b2-81f8-02c388f71d48",
   "metadata": {
    "tags": []
   },
   "outputs": [],
   "source": [
    "selected_features = gdf.columns.to_list()\n",
    "\n",
    "# Remove target_values and others\n",
    "remove_list = [target_indicator, 'geometry', 'grid_id']\n",
    "\n",
    "# Remove elements in remove_list from main_list\n",
    "selected_features = [item for item in selected_features if item not in remove_list]"
   ]
  },
  {
   "cell_type": "code",
   "execution_count": 6,
   "id": "09181019-9490-4cf4-ba8c-fbe4979d8d14",
   "metadata": {},
   "outputs": [],
   "source": [
    "# Initialize the StandardScaler\n",
    "scaler = StandardScaler()\n",
    "\n",
    "# Extract coordinates from the geometry column (using centroid for Polygons)\n",
    "coordinates = np.array([(geom.centroid.x, geom.centroid.y) for geom in gdf.geometry])\n",
    "\n",
    "#Standardize\n",
    "coordinates = scaler.fit_transform(coordinates)\n",
    "\n",
    "# Extract coordinates from the geometry column (using centroid for Polygons) only for observed rows\n",
    "coordinates_observed = np.array([(geom.centroid.x, geom.centroid.y) for geom in gdf[~gdf[target_indicator].isnull()].geometry])\n",
    "\n",
    "# Standardize\n",
    "coordinates_observed = scaler.fit_transform(coordinates_observed)"
   ]
  },
  {
   "cell_type": "code",
   "execution_count": 7,
   "id": "8129a75e-3878-47ef-8df9-7d83c3cfd474",
   "metadata": {
    "tags": []
   },
   "outputs": [],
   "source": [
    "#Only rows with observed target indicator\n",
    "df1 = gdf[~gdf[target_indicator].isnull()]"
   ]
  },
  {
   "cell_type": "code",
   "execution_count": 8,
   "id": "a059c9ad-3b9c-400c-b02d-96175ffced8a",
   "metadata": {
    "tags": []
   },
   "outputs": [
    {
     "name": "stdout",
     "output_type": "stream",
     "text": [
      "Skewness: [0.71940191], Kurtosis: [0.03423027]\n",
      "Applying square root transformation due to moderate positive skewness and non-positive values.\n"
     ]
    }
   ],
   "source": [
    "# Select and apply the best transformation\n",
    "target_transformed, transform, lmda = functions.select_transformation(df1[[target_indicator]])\n",
    "\n",
    "#Store important information for reversion\n",
    "\n",
    "report['Transformation Applied'] = transform #Transformation applied to target\n",
    "report['Lambda'] = lmda #Store lambda variable for some reversion processes"
   ]
  },
  {
   "cell_type": "code",
   "execution_count": 9,
   "id": "e7fe8986-8b1e-4c74-be46-5243f0988069",
   "metadata": {},
   "outputs": [
    {
     "name": "stderr",
     "output_type": "stream",
     "text": [
      "/Users/Daniel/miniconda3/envs/pymc_env/lib/python3.12/site-packages/geopandas/geodataframe.py:1819: SettingWithCopyWarning: \n",
      "A value is trying to be set on a copy of a slice from a DataFrame.\n",
      "Try using .loc[row_indexer,col_indexer] = value instead\n",
      "\n",
      "See the caveats in the documentation: https://pandas.pydata.org/pandas-docs/stable/user_guide/indexing.html#returning-a-view-versus-a-copy\n",
      "  super().__setitem__(key, value)\n"
     ]
    }
   ],
   "source": [
    "#Replace target for target_transformed in the df\n",
    "df1[target_indicator] = target_transformed"
   ]
  },
  {
   "cell_type": "code",
   "execution_count": 10,
   "id": "8d735d4c-eef8-4102-8a97-83f491d050ac",
   "metadata": {
    "tags": []
   },
   "outputs": [],
   "source": [
    "# Transformed target variable\n",
    "y = df1[target_indicator].values"
   ]
  },
  {
   "cell_type": "code",
   "execution_count": 11,
   "id": "4d70c106-0aab-4bb8-9166-d16cf1efff9d",
   "metadata": {
    "tags": []
   },
   "outputs": [],
   "source": [
    "# Covariate matrix\n",
    "X = df1[selected_features].values"
   ]
  },
  {
   "cell_type": "code",
   "execution_count": 12,
   "id": "d0be0385-869b-4dc9-9bb0-400007dbd2f2",
   "metadata": {
    "tags": []
   },
   "outputs": [],
   "source": [
    "# Standardize features and transformed y\n",
    "\n",
    "scaler_x = StandardScaler()\n",
    "X = scaler_x.fit_transform(X)\n",
    "\n",
    "scaler_y = StandardScaler()\n",
    "y = scaler_y.fit_transform(y.reshape(-1, 1)).flatten()"
   ]
  },
  {
   "cell_type": "code",
   "execution_count": 13,
   "id": "e3771651-e91f-4e1c-bbf8-2d33b3d7d51b",
   "metadata": {},
   "outputs": [],
   "source": [
    "# Save the scaler to a pickle file\n",
    "with open('scaler_y.pkl', 'wb') as f:\n",
    "    pickle.dump(scaler_y, f)"
   ]
  },
  {
   "cell_type": "markdown",
   "id": "bd6692a5-2a5c-4d64-bd1a-6de75ffcb31c",
   "metadata": {},
   "source": [
    "### Recreate the saved model"
   ]
  },
  {
   "cell_type": "code",
   "execution_count": 14,
   "id": "c77e4275-d0d3-4ff6-bf02-3a818ea08a83",
   "metadata": {
    "tags": []
   },
   "outputs": [],
   "source": [
    "# After fitting the model\n",
    "trace_filename = 'model_trace.nc'"
   ]
  },
  {
   "cell_type": "markdown",
   "id": "6e83bd58-f900-4554-875a-9bc99ec6f17b",
   "metadata": {},
   "source": [
    "## Predictions"
   ]
  },
  {
   "cell_type": "markdown",
   "id": "3960f82a-abe4-4c3c-a237-c0b24641e012",
   "metadata": {},
   "source": [
    "### Loading the trained model"
   ]
  },
  {
   "cell_type": "code",
   "execution_count": 15,
   "id": "8bf57af4-8a11-48e5-b0fe-3c2838edf391",
   "metadata": {},
   "outputs": [],
   "source": [
    "# Load the model\n",
    "idata = az.from_netcdf(trace_filename)\n",
    "\n",
    "# Re-create the model\n",
    "with pm.Model() as model:\n",
    "    # Re-create the model's priors and components\n",
    "    #beta = pm.Normal('beta', mu=report['Target mean'], sigma=report['Target std'], shape=len(selected_features))\n",
    "    beta = pm.Normal('beta', mu=0, sigma=1, shape=len(selected_features))    \n",
    "    \n",
    "    #sigma = pm.HalfNormal('sigma', sigma=report['Target std'])\n",
    "    sigma = pm.HalfNormal('sigma', sigma=1)\n",
    "    \n",
    "    #ls = pm.HalfCauchy('ls', beta=report['Suggested ls beta'])\n",
    "    ls = pm.HalfCauchy('ls', beta=0.3)\n",
    "\n",
    "    # Distance matrix for the GP kernel\n",
    "    D = np.sqrt(((coordinates_observed[:, None, :] - coordinates_observed[None, :, :])**2).sum(axis=-1))\n",
    "\n",
    "    # Define the covariance function\n",
    "    K = pm.gp.cov.Matern52(2, ls=ls)\n",
    "    \n",
    "    # Define the GP latent model\n",
    "    gp = pm.gp.Latent()\n",
    "    f = gp.prior('f', X=coordinates_observed)\n",
    "\n",
    "    # Linear combination of covariates and GP\n",
    "    mu = pm.math.dot(X, beta) + f\n",
    "    y_obs = pm.Normal('y_obs', mu=mu, sigma=sigma, observed=y)\n",
    "\n"
   ]
  },
  {
   "cell_type": "code",
   "execution_count": 16,
   "id": "361eeb21-7a3b-43d3-ad2d-e4866be6775b",
   "metadata": {},
   "outputs": [],
   "source": [
    "def generate_predictions_no_noise(model, coordinates_new, X_new, idata):\n",
    "    \"\"\"\n",
    "    Generate predictions for new data using a Gaussian Process model, leveraging\n",
    "    the posterior mean for making predictions. This version does NOT add noise to the predictions.\n",
    "    \n",
    "    Returns:\n",
    "    - mean_predictions: The predicted mean for each data point (without noise).\n",
    "    \"\"\"\n",
    "    with model:\n",
    "        unique_name = \"f_pred_\" + str(uuid.uuid4())\n",
    "\n",
    "        # Generate the conditional GP for the new locations (provides mean and variance)\n",
    "        f_pred = gp.conditional(unique_name, coordinates_new, jitter=1e-3)\n",
    "\n",
    "        # Extract the posterior mean for all variables\n",
    "        posterior_mean = {var: idata.posterior[var].mean(dim=[\"chain\", \"draw\"]).values for var in idata.posterior.data_vars}\n",
    "\n",
    "        # Generate posterior predictive samples for the GP predictions\n",
    "        pred_samples = pm.sample_posterior_predictive(idata, var_names=[unique_name, 'beta'], return_inferencedata=True)\n",
    "        \n",
    "        # Get the mean and variance for the GP predictions\n",
    "        f_pred_mean = pred_samples.posterior_predictive[unique_name].mean(axis=0)\n",
    "\n",
    "        \n",
    "        f_pred_var = pred_samples.posterior_predictive[unique_name].var(axis=0)\n",
    "        \n",
    "        # Compute the mean of the beta samples (from posterior)\n",
    "        beta_mean = posterior_mean['beta']\n",
    "\n",
    "        # Compute the linear term for the new data points\n",
    "        lin_pred = np.dot(X_new, beta_mean)\n",
    "\n",
    "        # Add the linear term to the GP prediction mean\n",
    "        mean_predictions = lin_pred + f_pred_mean\n",
    "\n",
    "        return mean_predictions\n"
   ]
  },
  {
   "cell_type": "code",
   "execution_count": 17,
   "id": "38c0e67c-7626-4e34-aacf-49647f28e02d",
   "metadata": {},
   "outputs": [],
   "source": [
    "#DF with all observations\n",
    "gdf2 = gdf_full.copy(deep=True) #This line to make predictions for all observations\n",
    "df2 = gdf2.copy(deep=True)\n",
    "df2.reset_index(drop=True, inplace=True)\n",
    "\n",
    "# Extract coordinates from the geometry column (using centroid for Pcolygons)\n",
    "coordinates_new = np.array([(geom.centroid.x, geom.centroid.y) for geom in gdf2.geometry])\n",
    "\n",
    "# Standardize\n",
    "coordinates_new = scaler.fit_transform(coordinates_new)\n",
    "\n",
    "# Covariate matrix\n",
    "X_new = df2[selected_features].values\n",
    "\n",
    "# Standardize the new data using the same scaler fitted on the observed data\n",
    "X_new = scaler_x.transform(X_new)"
   ]
  },
  {
   "cell_type": "markdown",
   "id": "726cbfd7-c8c1-45a4-b965-6bca406176d1",
   "metadata": {},
   "source": [
    "### Predictions"
   ]
  },
  {
   "cell_type": "code",
   "execution_count": 18,
   "id": "b852f05e-9c4e-4acd-9eb5-a094f3544f23",
   "metadata": {},
   "outputs": [],
   "source": [
    "begin_from_scratch = True\n",
    "    \n",
    "if begin_from_scratch == True: \n",
    "    #Dataframe to store predictions and other values for uncertainty calculations\n",
    "    df3 = pd.DataFrame(df2[['grid_id', 'mpi']].head(0))\n",
    "    start_position=0\n",
    "\n",
    "else:\n",
    "    #Pick-up productions were we left of. \n",
    "    with open('temp_files/predictions.pkl', 'rb') as pickle_file:\n",
    "        df3 = pickle.load(pickle_file)\n",
    "    start_position = df3.index.max() + 1"
   ]
  },
  {
   "cell_type": "code",
   "execution_count": 19,
   "id": "2244d097-fd5b-46ab-81a2-c150eeb66daf",
   "metadata": {},
   "outputs": [
    {
     "data": {
      "text/plain": [
       "0"
      ]
     },
     "execution_count": 19,
     "metadata": {},
     "output_type": "execute_result"
    }
   ],
   "source": [
    "start_position"
   ]
  },
  {
   "cell_type": "code",
   "execution_count": 20,
   "id": "10396f41-a434-4b0a-b174-4b69ebd9162a",
   "metadata": {},
   "outputs": [],
   "source": [
    "# Assuming 95% confidence level, change alpha for different confidence levels\n",
    "alpha = 0.05\n",
    "z_score = stats.norm.ppf(1 - alpha/2)"
   ]
  },
  {
   "cell_type": "code",
   "execution_count": 21,
   "id": "5e503963-25e4-4c67-ac9b-900d82842177",
   "metadata": {},
   "outputs": [],
   "source": [
    "step = 100"
   ]
  },
  {
   "cell_type": "code",
   "execution_count": null,
   "id": "fcd026a7-5bca-42d0-aaf5-dbe1ebf2ebcf",
   "metadata": {},
   "outputs": [
    {
     "name": "stdout",
     "output_type": "stream",
     "text": [
      "Remaining indices: 7567\n"
     ]
    },
    {
     "name": "stderr",
     "output_type": "stream",
     "text": [
      "Sampling: [beta, f_pred_b011a849-5750-4124-8d94-8f8bae4412a5]\n"
     ]
    },
    {
     "data": {
      "application/vnd.jupyter.widget-view+json": {
       "model_id": "687ab676e35b42649102f6677275e0cb",
       "version_major": 2,
       "version_minor": 0
      },
      "text/plain": [
       "Output()"
      ]
     },
     "metadata": {},
     "output_type": "display_data"
    }
   ],
   "source": [
    "# Step is the number of observations to select in each iteration\n",
    "num_observations = len(X_new)\n",
    "all_indices = np.arange(num_observations)\n",
    "\n",
    "for i in range(start_position, num_observations, step):\n",
    "    \n",
    "    # Randomly select 'step' indices without replacement for each iteration\n",
    "    if step <= len(all_indices):\n",
    "        r = np.random.choice(all_indices, size=step, replace=False)\n",
    "        all_indices = np.setdiff1d(all_indices, r)  # Remove the selected indices from the pool\n",
    "    else:\n",
    "        # If fewer than 'step' indices remain, select all remaining indices\n",
    "        r = all_indices\n",
    "        all_indices = np.array([])\n",
    "\n",
    "    print(f\"Remaining indices: {len(all_indices)}\")\n",
    "\n",
    "    X_new_i = X_new[r]\n",
    "    coordinates_new_i = coordinates_new[r]\n",
    "\n",
    "    predictions_i = generate_predictions_no_noise(model, coordinates_new_i, X_new_i, idata)\n",
    "    \n",
    "    # Extracting relevant data\n",
    "    dfi = df2.loc[r][['grid_id', target_indicator]]\n",
    "    dfpi = pd.DataFrame(predictions_i)\n",
    "\n",
    "    dfpi.to_pickle('temp_files/dfpi.pkl')\n",
    "    \n",
    "    # Calculating mean, standard deviation, and other statistics\n",
    "    dfi[target_indicator] = dfpi.mean().values  # Mean prediction for each observation\n",
    "    dfi['std'] = dfpi.std().values              # Standard deviation for each observation\n",
    "    dfi['max'] = dfpi.max().values              # Max prediction for each observation\n",
    "    dfi['min'] = dfpi.min().values              # Min prediction for each observation\n",
    "    \n",
    "    # Calculating the margin of error for the confidence interval\n",
    "    dfi['standard_error'] = dfi['std'] / (len(dfpi)**0.5)\n",
    "    dfi['margin_of_error'] = z_score * dfi['standard_error']\n",
    "    \n",
    "    # Calculating the confidence interval\n",
    "    dfi['ci_lower'] = dfi[target_indicator] - dfi['margin_of_error']\n",
    "    dfi['ci_upper'] = dfi[target_indicator] + dfi['margin_of_error']\n",
    "    \n",
    "    # Combine with previous results\n",
    "    df3 = pd.concat([df3, dfi])\n",
    "\n",
    "    # Save predictions so far\n",
    "    df3.to_pickle('temp_files/predictions.pkl')\n",
    "\n",
    "    # Break the loop if no more indices are left to process\n",
    "    if len(all_indices) == 0:\n",
    "        break\n",
    "        "
   ]
  },
  {
   "cell_type": "code",
   "execution_count": null,
   "id": "12d01302-bd44-4056-88b2-88d60af65b43",
   "metadata": {},
   "outputs": [],
   "source": []
  },
  {
   "cell_type": "markdown",
   "id": "a79f7f1f-66e4-4328-a73a-30c8ec7a6e3c",
   "metadata": {},
   "source": [
    "# Useful code"
   ]
  },
  {
   "cell_type": "code",
   "execution_count": 37,
   "id": "d5f17e90-1ef8-4a7b-a0d7-96ed00c34009",
   "metadata": {},
   "outputs": [],
   "source": [
    "def generate_predictions_no_noise(model, coordinates_new, X_new, idata):\n",
    "    \"\"\"\n",
    "    Generate predictions for new data using a Gaussian Process model, leveraging\n",
    "    the posterior mean for making predictions. This version does NOT add noise to the predictions.\n",
    "    \n",
    "    Returns:\n",
    "    - mean_predictions: The predicted mean for each data point (without noise).\n",
    "    \"\"\"\n",
    "    with model:\n",
    "        unique_name = \"f_pred_\" + str(uuid.uuid4())\n",
    "\n",
    "        # Generate the conditional GP for the new locations (provides mean and variance)\n",
    "        f_pred = gp.conditional(unique_name, coordinates_new, jitter=1e-3)\n",
    "\n",
    "        # Extract the posterior mean for all variables\n",
    "        posterior_mean = {var: idata.posterior[var].mean(dim=[\"chain\", \"draw\"]).values for var in idata.posterior.data_vars}\n",
    "\n",
    "        # Generate posterior predictive samples for the GP predictions\n",
    "        pred_samples = pm.sample_posterior_predictive(idata, var_names=[unique_name, 'beta'], return_inferencedata=True)\n",
    "        \n",
    "        # Get the mean and variance for the GP predictions\n",
    "        f_pred_mean = pred_samples.posterior_predictive[unique_name].mean(axis=0)\n",
    "\n",
    "        \n",
    "        f_pred_var = pred_samples.posterior_predictive[unique_name].var(axis=0)\n",
    "        \n",
    "        # Compute the mean of the beta samples (from posterior)\n",
    "        beta_mean = posterior_mean['beta']\n",
    "\n",
    "        # Compute the linear term for the new data points\n",
    "        lin_pred = np.dot(X_new, beta_mean)\n",
    "\n",
    "        # Add the linear term to the GP prediction mean\n",
    "        mean_predictions = lin_pred + f_pred_mean\n",
    "\n",
    "        return f_pred_mean\n"
   ]
  },
  {
   "cell_type": "code",
   "execution_count": 38,
   "id": "f37f4854-7555-4616-8ae2-6801b7166929",
   "metadata": {},
   "outputs": [
    {
     "name": "stderr",
     "output_type": "stream",
     "text": [
      "Sampling: [beta, f_pred_7b3b3c37-8e71-40b1-b4dd-b01312203506]\n"
     ]
    },
    {
     "data": {
      "application/vnd.jupyter.widget-view+json": {
       "model_id": "c8ac99f38fbe4b779e14b29ef1fdbc3f",
       "version_major": 2,
       "version_minor": 0
      },
      "text/plain": [
       "Output()"
      ]
     },
     "metadata": {},
     "output_type": "display_data"
    },
    {
     "data": {
      "text/html": [
       "<pre style=\"white-space:pre;overflow-x:auto;line-height:normal;font-family:Menlo,'DejaVu Sans Mono',consolas,'Courier New',monospace\"></pre>\n"
      ],
      "text/plain": []
     },
     "metadata": {},
     "output_type": "display_data"
    },
    {
     "data": {
      "text/html": [
       "<pre style=\"white-space:pre;overflow-x:auto;line-height:normal;font-family:Menlo,'DejaVu Sans Mono',consolas,'Courier New',monospace\">\n",
       "</pre>\n"
      ],
      "text/plain": [
       "\n"
      ]
     },
     "metadata": {},
     "output_type": "display_data"
    }
   ],
   "source": [
    "# Step is the number of observations to select in each iteration\n",
    "num_observations = len(X_new)\n",
    "all_indices = np.arange(num_observations)\n",
    "\n",
    "r = np.random.choice(all_indices, size=100, replace=False)\n",
    "all_indices = np.setdiff1d(all_indices, r)  # Remove the selected indices from the pool\n",
    "\n",
    "X_new_i = X_new[r]\n",
    "coordinates_new_i = coordinates_new[r]\n",
    "\n",
    "predictions_i = generate_predictions_no_noise(model, coordinates_new_i, X_new_i, idata)"
   ]
  },
  {
   "cell_type": "code",
   "execution_count": 42,
   "id": "622db0d7-a7b3-4629-a312-30b99f8537ec",
   "metadata": {},
   "outputs": [
    {
     "data": {
      "text/html": [
       "<div><svg style=\"position: absolute; width: 0; height: 0; overflow: hidden\">\n",
       "<defs>\n",
       "<symbol id=\"icon-database\" viewBox=\"0 0 32 32\">\n",
       "<path d=\"M16 0c-8.837 0-16 2.239-16 5v4c0 2.761 7.163 5 16 5s16-2.239 16-5v-4c0-2.761-7.163-5-16-5z\"></path>\n",
       "<path d=\"M16 17c-8.837 0-16-2.239-16-5v6c0 2.761 7.163 5 16 5s16-2.239 16-5v-6c0 2.761-7.163 5-16 5z\"></path>\n",
       "<path d=\"M16 26c-8.837 0-16-2.239-16-5v6c0 2.761 7.163 5 16 5s16-2.239 16-5v-6c0 2.761-7.163 5-16 5z\"></path>\n",
       "</symbol>\n",
       "<symbol id=\"icon-file-text2\" viewBox=\"0 0 32 32\">\n",
       "<path d=\"M28.681 7.159c-0.694-0.947-1.662-2.053-2.724-3.116s-2.169-2.030-3.116-2.724c-1.612-1.182-2.393-1.319-2.841-1.319h-15.5c-1.378 0-2.5 1.121-2.5 2.5v27c0 1.378 1.122 2.5 2.5 2.5h23c1.378 0 2.5-1.122 2.5-2.5v-19.5c0-0.448-0.137-1.23-1.319-2.841zM24.543 5.457c0.959 0.959 1.712 1.825 2.268 2.543h-4.811v-4.811c0.718 0.556 1.584 1.309 2.543 2.268zM28 29.5c0 0.271-0.229 0.5-0.5 0.5h-23c-0.271 0-0.5-0.229-0.5-0.5v-27c0-0.271 0.229-0.5 0.5-0.5 0 0 15.499-0 15.5 0v7c0 0.552 0.448 1 1 1h7v19.5z\"></path>\n",
       "<path d=\"M23 26h-14c-0.552 0-1-0.448-1-1s0.448-1 1-1h14c0.552 0 1 0.448 1 1s-0.448 1-1 1z\"></path>\n",
       "<path d=\"M23 22h-14c-0.552 0-1-0.448-1-1s0.448-1 1-1h14c0.552 0 1 0.448 1 1s-0.448 1-1 1z\"></path>\n",
       "<path d=\"M23 18h-14c-0.552 0-1-0.448-1-1s0.448-1 1-1h14c0.552 0 1 0.448 1 1s-0.448 1-1 1z\"></path>\n",
       "</symbol>\n",
       "</defs>\n",
       "</svg>\n",
       "<style>/* CSS stylesheet for displaying xarray objects in jupyterlab.\n",
       " *\n",
       " */\n",
       "\n",
       ":root {\n",
       "  --xr-font-color0: var(--jp-content-font-color0, rgba(0, 0, 0, 1));\n",
       "  --xr-font-color2: var(--jp-content-font-color2, rgba(0, 0, 0, 0.54));\n",
       "  --xr-font-color3: var(--jp-content-font-color3, rgba(0, 0, 0, 0.38));\n",
       "  --xr-border-color: var(--jp-border-color2, #e0e0e0);\n",
       "  --xr-disabled-color: var(--jp-layout-color3, #bdbdbd);\n",
       "  --xr-background-color: var(--jp-layout-color0, white);\n",
       "  --xr-background-color-row-even: var(--jp-layout-color1, white);\n",
       "  --xr-background-color-row-odd: var(--jp-layout-color2, #eeeeee);\n",
       "}\n",
       "\n",
       "html[theme=dark],\n",
       "html[data-theme=dark],\n",
       "body[data-theme=dark],\n",
       "body.vscode-dark {\n",
       "  --xr-font-color0: rgba(255, 255, 255, 1);\n",
       "  --xr-font-color2: rgba(255, 255, 255, 0.54);\n",
       "  --xr-font-color3: rgba(255, 255, 255, 0.38);\n",
       "  --xr-border-color: #1F1F1F;\n",
       "  --xr-disabled-color: #515151;\n",
       "  --xr-background-color: #111111;\n",
       "  --xr-background-color-row-even: #111111;\n",
       "  --xr-background-color-row-odd: #313131;\n",
       "}\n",
       "\n",
       ".xr-wrap {\n",
       "  display: block !important;\n",
       "  min-width: 300px;\n",
       "  max-width: 700px;\n",
       "}\n",
       "\n",
       ".xr-text-repr-fallback {\n",
       "  /* fallback to plain text repr when CSS is not injected (untrusted notebook) */\n",
       "  display: none;\n",
       "}\n",
       "\n",
       ".xr-header {\n",
       "  padding-top: 6px;\n",
       "  padding-bottom: 6px;\n",
       "  margin-bottom: 4px;\n",
       "  border-bottom: solid 1px var(--xr-border-color);\n",
       "}\n",
       "\n",
       ".xr-header > div,\n",
       ".xr-header > ul {\n",
       "  display: inline;\n",
       "  margin-top: 0;\n",
       "  margin-bottom: 0;\n",
       "}\n",
       "\n",
       ".xr-obj-type,\n",
       ".xr-array-name {\n",
       "  margin-left: 2px;\n",
       "  margin-right: 10px;\n",
       "}\n",
       "\n",
       ".xr-obj-type {\n",
       "  color: var(--xr-font-color2);\n",
       "}\n",
       "\n",
       ".xr-sections {\n",
       "  padding-left: 0 !important;\n",
       "  display: grid;\n",
       "  grid-template-columns: 150px auto auto 1fr 20px 20px;\n",
       "}\n",
       "\n",
       ".xr-section-item {\n",
       "  display: contents;\n",
       "}\n",
       "\n",
       ".xr-section-item input {\n",
       "  display: none;\n",
       "}\n",
       "\n",
       ".xr-section-item input + label {\n",
       "  color: var(--xr-disabled-color);\n",
       "}\n",
       "\n",
       ".xr-section-item input:enabled + label {\n",
       "  cursor: pointer;\n",
       "  color: var(--xr-font-color2);\n",
       "}\n",
       "\n",
       ".xr-section-item input:enabled + label:hover {\n",
       "  color: var(--xr-font-color0);\n",
       "}\n",
       "\n",
       ".xr-section-summary {\n",
       "  grid-column: 1;\n",
       "  color: var(--xr-font-color2);\n",
       "  font-weight: 500;\n",
       "}\n",
       "\n",
       ".xr-section-summary > span {\n",
       "  display: inline-block;\n",
       "  padding-left: 0.5em;\n",
       "}\n",
       "\n",
       ".xr-section-summary-in:disabled + label {\n",
       "  color: var(--xr-font-color2);\n",
       "}\n",
       "\n",
       ".xr-section-summary-in + label:before {\n",
       "  display: inline-block;\n",
       "  content: '►';\n",
       "  font-size: 11px;\n",
       "  width: 15px;\n",
       "  text-align: center;\n",
       "}\n",
       "\n",
       ".xr-section-summary-in:disabled + label:before {\n",
       "  color: var(--xr-disabled-color);\n",
       "}\n",
       "\n",
       ".xr-section-summary-in:checked + label:before {\n",
       "  content: '▼';\n",
       "}\n",
       "\n",
       ".xr-section-summary-in:checked + label > span {\n",
       "  display: none;\n",
       "}\n",
       "\n",
       ".xr-section-summary,\n",
       ".xr-section-inline-details {\n",
       "  padding-top: 4px;\n",
       "  padding-bottom: 4px;\n",
       "}\n",
       "\n",
       ".xr-section-inline-details {\n",
       "  grid-column: 2 / -1;\n",
       "}\n",
       "\n",
       ".xr-section-details {\n",
       "  display: none;\n",
       "  grid-column: 1 / -1;\n",
       "  margin-bottom: 5px;\n",
       "}\n",
       "\n",
       ".xr-section-summary-in:checked ~ .xr-section-details {\n",
       "  display: contents;\n",
       "}\n",
       "\n",
       ".xr-array-wrap {\n",
       "  grid-column: 1 / -1;\n",
       "  display: grid;\n",
       "  grid-template-columns: 20px auto;\n",
       "}\n",
       "\n",
       ".xr-array-wrap > label {\n",
       "  grid-column: 1;\n",
       "  vertical-align: top;\n",
       "}\n",
       "\n",
       ".xr-preview {\n",
       "  color: var(--xr-font-color3);\n",
       "}\n",
       "\n",
       ".xr-array-preview,\n",
       ".xr-array-data {\n",
       "  padding: 0 5px !important;\n",
       "  grid-column: 2;\n",
       "}\n",
       "\n",
       ".xr-array-data,\n",
       ".xr-array-in:checked ~ .xr-array-preview {\n",
       "  display: none;\n",
       "}\n",
       "\n",
       ".xr-array-in:checked ~ .xr-array-data,\n",
       ".xr-array-preview {\n",
       "  display: inline-block;\n",
       "}\n",
       "\n",
       ".xr-dim-list {\n",
       "  display: inline-block !important;\n",
       "  list-style: none;\n",
       "  padding: 0 !important;\n",
       "  margin: 0;\n",
       "}\n",
       "\n",
       ".xr-dim-list li {\n",
       "  display: inline-block;\n",
       "  padding: 0;\n",
       "  margin: 0;\n",
       "}\n",
       "\n",
       ".xr-dim-list:before {\n",
       "  content: '(';\n",
       "}\n",
       "\n",
       ".xr-dim-list:after {\n",
       "  content: ')';\n",
       "}\n",
       "\n",
       ".xr-dim-list li:not(:last-child):after {\n",
       "  content: ',';\n",
       "  padding-right: 5px;\n",
       "}\n",
       "\n",
       ".xr-has-index {\n",
       "  font-weight: bold;\n",
       "}\n",
       "\n",
       ".xr-var-list,\n",
       ".xr-var-item {\n",
       "  display: contents;\n",
       "}\n",
       "\n",
       ".xr-var-item > div,\n",
       ".xr-var-item label,\n",
       ".xr-var-item > .xr-var-name span {\n",
       "  background-color: var(--xr-background-color-row-even);\n",
       "  margin-bottom: 0;\n",
       "}\n",
       "\n",
       ".xr-var-item > .xr-var-name:hover span {\n",
       "  padding-right: 5px;\n",
       "}\n",
       "\n",
       ".xr-var-list > li:nth-child(odd) > div,\n",
       ".xr-var-list > li:nth-child(odd) > label,\n",
       ".xr-var-list > li:nth-child(odd) > .xr-var-name span {\n",
       "  background-color: var(--xr-background-color-row-odd);\n",
       "}\n",
       "\n",
       ".xr-var-name {\n",
       "  grid-column: 1;\n",
       "}\n",
       "\n",
       ".xr-var-dims {\n",
       "  grid-column: 2;\n",
       "}\n",
       "\n",
       ".xr-var-dtype {\n",
       "  grid-column: 3;\n",
       "  text-align: right;\n",
       "  color: var(--xr-font-color2);\n",
       "}\n",
       "\n",
       ".xr-var-preview {\n",
       "  grid-column: 4;\n",
       "}\n",
       "\n",
       ".xr-index-preview {\n",
       "  grid-column: 2 / 5;\n",
       "  color: var(--xr-font-color2);\n",
       "}\n",
       "\n",
       ".xr-var-name,\n",
       ".xr-var-dims,\n",
       ".xr-var-dtype,\n",
       ".xr-preview,\n",
       ".xr-attrs dt {\n",
       "  white-space: nowrap;\n",
       "  overflow: hidden;\n",
       "  text-overflow: ellipsis;\n",
       "  padding-right: 10px;\n",
       "}\n",
       "\n",
       ".xr-var-name:hover,\n",
       ".xr-var-dims:hover,\n",
       ".xr-var-dtype:hover,\n",
       ".xr-attrs dt:hover {\n",
       "  overflow: visible;\n",
       "  width: auto;\n",
       "  z-index: 1;\n",
       "}\n",
       "\n",
       ".xr-var-attrs,\n",
       ".xr-var-data,\n",
       ".xr-index-data {\n",
       "  display: none;\n",
       "  background-color: var(--xr-background-color) !important;\n",
       "  padding-bottom: 5px !important;\n",
       "}\n",
       "\n",
       ".xr-var-attrs-in:checked ~ .xr-var-attrs,\n",
       ".xr-var-data-in:checked ~ .xr-var-data,\n",
       ".xr-index-data-in:checked ~ .xr-index-data {\n",
       "  display: block;\n",
       "}\n",
       "\n",
       ".xr-var-data > table {\n",
       "  float: right;\n",
       "}\n",
       "\n",
       ".xr-var-name span,\n",
       ".xr-var-data,\n",
       ".xr-index-name div,\n",
       ".xr-index-data,\n",
       ".xr-attrs {\n",
       "  padding-left: 25px !important;\n",
       "}\n",
       "\n",
       ".xr-attrs,\n",
       ".xr-var-attrs,\n",
       ".xr-var-data,\n",
       ".xr-index-data {\n",
       "  grid-column: 1 / -1;\n",
       "}\n",
       "\n",
       "dl.xr-attrs {\n",
       "  padding: 0;\n",
       "  margin: 0;\n",
       "  display: grid;\n",
       "  grid-template-columns: 125px auto;\n",
       "}\n",
       "\n",
       ".xr-attrs dt,\n",
       ".xr-attrs dd {\n",
       "  padding: 0;\n",
       "  margin: 0;\n",
       "  float: left;\n",
       "  padding-right: 10px;\n",
       "  width: auto;\n",
       "}\n",
       "\n",
       ".xr-attrs dt {\n",
       "  font-weight: normal;\n",
       "  grid-column: 1;\n",
       "}\n",
       "\n",
       ".xr-attrs dt:hover span {\n",
       "  display: inline-block;\n",
       "  background: var(--xr-background-color);\n",
       "  padding-right: 10px;\n",
       "}\n",
       "\n",
       ".xr-attrs dd {\n",
       "  grid-column: 2;\n",
       "  white-space: pre-wrap;\n",
       "  word-break: break-all;\n",
       "}\n",
       "\n",
       ".xr-icon-database,\n",
       ".xr-icon-file-text2,\n",
       ".xr-no-icon {\n",
       "  display: inline-block;\n",
       "  vertical-align: middle;\n",
       "  width: 1em;\n",
       "  height: 1.5em !important;\n",
       "  stroke-width: 0;\n",
       "  stroke: currentColor;\n",
       "  fill: currentColor;\n",
       "}\n",
       "</style><pre class='xr-text-repr-fallback'>&lt;xarray.DataArray &#x27;f_pred_7b3b3c37-8e71-40b1-b4dd-b01312203506&#x27; ()&gt; Size: 8B\n",
       "array(0.)</pre><div class='xr-wrap' style='display:none'><div class='xr-header'><div class='xr-obj-type'>xarray.DataArray</div><div class='xr-array-name'>'f_pred_7b3b3c37-8e71-40b1-b4dd-b01312203506'</div></div><ul class='xr-sections'><li class='xr-section-item'><div class='xr-array-wrap'><input id='section-0d96d847-f895-4a29-a69e-0be4f62286f4' class='xr-array-in' type='checkbox' checked><label for='section-0d96d847-f895-4a29-a69e-0be4f62286f4' title='Show/hide data repr'><svg class='icon xr-icon-database'><use xlink:href='#icon-database'></use></svg></label><div class='xr-array-preview xr-preview'><span>0.0</span></div><div class='xr-array-data'><pre>array(0.)</pre></div></div></li><li class='xr-section-item'><input id='section-91b152b4-db1a-42fa-b6db-dc8208fb011c' class='xr-section-summary-in' type='checkbox' disabled ><label for='section-91b152b4-db1a-42fa-b6db-dc8208fb011c' class='xr-section-summary'  title='Expand/collapse section'>Coordinates: <span>(0)</span></label><div class='xr-section-inline-details'></div><div class='xr-section-details'><ul class='xr-var-list'></ul></div></li><li class='xr-section-item'><input id='section-f2fb5cd7-5ee8-4489-bada-b38d2c96cf6b' class='xr-section-summary-in' type='checkbox' disabled ><label for='section-f2fb5cd7-5ee8-4489-bada-b38d2c96cf6b' class='xr-section-summary'  title='Expand/collapse section'>Indexes: <span>(0)</span></label><div class='xr-section-inline-details'></div><div class='xr-section-details'><ul class='xr-var-list'></ul></div></li><li class='xr-section-item'><input id='section-080e8692-a76d-40c8-bbac-d8fd10df570a' class='xr-section-summary-in' type='checkbox' disabled ><label for='section-080e8692-a76d-40c8-bbac-d8fd10df570a' class='xr-section-summary'  title='Expand/collapse section'>Attributes: <span>(0)</span></label><div class='xr-section-inline-details'></div><div class='xr-section-details'><dl class='xr-attrs'></dl></div></li></ul></div></div>"
      ],
      "text/plain": [
       "<xarray.DataArray 'f_pred_7b3b3c37-8e71-40b1-b4dd-b01312203506' ()> Size: 8B\n",
       "array(0.)"
      ]
     },
     "execution_count": 42,
     "metadata": {},
     "output_type": "execute_result"
    }
   ],
   "source": []
  },
  {
   "cell_type": "code",
   "execution_count": null,
   "id": "20802772-b5e1-473c-8a1a-554bea7de93e",
   "metadata": {},
   "outputs": [],
   "source": []
  }
 ],
 "metadata": {
  "environment": {
   "kernel": "pymc_env",
   "name": "workbench-notebooks.m124",
   "type": "gcloud",
   "uri": "us-docker.pkg.dev/deeplearning-platform-release/gcr.io/workbench-notebooks:m124"
  },
  "kernelspec": {
   "display_name": "Python 3 (ipykernel)",
   "language": "python",
   "name": "python3"
  },
  "language_info": {
   "codemirror_mode": {
    "name": "ipython",
    "version": 3
   },
   "file_extension": ".py",
   "mimetype": "text/x-python",
   "name": "python",
   "nbconvert_exporter": "python",
   "pygments_lexer": "ipython3",
   "version": "3.12.5"
  }
 },
 "nbformat": 4,
 "nbformat_minor": 5
}
