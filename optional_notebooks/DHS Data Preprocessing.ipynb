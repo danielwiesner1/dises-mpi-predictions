{
 "cells": [
  {
   "cell_type": "markdown",
   "id": "7d55c73c-8b04-4874-8bef-5a214bc7ee56",
   "metadata": {},
   "source": [
    "# DHS Data Preprocessing\n",
    "\n",
    "- Harmonized data is here:\n",
    "- https://docs.google.com/document/d/1So35M9Y9hSjligvYfas1Owb8ZjmbRjhRrjWIk9vp9yI/edit?tab=t.0"
   ]
  },
  {
   "cell_type": "code",
   "execution_count": 3,
   "id": "8cb5204f-2834-4644-a681-0d99cb5a8f91",
   "metadata": {},
   "outputs": [],
   "source": [
    "import geopandas as gpd\n",
    "import os"
   ]
  },
  {
   "cell_type": "code",
   "execution_count": 16,
   "id": "a5bb2a13-6e45-43b0-948f-bd89365cc77d",
   "metadata": {},
   "outputs": [],
   "source": [
    "os.chdir('/Users/Daniel/Library/CloudStorage/GoogleDrive-dwiesner@sig-gis.com/My Drive/DISES/batched-predictions-branch')"
   ]
  },
  {
   "cell_type": "code",
   "execution_count": 17,
   "id": "7529c0e0-7707-4ed5-86ff-e4f73e6f67af",
   "metadata": {},
   "outputs": [],
   "source": [
    "data_folder = 'data/'"
   ]
  },
  {
   "cell_type": "code",
   "execution_count": 20,
   "id": "73d74a2c-2797-4cea-a4b4-c0b05d017494",
   "metadata": {},
   "outputs": [],
   "source": [
    "file_path = os.path.join(data_folder, 'KHM/mpi_khm_dhs14_hmn_clust_CI_mis/mpi_khm_dhs14_hmn_clust_CI_mis.shp')"
   ]
  },
  {
   "cell_type": "code",
   "execution_count": 22,
   "id": "d774406e-e245-43c3-aa2d-78ef6b732415",
   "metadata": {},
   "outputs": [],
   "source": [
    "gdf = gpd.read_file(file_path)"
   ]
  },
  {
   "cell_type": "code",
   "execution_count": null,
   "id": "e9a9e6b2-b026-4029-95a2-b05c9474fbf6",
   "metadata": {},
   "outputs": [],
   "source": []
  }
 ],
 "metadata": {
  "kernelspec": {
   "display_name": "Python 3 (ipykernel)",
   "language": "python",
   "name": "python3"
  },
  "language_info": {
   "codemirror_mode": {
    "name": "ipython",
    "version": 3
   },
   "file_extension": ".py",
   "mimetype": "text/x-python",
   "name": "python",
   "nbconvert_exporter": "python",
   "pygments_lexer": "ipython3",
   "version": "3.12.5"
  }
 },
 "nbformat": 4,
 "nbformat_minor": 5
}
