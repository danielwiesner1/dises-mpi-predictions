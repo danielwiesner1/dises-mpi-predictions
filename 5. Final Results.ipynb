{
 "cells": [
  {
   "cell_type": "markdown",
   "id": "f4eba559-bc90-429d-bbad-d84e43d8767a",
   "metadata": {},
   "source": [
    "## Surface and uncertainty maps from final predictions"
   ]
  },
  {
   "cell_type": "code",
   "execution_count": 22,
   "id": "7749769e-54ac-4e76-8227-2c5856fe7941",
   "metadata": {},
   "outputs": [
    {
     "name": "stdout",
     "output_type": "stream",
     "text": [
      "The autoreload extension is already loaded. To reload it, use:\n",
      "  %reload_ext autoreload\n"
     ]
    }
   ],
   "source": [
    "import os\n",
    "import functions\n",
    "import matplotlib.pyplot as plt\n",
    "\n",
    "import pandas as pd\n",
    "import numpy as np\n",
    "import geopandas as gpd\n",
    "from shapely.geometry import Point\n",
    "import rasterio\n",
    "\n",
    "from rasterio.features import shapes\n",
    "from shapely.geometry import shape, mapping\n",
    "\n",
    "import seaborn as sns\n",
    "import matplotlib.pyplot as plt\n",
    "\n",
    "import pickle\n",
    "\n",
    "%load_ext autoreload"
   ]
  },
  {
   "cell_type": "markdown",
   "id": "61092407-244c-44d2-a66a-b610bcbbe6ae",
   "metadata": {},
   "source": [
    "### Parameters"
   ]
  },
  {
   "cell_type": "code",
   "execution_count": 26,
   "id": "e9b6f9ef-83a4-4f23-8fdc-8c771b43fcba",
   "metadata": {},
   "outputs": [],
   "source": [
    "#Load report\n",
    "with open('temp_files/report/report.pkl', 'rb') as pickle_file:\n",
    "    report = pickle.load(pickle_file)"
   ]
  },
  {
   "cell_type": "code",
   "execution_count": 33,
   "id": "19d53539-359b-4f66-99b8-6babef443f1e",
   "metadata": {},
   "outputs": [],
   "source": [
    "country = report['Country']\n",
    "year = report['DHS survey year']\n",
    "target_indicator = report['Target Indicator']"
   ]
  },
  {
   "cell_type": "markdown",
   "id": "e7ca905e-cd97-4ecf-814a-d4bfed55ffc7",
   "metadata": {},
   "source": [
    "### Load files"
   ]
  },
  {
   "cell_type": "code",
   "execution_count": 27,
   "id": "2c7d5e5a-45b5-4d68-8a7c-8abdd21965fa",
   "metadata": {},
   "outputs": [],
   "source": [
    "# Load the shape file with geographic covariates\n",
    "shape_path = os.path.join('temp_files/clipped_shape/clipped_shape.shp')\n",
    "gdf = gpd.read_file(shape_path)"
   ]
  },
  {
   "cell_type": "code",
   "execution_count": 28,
   "id": "6b591e32-de9f-4220-bf82-69820a383f74",
   "metadata": {},
   "outputs": [],
   "source": [
    "gdf = gdf[['grid_id', 'geometry']]"
   ]
  },
  {
   "cell_type": "code",
   "execution_count": 40,
   "id": "fead14fd-ecba-452f-9a2f-6b3c72bb0267",
   "metadata": {},
   "outputs": [],
   "source": [
    "#Load report\n",
    "with open('temp_files/predictions_final.pkl', 'rb') as pickle_file:\n",
    "    df = pickle.load(pickle_file)"
   ]
  },
  {
   "cell_type": "code",
   "execution_count": 43,
   "id": "caf56529-fff7-4bbe-afb6-1517a4238e9f",
   "metadata": {},
   "outputs": [
    {
     "data": {
      "text/html": [
       "<div>\n",
       "<style scoped>\n",
       "    .dataframe tbody tr th:only-of-type {\n",
       "        vertical-align: middle;\n",
       "    }\n",
       "\n",
       "    .dataframe tbody tr th {\n",
       "        vertical-align: top;\n",
       "    }\n",
       "\n",
       "    .dataframe thead th {\n",
       "        text-align: right;\n",
       "    }\n",
       "</style>\n",
       "<table border=\"1\" class=\"dataframe\">\n",
       "  <thead>\n",
       "    <tr style=\"text-align: right;\">\n",
       "      <th></th>\n",
       "      <th>grid_id</th>\n",
       "      <th>mpi</th>\n",
       "      <th>absolute_confidence_interval</th>\n",
       "      <th>standardized_uncertainty</th>\n",
       "    </tr>\n",
       "  </thead>\n",
       "  <tbody>\n",
       "    <tr>\n",
       "      <th>0</th>\n",
       "      <td>id1</td>\n",
       "      <td>0.1583</td>\n",
       "      <td>0.003936</td>\n",
       "      <td>1.008550</td>\n",
       "    </tr>\n",
       "    <tr>\n",
       "      <th>1</th>\n",
       "      <td>id2</td>\n",
       "      <td>0.1582</td>\n",
       "      <td>0.003977</td>\n",
       "      <td>1.125687</td>\n",
       "    </tr>\n",
       "    <tr>\n",
       "      <th>2</th>\n",
       "      <td>id3</td>\n",
       "      <td>0.1584</td>\n",
       "      <td>0.003850</td>\n",
       "      <td>0.760265</td>\n",
       "    </tr>\n",
       "    <tr>\n",
       "      <th>3</th>\n",
       "      <td>id4</td>\n",
       "      <td>0.1584</td>\n",
       "      <td>0.003891</td>\n",
       "      <td>0.876763</td>\n",
       "    </tr>\n",
       "    <tr>\n",
       "      <th>4</th>\n",
       "      <td>id5</td>\n",
       "      <td>0.1583</td>\n",
       "      <td>0.003932</td>\n",
       "      <td>0.995525</td>\n",
       "    </tr>\n",
       "    <tr>\n",
       "      <th>5</th>\n",
       "      <td>id6</td>\n",
       "      <td>0.1595</td>\n",
       "      <td>0.003165</td>\n",
       "      <td>-1.211569</td>\n",
       "    </tr>\n",
       "    <tr>\n",
       "      <th>6</th>\n",
       "      <td>id7</td>\n",
       "      <td>0.1595</td>\n",
       "      <td>0.003189</td>\n",
       "      <td>-1.141377</td>\n",
       "    </tr>\n",
       "    <tr>\n",
       "      <th>7</th>\n",
       "      <td>id8</td>\n",
       "      <td>0.1587</td>\n",
       "      <td>0.003692</td>\n",
       "      <td>0.305460</td>\n",
       "    </tr>\n",
       "    <tr>\n",
       "      <th>8</th>\n",
       "      <td>id9</td>\n",
       "      <td>0.1587</td>\n",
       "      <td>0.003731</td>\n",
       "      <td>0.416523</td>\n",
       "    </tr>\n",
       "    <tr>\n",
       "      <th>9</th>\n",
       "      <td>id10</td>\n",
       "      <td>0.1586</td>\n",
       "      <td>0.003811</td>\n",
       "      <td>0.646861</td>\n",
       "    </tr>\n",
       "    <tr>\n",
       "      <th>10</th>\n",
       "      <td>id11</td>\n",
       "      <td>0.1586</td>\n",
       "      <td>0.003840</td>\n",
       "      <td>0.732302</td>\n",
       "    </tr>\n",
       "    <tr>\n",
       "      <th>11</th>\n",
       "      <td>id12</td>\n",
       "      <td>0.1585</td>\n",
       "      <td>0.003881</td>\n",
       "      <td>0.849559</td>\n",
       "    </tr>\n",
       "    <tr>\n",
       "      <th>12</th>\n",
       "      <td>id13</td>\n",
       "      <td>0.1585</td>\n",
       "      <td>0.003923</td>\n",
       "      <td>0.970159</td>\n",
       "    </tr>\n",
       "    <tr>\n",
       "      <th>13</th>\n",
       "      <td>id14</td>\n",
       "      <td>0.1597</td>\n",
       "      <td>0.003088</td>\n",
       "      <td>-1.433359</td>\n",
       "    </tr>\n",
       "    <tr>\n",
       "      <th>14</th>\n",
       "      <td>id15</td>\n",
       "      <td>0.1597</td>\n",
       "      <td>0.003113</td>\n",
       "      <td>-1.359460</td>\n",
       "    </tr>\n",
       "    <tr>\n",
       "      <th>15</th>\n",
       "      <td>id16</td>\n",
       "      <td>0.1597</td>\n",
       "      <td>0.003134</td>\n",
       "      <td>-1.301007</td>\n",
       "    </tr>\n",
       "    <tr>\n",
       "      <th>16</th>\n",
       "      <td>id17</td>\n",
       "      <td>0.1590</td>\n",
       "      <td>0.003596</td>\n",
       "      <td>0.029720</td>\n",
       "    </tr>\n",
       "    <tr>\n",
       "      <th>17</th>\n",
       "      <td>id18</td>\n",
       "      <td>0.1589</td>\n",
       "      <td>0.003635</td>\n",
       "      <td>0.141407</td>\n",
       "    </tr>\n",
       "    <tr>\n",
       "      <th>18</th>\n",
       "      <td>id19</td>\n",
       "      <td>0.1589</td>\n",
       "      <td>0.003675</td>\n",
       "      <td>0.255823</td>\n",
       "    </tr>\n",
       "    <tr>\n",
       "      <th>19</th>\n",
       "      <td>id20</td>\n",
       "      <td>0.1587</td>\n",
       "      <td>0.003757</td>\n",
       "      <td>0.492634</td>\n",
       "    </tr>\n",
       "    <tr>\n",
       "      <th>20</th>\n",
       "      <td>id21</td>\n",
       "      <td>0.1586</td>\n",
       "      <td>0.003804</td>\n",
       "      <td>0.627559</td>\n",
       "    </tr>\n",
       "    <tr>\n",
       "      <th>21</th>\n",
       "      <td>id22</td>\n",
       "      <td>0.1585</td>\n",
       "      <td>0.003844</td>\n",
       "      <td>0.742848</td>\n",
       "    </tr>\n",
       "    <tr>\n",
       "      <th>22</th>\n",
       "      <td>id23</td>\n",
       "      <td>0.1599</td>\n",
       "      <td>0.003037</td>\n",
       "      <td>-1.580516</td>\n",
       "    </tr>\n",
       "    <tr>\n",
       "      <th>23</th>\n",
       "      <td>id24</td>\n",
       "      <td>0.1598</td>\n",
       "      <td>0.003061</td>\n",
       "      <td>-1.510575</td>\n",
       "    </tr>\n",
       "    <tr>\n",
       "      <th>24</th>\n",
       "      <td>id25</td>\n",
       "      <td>0.1598</td>\n",
       "      <td>0.003085</td>\n",
       "      <td>-1.439783</td>\n",
       "    </tr>\n",
       "  </tbody>\n",
       "</table>\n",
       "</div>"
      ],
      "text/plain": [
       "   grid_id     mpi  absolute_confidence_interval  standardized_uncertainty\n",
       "0      id1  0.1583                      0.003936                  1.008550\n",
       "1      id2  0.1582                      0.003977                  1.125687\n",
       "2      id3  0.1584                      0.003850                  0.760265\n",
       "3      id4  0.1584                      0.003891                  0.876763\n",
       "4      id5  0.1583                      0.003932                  0.995525\n",
       "5      id6  0.1595                      0.003165                 -1.211569\n",
       "6      id7  0.1595                      0.003189                 -1.141377\n",
       "7      id8  0.1587                      0.003692                  0.305460\n",
       "8      id9  0.1587                      0.003731                  0.416523\n",
       "9     id10  0.1586                      0.003811                  0.646861\n",
       "10    id11  0.1586                      0.003840                  0.732302\n",
       "11    id12  0.1585                      0.003881                  0.849559\n",
       "12    id13  0.1585                      0.003923                  0.970159\n",
       "13    id14  0.1597                      0.003088                 -1.433359\n",
       "14    id15  0.1597                      0.003113                 -1.359460\n",
       "15    id16  0.1597                      0.003134                 -1.301007\n",
       "16    id17  0.1590                      0.003596                  0.029720\n",
       "17    id18  0.1589                      0.003635                  0.141407\n",
       "18    id19  0.1589                      0.003675                  0.255823\n",
       "19    id20  0.1587                      0.003757                  0.492634\n",
       "20    id21  0.1586                      0.003804                  0.627559\n",
       "21    id22  0.1585                      0.003844                  0.742848\n",
       "22    id23  0.1599                      0.003037                 -1.580516\n",
       "23    id24  0.1598                      0.003061                 -1.510575\n",
       "24    id25  0.1598                      0.003085                 -1.439783"
      ]
     },
     "execution_count": 43,
     "metadata": {},
     "output_type": "execute_result"
    }
   ],
   "source": [
    "df[['grid_id', 'mpi', 'absolute_confidence_interval',\n",
    "       'standardized_uncertainty']]"
   ]
  },
  {
   "cell_type": "code",
   "execution_count": 45,
   "id": "85d4c5f5-6d78-4488-8858-b21d33f40c8e",
   "metadata": {},
   "outputs": [],
   "source": [
    "gdf = gdf.merge(df[['grid_id', 'mpi', 'absolute_confidence_interval',\n",
    "       'standardized_uncertainty']], how='left', on='grid_id')"
   ]
  },
  {
   "cell_type": "markdown",
   "id": "c511f204-f672-4a5e-b87b-b34d86ed79d2",
   "metadata": {},
   "source": [
    "### Uncertainty maps"
   ]
  },
  {
   "cell_type": "markdown",
   "id": "0e1e292d-d0a8-4775-a414-377eb76c61a6",
   "metadata": {},
   "source": [
    "Generate maps of prediction uncertainty to visualize areas of high and low certainty in the predictions."
   ]
  },
  {
   "cell_type": "markdown",
   "id": "789861e9-d168-42f4-8ac8-ea8b920e2d94",
   "metadata": {},
   "source": [
    "### Surface maps"
   ]
  },
  {
   "cell_type": "code",
   "execution_count": 49,
   "id": "3fe52017-dec3-4057-9549-706425c74e4a",
   "metadata": {},
   "outputs": [
    {
     "data": {
      "image/png": "[encoded data removed]",
      "text/plain": [
       "<Figure size 1000x1000 with 2 Axes>"
      ]
     },
     "metadata": {},
     "output_type": "display_data"
    }
   ],
   "source": [
    "import matplotlib.pyplot as plt\n",
    "import os\n",
    "\n",
    "# Create a plot\n",
    "fig, ax = plt.subplots(figsize=(10, 10))\n",
    "\n",
    "# Plot the GeoDataFrame with a colormap based on the target_indicator\n",
    "gdf.plot(ax=ax, column=target_indicator, cmap='viridis', alpha=0.8)\n",
    "\n",
    "# Customize the plot (optional)\n",
    "ax.set_title(f'DHS Modeled Surface for {target_indicator}')\n",
    "ax.set_xlabel('Longitude')\n",
    "ax.set_ylabel('Latitude')\n",
    "\n",
    "gdf.plot(ax=ax, column=target_indicator, cmap='viridis', edgecolor='red', alpha=0.5, legend=True)\n",
    "\n",
    "# Save the plot as a PDF\n",
    "plt.savefig(os.path.join('temp_files/report', \n",
    "                         f'{country} - {year} -  {target_indicator} Predictions.pdf'))\n",
    "\n",
    "plt.show()\n"
   ]
  },
  {
   "cell_type": "code",
   "execution_count": null,
   "id": "8487be96-0438-4b33-837d-a0d9a5bdf1ea",
   "metadata": {},
   "outputs": [],
   "source": []
  }
 ],
 "metadata": {
  "kernelspec": {
   "display_name": "Python 3 (ipykernel)",
   "language": "python",
   "name": "python3"
  },
  "language_info": {
   "codemirror_mode": {
    "name": "ipython",
    "version": 3
   },
   "file_extension": ".py",
   "mimetype": "text/x-python",
   "name": "python",
   "nbconvert_exporter": "python",
   "pygments_lexer": "ipython3",
   "version": "3.12.5"
  }
 },
 "nbformat": 4,
 "nbformat_minor": 5
}
