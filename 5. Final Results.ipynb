{
 "cells": [
  {
   "cell_type": "markdown",
   "id": "f4eba559-bc90-429d-bbad-d84e43d8767a",
   "metadata": {},
   "source": [
    "## Surface and uncertainty maps from final predictions"
   ]
  },
  {
   "cell_type": "code",
   "execution_count": 27,
   "id": "7749769e-54ac-4e76-8227-2c5856fe7941",
   "metadata": {},
   "outputs": [
    {
     "name": "stdout",
     "output_type": "stream",
     "text": [
      "The autoreload extension is already loaded. To reload it, use:\n",
      "  %reload_ext autoreload\n"
     ]
    }
   ],
   "source": [
    "import os\n",
    "import functions\n",
    "import matplotlib.pyplot as plt\n",
    "\n",
    "import pandas as pd\n",
    "import numpy as np\n",
    "import geopandas as gpd\n",
    "from shapely.geometry import Point\n",
    "import rasterio\n",
    "\n",
    "from rasterio.features import shapes\n",
    "from shapely.geometry import shape, mapping\n",
    "\n",
    "import seaborn as sns\n",
    "import matplotlib.pyplot as plt\n",
    "\n",
    "import pickle\n",
    "\n",
    "%load_ext autoreload"
   ]
  },
  {
   "cell_type": "markdown",
   "id": "61092407-244c-44d2-a66a-b610bcbbe6ae",
   "metadata": {},
   "source": [
    "### Parameters"
   ]
  },
  {
   "cell_type": "code",
   "execution_count": 28,
   "id": "e9b6f9ef-83a4-4f23-8fdc-8c771b43fcba",
   "metadata": {},
   "outputs": [],
   "source": [
    "#Load report\n",
    "with open('temp_files/report/report.pkl', 'rb') as pickle_file:\n",
    "    report = pickle.load(pickle_file)"
   ]
  },
  {
   "cell_type": "code",
   "execution_count": 29,
   "id": "19d53539-359b-4f66-99b8-6babef443f1e",
   "metadata": {},
   "outputs": [],
   "source": [
    "country = report['Country']\n",
    "year = report['DHS survey year']\n",
    "target_indicator = report['Target Indicator']"
   ]
  },
  {
   "cell_type": "markdown",
   "id": "e7ca905e-cd97-4ecf-814a-d4bfed55ffc7",
   "metadata": {},
   "source": [
    "### Load files"
   ]
  },
  {
   "cell_type": "code",
   "execution_count": 30,
   "id": "2c7d5e5a-45b5-4d68-8a7c-8abdd21965fa",
   "metadata": {},
   "outputs": [],
   "source": [
    "# Load the shape file with geographic covariates\n",
    "shape_path = os.path.join('temp_files/clipped_shape/clipped_shape.shp')\n",
    "gdf = gpd.read_file(shape_path)"
   ]
  },
  {
   "cell_type": "code",
   "execution_count": 31,
   "id": "6b591e32-de9f-4220-bf82-69820a383f74",
   "metadata": {},
   "outputs": [],
   "source": [
    "gdf = gdf[['grid_id', 'geometry']]"
   ]
  },
  {
   "cell_type": "code",
   "execution_count": 32,
   "id": "fead14fd-ecba-452f-9a2f-6b3c72bb0267",
   "metadata": {},
   "outputs": [],
   "source": [
    "#Load report\n",
    "with open('temp_files/predictions_final.pkl', 'rb') as pickle_file:\n",
    "    df = pickle.load(pickle_file)"
   ]
  },
  {
   "cell_type": "code",
   "execution_count": 33,
   "id": "85d4c5f5-6d78-4488-8858-b21d33f40c8e",
   "metadata": {},
   "outputs": [],
   "source": [
    "gdf = gdf.merge(df[['grid_id', 'mpi', 'absolute_confidence_interval',\n",
    "       'standardized_uncertainty']], how='left', on='grid_id')"
   ]
  },
  {
   "cell_type": "markdown",
   "id": "c511f204-f672-4a5e-b87b-b34d86ed79d2",
   "metadata": {},
   "source": [
    "### Uncertainty maps"
   ]
  },
  {
   "cell_type": "markdown",
   "id": "0e1e292d-d0a8-4775-a414-377eb76c61a6",
   "metadata": {},
   "source": [
    "Generate maps of prediction uncertainty to visualize areas of high and low certainty in the predictions."
   ]
  },
  {
   "cell_type": "markdown",
   "id": "789861e9-d168-42f4-8ac8-ea8b920e2d94",
   "metadata": {},
   "source": [
    "### Surface maps"
   ]
  },
  {
   "cell_type": "code",
   "execution_count": 34,
   "id": "3fe52017-dec3-4057-9549-706425c74e4a",
   "metadata": {},
   "outputs": [
    {
     "data": {
      "image/png": "[encoded data removed]",
      "text/plain": [
       "<Figure size 1000x1000 with 2 Axes>"
      ]
     },
     "metadata": {},
     "output_type": "display_data"
    }
   ],
   "source": [
    "import matplotlib.pyplot as plt\n",
    "import os\n",
    "\n",
    "# Create a plot\n",
    "fig, ax = plt.subplots(figsize=(10, 10))\n",
    "\n",
    "# Plot the GeoDataFrame with a colormap based on the target_indicator\n",
    "gdf.plot(ax=ax, column=target_indicator, cmap='viridis', alpha=0.8)\n",
    "\n",
    "# Customize the plot (optional)\n",
    "ax.set_title(f'DHS Modeled Surface for {target_indicator}')\n",
    "ax.set_xlabel('Longitude')\n",
    "ax.set_ylabel('Latitude')\n",
    "\n",
    "gdf.plot(ax=ax, column=target_indicator, cmap='viridis', alpha=0.5, legend=True)\n",
    "\n",
    "# Save the plot as a PDF\n",
    "plt.savefig(os.path.join('temp_files/report', \n",
    "                         f'{country} - {year} -  {target_indicator} Predictions.pdf'))\n",
    "\n",
    "plt.show()\n"
   ]
  },
  {
   "cell_type": "code",
   "execution_count": null,
   "id": "9a09a079-1efb-4eda-b137-ba456dbbae1e",
   "metadata": {},
   "outputs": [],
   "source": []
  }
 ],
 "metadata": {
  "kernelspec": {
   "display_name": "Python 3 (ipykernel)",
   "language": "python",
   "name": "python3"
  },
  "language_info": {
   "codemirror_mode": {
    "name": "ipython",
    "version": 3
   },
   "file_extension": ".py",
   "mimetype": "text/x-python",
   "name": "python",
   "nbconvert_exporter": "python",
   "pygments_lexer": "ipython3",
   "version": "3.12.5"
  }
 },
 "nbformat": 4,
 "nbformat_minor": 5
}
