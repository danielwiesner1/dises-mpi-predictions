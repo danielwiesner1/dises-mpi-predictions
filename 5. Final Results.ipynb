{
 "cells": [
  {
   "cell_type": "markdown",
   "id": "f4eba559-bc90-429d-bbad-d84e43d8767a",
   "metadata": {},
   "source": [
    "## Surface and uncertainty maps from final predictions"
   ]
  },
  {
   "cell_type": "code",
   "execution_count": null,
   "id": "7749769e-54ac-4e76-8227-2c5856fe7941",
   "metadata": {},
   "outputs": [],
   "source": [
    "import os\n",
    "import functions\n",
    "import matplotlib.pyplot as plt\n",
    "\n",
    "import pandas as pd\n",
    "import numpy as np\n",
    "import geopandas as gpd\n",
    "from shapely.geometry import Point\n",
    "import rasterio\n",
    "\n",
    "from rasterio.features import shapes\n",
    "from shapely.geometry import shape, mapping\n",
    "\n",
    "import seaborn as sns\n",
    "import matplotlib.pyplot as plt\n",
    "\n",
    "import pickle\n",
    "\n",
    "%load_ext autoreload"
   ]
  },
  {
   "cell_type": "markdown",
   "id": "61092407-244c-44d2-a66a-b610bcbbe6ae",
   "metadata": {},
   "source": [
    "### Parameters"
   ]
  },
  {
   "cell_type": "code",
   "execution_count": null,
   "id": "e9b6f9ef-83a4-4f23-8fdc-8c771b43fcba",
   "metadata": {},
   "outputs": [],
   "source": [
    "#Load report\n",
    "with open('temp_files/report/report.pkl', 'rb') as pickle_file:\n",
    "    report = pickle.load(pickle_file)"
   ]
  },
  {
   "cell_type": "code",
   "execution_count": null,
   "id": "19d53539-359b-4f66-99b8-6babef443f1e",
   "metadata": {},
   "outputs": [],
   "source": [
    "country = report['Country']\n",
    "year = report['DHS survey year']\n",
    "#target_indicator = report['Target Indicator']\n",
    "target_indicator = report['Target Indicator']"
   ]
  },
  {
   "cell_type": "markdown",
   "id": "e7ca905e-cd97-4ecf-814a-d4bfed55ffc7",
   "metadata": {},
   "source": [
    "### Load files"
   ]
  },
  {
   "cell_type": "code",
   "execution_count": null,
   "id": "2c7d5e5a-45b5-4d68-8a7c-8abdd21965fa",
   "metadata": {},
   "outputs": [],
   "source": [
    "# Load the shape file with geographic covariates\n",
    "shape_path = os.path.join('temp_files/clipped_shape/clipped_shape.shp')\n",
    "gdf = gpd.read_file(shape_path)"
   ]
  },
  {
   "cell_type": "code",
   "execution_count": null,
   "id": "6b591e32-de9f-4220-bf82-69820a383f74",
   "metadata": {},
   "outputs": [],
   "source": [
    "gdf = gdf[['grid_id', 'geometry']]"
   ]
  },
  {
   "cell_type": "code",
   "execution_count": null,
   "id": "fead14fd-ecba-452f-9a2f-6b3c72bb0267",
   "metadata": {},
   "outputs": [],
   "source": [
    "#Load report\n",
    "with open('temp_files/predictions.pkl', 'rb') as pickle_file:\n",
    "    df = pickle.load(pickle_file)"
   ]
  },
  {
   "cell_type": "markdown",
   "id": "56178781-afe1-467b-90d7-9f01aa3aba26",
   "metadata": {},
   "source": [
    "### Revert normalization and transform"
   ]
  },
  {
   "cell_type": "code",
   "execution_count": null,
   "id": "d0636f0d-ee0f-4234-9162-76814f6d0008",
   "metadata": {},
   "outputs": [],
   "source": [
    "functions.plot_distribution_with_statistics(pd.Series(df[target_indicator]), picture_path)"
   ]
  },
  {
   "cell_type": "code",
   "execution_count": null,
   "id": "cb86598e-571c-4cb3-8349-0e418df5ede9",
   "metadata": {},
   "outputs": [],
   "source": [
    "df[target_indicator] = df[target_indicator]\n"
   ]
  },
  {
   "cell_type": "code",
   "execution_count": null,
   "id": "8e2af15c-9b42-4da3-84cb-8f88b4237226",
   "metadata": {},
   "outputs": [],
   "source": [
    "#Revert standardization\n",
    "df[target_indicator+'_denormalized'] = functions.revert_standardization(df[target_indicator], \n",
    "                                                                        report['Target mean'], \n",
    "                                                                        report['Target std'])\n",
    "\n",
    "df['mpi_denormalized'] = df['mpi'] #Rescale to compensate for jitter in the previous notebook\n",
    "\n",
    "#Revert transformation\n",
    "df[target_indicator] = functions.revert_transformation(df[target_indicator+'_denormalized'], \n",
    "                                report['Transformation Applied'],\n",
    "                                report['Target mean'], \n",
    "                                report['Target std'], \n",
    "                               report['Lambda']).round(4)"
   ]
  },
  {
   "cell_type": "code",
   "execution_count": null,
   "id": "70c2451b-939a-4e51-9212-faad85ec27bf",
   "metadata": {},
   "outputs": [],
   "source": [
    "#df[target_indicator] = df[target_indicator]*100 #Rescale to compensate for jitter in the previous notebook"
   ]
  },
  {
   "cell_type": "code",
   "execution_count": null,
   "id": "b23e31f0-9feb-4842-9b29-f3c2d36fb71c",
   "metadata": {},
   "outputs": [],
   "source": [
    "picture_path = os.path.join('temp_files/report', '12. Target Predictions.png')\n",
    "functions.plot_distribution_with_statistics(pd.Series(df[target_indicator]), picture_path)"
   ]
  },
  {
   "cell_type": "markdown",
   "id": "e05d0daf-4c26-4b8d-bb0f-382b736a161f",
   "metadata": {},
   "source": [
    "### Uncertainty Quantification"
   ]
  },
  {
   "cell_type": "markdown",
   "id": "f64c9b9c-e599-4567-beb5-15963a36a34e",
   "metadata": {},
   "source": [
    "#### Credible Intervals\n",
    "\n",
    "Evaluate the width of the credible intervals for predictions. Narrower intervals indicate higher precision, but they should still encompass the true values."
   ]
  },
  {
   "cell_type": "markdown",
   "id": "dd5d96cc-952c-4768-9535-3a9868ff0d45",
   "metadata": {},
   "source": [
    "Width of the Confidence Interval (ci_width):\n",
    "\n",
    "    This represents the range between the upper and lower bounds of the confidence interval.\n",
    "\n",
    "Absolute Confidence Interval (absolute_confidence_interval):\n",
    "\n",
    "    This is half the width of the confidence interval. It's the margin of error, representing how far the estimate could be from the true population parameter, in absolute terms."
   ]
  },
  {
   "cell_type": "code",
   "execution_count": null,
   "id": "0c74cac1-bcc9-4fe9-9d31-20499cc64478",
   "metadata": {},
   "outputs": [],
   "source": [
    "# Adding a column to represent the absolute confidence interval (absolute margin of error)\n",
    "\n",
    "df['ci_width'] = df['ci_upper'] - df['ci_lower']\n",
    "# Adding a column to represent the width of the confidence interval\n",
    "\n",
    "df['absolute_confidence_interval'] = df['ci_width'] / 2 #Absolute margin of error\n",
    "\n",
    "df['standardized_uncertainty'] = (df['absolute_confidence_interval'] - df['absolute_confidence_interval'].mean())  / df['absolute_confidence_interval'].std()"
   ]
  },
  {
   "cell_type": "markdown",
   "id": "30050b6c-256e-4205-b964-8b7b18a5cece",
   "metadata": {},
   "source": [
    "### Merge with gdf"
   ]
  },
  {
   "cell_type": "code",
   "execution_count": null,
   "id": "85d4c5f5-6d78-4488-8858-b21d33f40c8e",
   "metadata": {},
   "outputs": [],
   "source": [
    "gdf = gdf.merge(df[['grid_id', target_indicator, 'absolute_confidence_interval',\n",
    "       'standardized_uncertainty']], how='left', on='grid_id')"
   ]
  },
  {
   "cell_type": "markdown",
   "id": "789861e9-d168-42f4-8ac8-ea8b920e2d94",
   "metadata": {},
   "source": [
    "### Surface maps"
   ]
  },
  {
   "cell_type": "code",
   "execution_count": null,
   "id": "0097ac47-e928-4658-bf36-1a43237d273b",
   "metadata": {},
   "outputs": [],
   "source": [
    "# Create a plot\n",
    "fig, ax = plt.subplots(figsize=(10, 10))\n",
    "\n",
    "# Plot the GeoDataFrame with a colormap based on the target_indicator\n",
    "gdf.plot(ax=ax, column=target_indicator, cmap='viridis', alpha=0.8)\n",
    "\n",
    "# Customize the plot (optional)\n",
    "ax.set_title(f'DHS Modeled Surface for {target_indicator}')\n",
    "ax.set_xlabel('Longitude')\n",
    "ax.set_ylabel('Latitude')\n",
    "\n",
    "# Plot again with a legend\n",
    "gdf_plot = gdf.plot(ax=ax, column=target_indicator, cmap='viridis', alpha=0.5)\n",
    "\n",
    "# Add a color bar\n",
    "sm = plt.cm.ScalarMappable(cmap='viridis', norm=plt.Normalize(vmin=gdf[target_indicator].min(), vmax=gdf[target_indicator].max()))\n",
    "sm._A = []  # Create an empty array for the scalar mappable\n",
    "cbar = fig.colorbar(sm, ax=ax, shrink=0.5)  # Adjust the 'shrink' parameter to reduce color bar size\n",
    "\n",
    "\n",
    "# Save the plot as a PDF\n",
    "plt.savefig(os.path.join('temp_files/report', \n",
    "                         f'{country} - {year} -  {target_indicator} Predictions.pdf'))\n",
    "\n",
    "plt.show()\n",
    "\n"
   ]
  },
  {
   "cell_type": "markdown",
   "id": "abb933b9-27ed-42ce-ad58-a4f7d0bc9e80",
   "metadata": {},
   "source": [
    "### Uncertainty maps"
   ]
  },
  {
   "cell_type": "markdown",
   "id": "0c549508-53e2-4bdf-9437-1a0a634a37d3",
   "metadata": {},
   "source": [
    "Generate maps of prediction uncertainty to visualize areas of high and low certainty in the predictions."
   ]
  },
  {
   "cell_type": "code",
   "execution_count": null,
   "id": "b082ba90-f6e6-45aa-8015-956311f75425",
   "metadata": {},
   "outputs": [],
   "source": [
    "# Create a plot\n",
    "fig, ax = plt.subplots(figsize=(10, 10))\n",
    "\n",
    "# Plot the GeoDataFrame with a colormap based on the target_indicator\n",
    "gdf.plot(ax=ax, column=target_indicator, cmap='viridis', alpha=0.8)\n",
    "\n",
    "# Customize the plot (optional)\n",
    "ax.set_title(f'DHS Modeled Surface Uncertainty for {target_indicator}')\n",
    "ax.set_xlabel('Longitude')\n",
    "ax.set_ylabel('Latitude')\n",
    "\n",
    "# Plot again with a legend\n",
    "gdf_plot = gdf.plot(ax=ax, column='absolute_confidence_interval', cmap='viridis', alpha=0.5)\n",
    "\n",
    "# Add a color bar\n",
    "sm = plt.cm.ScalarMappable(cmap='viridis', norm=plt.Normalize(vmin=gdf['absolute_confidence_interval'].min(), vmax=gdf['absolute_confidence_interval'].max()))\n",
    "sm._A = []  # Create an empty array for the scalar mappable\n",
    "cbar = fig.colorbar(sm, ax=ax, shrink=0.5)  # Adjust the 'shrink' parameter to reduce color bar size\n",
    "\n",
    "# Add a note to the plot\n",
    "note_text = 'Uncertainty = Absolute Confindence Interval = CI With / 2'\n",
    "\n",
    "ax.text(0.5, -0.3, note_text, transform=ax.transAxes, fontsize=12, color='gray', \n",
    "        ha='center', va='center', bbox=dict(facecolor='white', alpha=0.5))\n",
    "\n",
    "# Save the plot as a PDF\n",
    "plt.savefig(os.path.join('temp_files/report', \n",
    "                         f'{country} - {year} -  {target_indicator} Predictions.pdf'))\n",
    "\n",
    "plt.show()\n",
    "\n"
   ]
  },
  {
   "cell_type": "code",
   "execution_count": null,
   "id": "9d1d6d69-f567-484c-aae4-807a16656077",
   "metadata": {},
   "outputs": [],
   "source": [
    "#Comparte to original values\n",
    "gdf1 = pd.read_pickle('temp_files/selected_features.pkl')\n",
    "\n",
    "selected_features = gdf1.columns.to_list()\n",
    "\n",
    "# Remove target_values and others\n",
    "remove_list = [target_indicator, 'geometry', 'grid_id']\n",
    "\n",
    "# Remove elements in remove_list from main_list\n",
    "selected_features = [item for item in selected_features if item not in remove_list]\n",
    "\n",
    "functions.plot_distribution_with_statistics(pd.Series(gdf1[target_indicator]), picture_path)"
   ]
  },
  {
   "cell_type": "code",
   "execution_count": null,
   "id": "83eeb2ae-d143-43fb-a9dd-cf25c71b8b38",
   "metadata": {},
   "outputs": [],
   "source": []
  }
 ],
 "metadata": {
  "kernelspec": {
   "display_name": "Python 3 (ipykernel)",
   "language": "python",
   "name": "python3"
  },
  "language_info": {
   "codemirror_mode": {
    "name": "ipython",
    "version": 3
   },
   "file_extension": ".py",
   "mimetype": "text/x-python",
   "name": "python",
   "nbconvert_exporter": "python",
   "pygments_lexer": "ipython3",
   "version": "3.12.5"
  }
 },
 "nbformat": 4,
 "nbformat_minor": 5
}
