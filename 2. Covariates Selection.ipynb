{
 "cells": [
  {
   "cell_type": "markdown",
   "id": "5f891fd1-e73e-4098-900f-54f986562774",
   "metadata": {},
   "source": [
    "# DHS surface interpolation"
   ]
  },
  {
   "cell_type": "code",
   "execution_count": null,
   "id": "1ec76db8-e08c-483c-ba58-055100674eb0",
   "metadata": {
    "tags": []
   },
   "outputs": [],
   "source": [
    "import os\n",
    "import functions\n",
    "import matplotlib.pyplot as plt\n",
    "\n",
    "import pandas as pd\n",
    "import numpy as np\n",
    "import geopandas as gpd\n",
    "from shapely.geometry import Point\n",
    "import rasterio\n",
    "\n",
    "from rasterio.features import shapes\n",
    "from shapely.geometry import shape, mapping\n",
    "\n",
    "import seaborn as sns\n",
    "import matplotlib.pyplot as plt\n",
    "\n",
    "import pickle\n",
    "import shutil\n",
    "\n",
    "%load_ext autoreload"
   ]
  },
  {
   "cell_type": "code",
   "execution_count": null,
   "id": "a7d51248-9269-4e41-b7d2-a5d55b1c8e33",
   "metadata": {
    "tags": []
   },
   "outputs": [],
   "source": [
    "from skgstat import Variogram"
   ]
  },
  {
   "cell_type": "markdown",
   "id": "b987b251-6aed-4649-92b5-67d184891f47",
   "metadata": {},
   "source": [
    "### Parameters"
   ]
  },
  {
   "cell_type": "code",
   "execution_count": null,
   "id": "cd4338bf-0b66-4c90-a262-2b3654ed8dc1",
   "metadata": {
    "tags": []
   },
   "outputs": [],
   "source": [
    "#Urban surface threshold to clip out urban grids (from 0-30) on the Global Human Settlement Layer (GHSL) by the European Commission\n",
    "\n",
    "ust = 25 # (o to 30) 0 is a totally unpopulated pixel and 30 is a totally urban pixel\n",
    "target_indicator = 'mpi' #Name of the indicator form the DHS cluster data to be predicted\n",
    "country = 'KHM' #Three digit country code\n",
    "year = 2014 #Year of the dhs survey in use\n",
    "report = {}\n",
    "buffer_size = 10000 # In meters"
   ]
  },
  {
   "cell_type": "code",
   "execution_count": null,
   "id": "cb3f0b45-f931-494a-8920-c8e83b6ef40b",
   "metadata": {
    "tags": []
   },
   "outputs": [],
   "source": [
    "report['Country'] = country\n",
    "report['DHS survey year'] = year\n",
    "report['Target Indicator'] = target_indicator\n",
    "report['Urban-rural threshold'] = ust\n",
    "report['Buffer Size (KM)']  = buffer_size/1000"
   ]
  },
  {
   "cell_type": "markdown",
   "id": "6f54430c-1e47-4ab5-9b4c-9a290a402bfe",
   "metadata": {},
   "source": [
    "### Preparation of Georeferenced DHS Indicator Data"
   ]
  },
  {
   "cell_type": "code",
   "execution_count": null,
   "id": "6be439fe-34ab-40f0-861a-4affdae797e4",
   "metadata": {
    "tags": []
   },
   "outputs": [],
   "source": [
    "data_folder = 'data'"
   ]
  },
  {
   "cell_type": "code",
   "execution_count": null,
   "id": "a739ac69-771c-404d-8a00-b3fe281f1b53",
   "metadata": {
    "tags": []
   },
   "outputs": [],
   "source": [
    "#Load DHS data\n",
    "path =  os.path.join(data_folder, country, 'DHS/mpi_khm_dhs14_cot_clust_CI_mis/mpi_khm_dhs14_cot_clust_CI_mis.shp') #Data for 2014\n",
    "dhs = gpd.read_file(path)\n",
    "dhs = functions.exclude_zero_coordinates(dhs)\n",
    "#Store the file's crs and use it as the projects\n",
    "pcrs = dhs.crs"
   ]
  },
  {
   "cell_type": "code",
   "execution_count": null,
   "id": "f2eaa83e-5af2-4118-b60d-530c21a7a3fc",
   "metadata": {
    "tags": []
   },
   "outputs": [],
   "source": [
    "report['DHS clusters before urban masking'] = dhs.shape[0]"
   ]
  },
  {
   "cell_type": "markdown",
   "id": "220a82f2-3702-45c9-b26a-413e3076217a",
   "metadata": {},
   "source": [
    "## Selection and Preparation of Geospatial Covariate Layers"
   ]
  },
  {
   "cell_type": "code",
   "execution_count": null,
   "id": "294266e2-7bb7-43d9-ba61-6844985ae13d",
   "metadata": {
    "tags": []
   },
   "outputs": [],
   "source": [
    "# Load the shape file with geographic covariates\n",
    "initial_shape_path = os.path.join(data_folder, country, 'panel/panel-khm-02082024-v2.shp')\n",
    "gdf = gpd.read_file(initial_shape_path)\n",
    "gdf = gdf.to_crs(pcrs)"
   ]
  },
  {
   "cell_type": "code",
   "execution_count": null,
   "id": "f7d4cc5f-af78-469b-b38e-49b94e9e75be",
   "metadata": {
    "tags": []
   },
   "outputs": [],
   "source": [
    "report['Grids before masking'] = gdf.shape[0]"
   ]
  },
  {
   "cell_type": "code",
   "execution_count": null,
   "id": "1a1b39bf-cd8b-4b6f-a9d4-3da8c7ce2737",
   "metadata": {
    "tags": []
   },
   "outputs": [],
   "source": [
    "report['CRS'] = pcrs.name"
   ]
  },
  {
   "cell_type": "markdown",
   "id": "64663150-2c98-4031-964f-18e532fbaff9",
   "metadata": {},
   "source": [
    "### Drop urban areas\n",
    "\n",
    "To identify urban zones we use: \n",
    "\n",
    "- Global Human Settlement Layer (GHSL) by the European Commission:\n",
    "\t•\tThe GHSL produces global maps of urban areas based on satellite imagery and other data.\n",
    "- We are using: GHS-SMOD\n",
    "- https://human-settlement.emergency.copernicus.eu/ghs_smod2023.php"
   ]
  },
  {
   "cell_type": "code",
   "execution_count": null,
   "id": "d6d3136e-05d3-4fe2-8816-5a76494ac34f",
   "metadata": {},
   "outputs": [],
   "source": [
    "#Paths\n",
    "\n",
    "urban_layer_raster = os.path.join(data_folder, 'Global/GHS_SMOD_E2030_GLOBE_R2023A_54009_1000_V2_0/GHS_SMOD_E2030_GLOBE_R2023A_54009_1000_V2_0.tif')\n",
    "country_bounds = os.path.join(data_folder, country, 'country_boundary/country_bounds.shp')\n",
    "cropped_urban_layer_raster = 'temp_files/urban_layer.tiff'\n",
    "report_folder = 'temp_files/report'\n",
    "\n",
    "#Folder for temporary files\n",
    "os.makedirs('temp_files', exist_ok=True)\n",
    "os.makedirs(report_folder, exist_ok=True)"
   ]
  },
  {
   "cell_type": "markdown",
   "id": "c143018d-1dff-4ced-b296-5db368bba844",
   "metadata": {},
   "source": [
    "#### Create a mask of urban areas"
   ]
  },
  {
   "cell_type": "code",
   "execution_count": null,
   "id": "324e6cf2-2e8e-4bf8-b804-98e81c436eff",
   "metadata": {
    "tags": []
   },
   "outputs": [],
   "source": [
    "#Crop the global urban areas raster to the area of the Country of interest\n",
    "functions.raster_clipping(country_bounds, urban_layer_raster, cropped_urban_layer_raster)"
   ]
  },
  {
   "cell_type": "code",
   "execution_count": null,
   "id": "fbaba33e-bdf2-4058-8ca4-fc135c90c25d",
   "metadata": {
    "tags": []
   },
   "outputs": [],
   "source": [
    "urban_mask = functions.generate_urban_mask(cropped_urban_layer_raster, ust, 'temp_files/urban_mask_polygons.shp')"
   ]
  },
  {
   "cell_type": "code",
   "execution_count": null,
   "id": "c9f4fed0-242f-4e3c-94ea-fdb98dcc242e",
   "metadata": {
    "tags": []
   },
   "outputs": [],
   "source": [
    "# Create a plot\n",
    "fig, ax = plt.subplots(figsize=(5, 5))\n",
    "\n",
    "#Check out the urban mask\n",
    "title = f\"Urban areas mask for {country}\"\n",
    "urban_mask.plot(ax=ax)\n",
    "ax.set_title(title)"
   ]
  },
  {
   "cell_type": "code",
   "execution_count": null,
   "id": "debb87d2-719c-4512-8a6d-cd368f29cd15",
   "metadata": {
    "tags": []
   },
   "outputs": [],
   "source": [
    "#Clip the urban areas out of the main df\n",
    "gdf = functions.inverted_clip_touching_gdf(gdf, urban_mask)\n",
    "dhs = functions.inverted_clip_touching_gdf(dhs, urban_mask)"
   ]
  },
  {
   "cell_type": "code",
   "execution_count": null,
   "id": "b9151d24-4388-43df-9b9f-59bf5da6c6c2",
   "metadata": {
    "tags": []
   },
   "outputs": [],
   "source": [
    "report['Grids after masking'] = gdf.shape[0]"
   ]
  },
  {
   "cell_type": "code",
   "execution_count": null,
   "id": "7ed9e423-f40c-40d4-8c4e-373760b8d5df",
   "metadata": {
    "tags": []
   },
   "outputs": [],
   "source": [
    "report['DHS clusters after masking'] = dhs.shape[0]"
   ]
  },
  {
   "cell_type": "code",
   "execution_count": null,
   "id": "c5999cb7-3add-4b51-b993-239f67b8c758",
   "metadata": {
    "tags": []
   },
   "outputs": [],
   "source": [
    "# Create a plot\n",
    "fig, ax = plt.subplots(figsize=(10, 10))\n",
    "\n",
    "# Plot the GeoDataFrame\n",
    "gdf.plot(ax=ax, facecolor='white', edgecolor='red', alpha=0.5)\n",
    "\n",
    "# Plot the points on top\n",
    "dhs.plot(ax=ax, color='blue', markersize=5)\n",
    "\n",
    "# Customize the plot (optional)\n",
    "ax.set_title('5 km Grid and DHS clusters')\n",
    "ax.set_xlabel('Longitude')\n",
    "ax.set_ylabel('Latitude')\n",
    "\n",
    "plt.savefig(os.path.join(report_folder, '1. Grids - DHS Clusters.pdf'))"
   ]
  },
  {
   "cell_type": "code",
   "execution_count": null,
   "id": "71e72d30-8403-4388-af87-6564be43ccd5",
   "metadata": {
    "tags": []
   },
   "outputs": [],
   "source": [
    "    #Saved the clipped shape for later use\n",
    "    shape_folder = \"temp_files/clipped_shape\"\n",
    "    \n",
    "    # Check if the directory exists\n",
    "    if os.path.exists(shape_folder):\n",
    "        # If it exists, remove the directory and all its contents\n",
    "        shutil.rmtree(shape_folder)\n",
    "    \n",
    "    os.mkdir(shape_folder)\n",
    "    gdf.to_file(os.path.join(shape_folder,'clipped_shape.shp'))"
   ]
  },
  {
   "cell_type": "markdown",
   "id": "59e17f95-5b13-4348-807f-0c8cf531c452",
   "metadata": {},
   "source": [
    "### Deal with Multiple Clusters per Grid\n",
    "\n",
    "- We are averaging each cluster's values in each variable with the other clusters in the grid. It is a gross shortcut, and we will need to review this part. The ideal approach is to go back to the DHS microdata and recalculate averages per grid using the individual data and the cluster IDs.\n",
    "- However, there are reasons to think that the multiple-clusters-per-grid problem will disappear as the grid resolution becomes finer, so it is not worth spending too much time on this at the moment.\n"
   ]
  },
  {
   "cell_type": "code",
   "execution_count": null,
   "id": "d0c16abd-609a-4c98-a527-79efb931293f",
   "metadata": {
    "scrolled": true,
    "tags": []
   },
   "outputs": [],
   "source": [
    "#Join the dhs data to the grids gdf\n",
    "joined_gdf = gpd.sjoin(dhs, gdf, how='left', predicate='within')\n",
    "\n",
    "# Group by the index of the grid cells and count the number of points in each cell\n",
    "point_counts = joined_gdf.groupby('index_right').size()\n",
    "\n",
    "# Add the point counts to the original grid GeoDataFrame\n",
    "gdf['point_count'] = gdf.index.map(point_counts).fillna(0).astype(int)\n",
    "\n",
    "#Number of grids with multiple clusters\n",
    "t1 = gdf['point_count'].value_counts()\n",
    "print(t1)"
   ]
  },
  {
   "cell_type": "code",
   "execution_count": null,
   "id": "ff88cf1d-9a73-4e15-994d-0c18c421549a",
   "metadata": {
    "tags": []
   },
   "outputs": [],
   "source": [
    "report['Girds with multiple clusters'] = t1[range(1,t1.shape[0]-1)].sum()"
   ]
  },
  {
   "cell_type": "code",
   "execution_count": null,
   "id": "8686ce34-9523-40fd-a79d-fb5852e56eb3",
   "metadata": {
    "tags": []
   },
   "outputs": [],
   "source": [
    "#Identify all the dhs columns plus the grid ID\n",
    "dhs_variables = dhs.columns.to_list()\n",
    "\n",
    "#Include the grid ID\n",
    "dhs_variables.append('grid_id')"
   ]
  },
  {
   "cell_type": "code",
   "execution_count": null,
   "id": "8631f90e-bb52-4799-9bb1-bc017d0f0b74",
   "metadata": {
    "tags": []
   },
   "outputs": [],
   "source": [
    "#Get the mean of clusters by grid\n",
    "dhs_averages = pd.concat([joined_gdf[dhs_variables].select_dtypes(include='number'), joined_gdf['grid_id']], axis=1).groupby('grid_id').mean().reset_index()"
   ]
  },
  {
   "cell_type": "code",
   "execution_count": null,
   "id": "e4e93e94-37fb-4f08-8628-309c5df5dab3",
   "metadata": {
    "tags": []
   },
   "outputs": [],
   "source": [
    "#Merge the mean of dhs numeric variables back to the orginal grids gdf (only one observation per grid)\n",
    "gdf = gdf.merge(dhs_averages, on='grid_id', how='left')"
   ]
  },
  {
   "cell_type": "markdown",
   "id": "ee7068a4-3f45-470a-b7c7-b5b2cbffad31",
   "metadata": {},
   "source": [
    "### Cleaning the grids gdf"
   ]
  },
  {
   "cell_type": "code",
   "execution_count": null,
   "id": "632f1b63-77af-4ae3-9c1c-97b5b9b8c65a",
   "metadata": {
    "tags": []
   },
   "outputs": [],
   "source": [
    "#Drop unnecessary variables\n",
    "#gdf.drop(['prov_code', 'treat'], axis=1, inplace=True)"
   ]
  },
  {
   "cell_type": "code",
   "execution_count": null,
   "id": "11a5976f-40da-49b7-b8e1-9f5341462ebb",
   "metadata": {
    "tags": []
   },
   "outputs": [],
   "source": [
    "dhs_numeric_variables = dhs.select_dtypes(include='number').columns.to_list()\n",
    "dhs_numeric_variables.remove(target_indicator)"
   ]
  },
  {
   "cell_type": "code",
   "execution_count": null,
   "id": "da85572a-de2a-4c80-9202-e9a41718e29e",
   "metadata": {
    "tags": []
   },
   "outputs": [],
   "source": [
    "#Keep only the target variable from the dhs set\n",
    "gdf.drop(dhs_numeric_variables, axis=1, inplace = True)"
   ]
  },
  {
   "cell_type": "code",
   "execution_count": null,
   "id": "ed12cacf-02b9-405e-a5b9-871a04ecc7dd",
   "metadata": {
    "tags": []
   },
   "outputs": [],
   "source": [
    "report['Covariates before filtering'] = gdf.shape[1] - 3"
   ]
  },
  {
   "cell_type": "code",
   "execution_count": null,
   "id": "e5ad2c7e-6596-46b6-ba5f-bcd934b3960d",
   "metadata": {
    "tags": []
   },
   "outputs": [],
   "source": [
    "#This steps keeps only covariates on the year and -+1 year\n",
    "gdf = functions.filter_columns_by_year(gdf, year)"
   ]
  },
  {
   "cell_type": "code",
   "execution_count": null,
   "id": "1c57af87-dbb4-4633-9607-a6edb1737498",
   "metadata": {
    "tags": []
   },
   "outputs": [],
   "source": [
    "report['Covariates after filtering by -+ 1y'] = gdf.shape[1] - 3"
   ]
  },
  {
   "cell_type": "markdown",
   "id": "18962b6c-42cd-4a05-b10a-014966069a7e",
   "metadata": {},
   "source": [
    "### Dealing with missing values"
   ]
  },
  {
   "cell_type": "code",
   "execution_count": null,
   "id": "16807908-a3be-4f95-afc2-870616088c61",
   "metadata": {
    "tags": []
   },
   "outputs": [],
   "source": [
    "picture_path = os.path.join(report_folder, '2. All covariates missing chart.pdf')\n",
    "functions.plot_missing_values_vertical(gdf, picture_path)"
   ]
  },
  {
   "cell_type": "code",
   "execution_count": null,
   "id": "39700544-d83a-4726-9125-10742ee429d9",
   "metadata": {
    "tags": []
   },
   "outputs": [],
   "source": [
    "# Get a list of columns with null values (except the target variable of course)\n",
    "columns_with_nulls = gdf.columns[gdf.isnull().any()].tolist()\n",
    "columns_with_nulls.remove(target_indicator)"
   ]
  },
  {
   "cell_type": "code",
   "execution_count": null,
   "id": "ab543f11-1e1d-43bd-b688-704cb939396a",
   "metadata": {
    "tags": []
   },
   "outputs": [],
   "source": [
    "#We perform simple interpolation of null values to keep going, but the input data should not have any. \n",
    "for column in columns_with_nulls: \n",
    "    # Perform IDW interpolation to replace null values\n",
    "    #gdf = functions.idw_interpolation(gdf, column)\n",
    "    gdf[column] = gdf[column].fillna(0)"
   ]
  },
  {
   "cell_type": "markdown",
   "id": "f64e0ca7-5bd0-4e39-8dfc-465bfff08c90",
   "metadata": {},
   "source": [
    "## Exploratory Analysis of target indicator"
   ]
  },
  {
   "cell_type": "code",
   "execution_count": null,
   "id": "6cb65a8a-3081-471c-8986-80d3cec2d27f",
   "metadata": {
    "tags": []
   },
   "outputs": [],
   "source": [
    "#There are many observations that are close to 0 in the MPI estimation.\n",
    "picture_path = os.path.join(report_folder, '3. Target Distribution Before Transform.pdf')\n",
    "functions.plot_distribution_with_statistics(gdf[target_indicator], picture_path)"
   ]
  },
  {
   "cell_type": "code",
   "execution_count": null,
   "id": "f3f7d10a-f9a1-4dce-ae12-7a059b06d803",
   "metadata": {
    "tags": []
   },
   "outputs": [],
   "source": [
    "t2 = gdf[target_indicator].describe()"
   ]
  },
  {
   "cell_type": "code",
   "execution_count": null,
   "id": "6dd339f3-c70d-44c1-bee9-3201c37d64f8",
   "metadata": {
    "tags": []
   },
   "outputs": [],
   "source": [
    "print(t2)"
   ]
  },
  {
   "cell_type": "code",
   "execution_count": null,
   "id": "f0f1068d-dcd1-4035-a1bf-c83e16074473",
   "metadata": {
    "tags": []
   },
   "outputs": [],
   "source": [
    "table_path = os.path.join(report_folder, '5. Target descriptive before transform.html')\n",
    "pd.DataFrame(t2).to_html(table_path)"
   ]
  },
  {
   "cell_type": "markdown",
   "id": "ad63ff09-f5ee-49af-83f2-4a76a5fa03cc",
   "metadata": {},
   "source": [
    "### Varioagram for the target variable"
   ]
  },
  {
   "cell_type": "code",
   "execution_count": null,
   "id": "ece062af-81a8-4cef-a555-76a212ddef61",
   "metadata": {
    "tags": []
   },
   "outputs": [],
   "source": [
    "# Extract coordinates from the geometry column\n",
    "coordinates = [(point.x, point.y) for point in dhs.geometry]\n",
    "values = dhs[target_indicator].values\n",
    "\n",
    "# Create and plot the variogram\n",
    "variogram = Variogram(coordinates, values)\n",
    "variogram.plot()\n",
    "\n",
    "picture_path = os.path.join(report_folder, '4. Target Varioagram.pdf')\n",
    "plt.savefig(picture_path)\n",
    "plt.show()"
   ]
  },
  {
   "cell_type": "markdown",
   "id": "f7971bd3-bd96-479c-900b-2a867de331e8",
   "metadata": {},
   "source": [
    "Interpretation of the Variogram:\n",
    "\n",
    "A variogram describes the spatial continuity or spatial dependence of a variable. Interpretation:\n",
    "\n",
    "    X-axis (Lag Distance):\n",
    "        Represents the distance (lag) between pairs of points.\n",
    "        The distance is normalized in this plot, indicated by \"Lag (-)\".\n",
    "\n",
    "    Y-axis (Semivariance):\n",
    "        Represents the semivariance, which measures the dissimilarity between values as a function of the lag distance.\n",
    "        The semivariance typically increases with lag distance up to a certain point and then levels off.\n",
    "\n",
    "    Empirical Semivariance Points (Blue Circles):\n",
    "        Each blue circle represents the empirical semivariance for a specific lag distance.\n",
    "        Calculated from the data by averaging the squared differences between all pairs of values separated by that lag distance.\n",
    "\n",
    "    Fitted Variogram Model (Green Line):\n",
    "        A model is fitted to the empirical semivariance points.\n",
    "        The green line represents the theoretical variogram model that best fits the empirical data.\n",
    "\n",
    "    Histogram of Pair Counts (Red Bars):\n",
    "        The histogram at the top of the plot shows the number of point pairs used to calculate the semivariance at each lag distance.\n",
    "        Provides information on the sample size for each lag, with higher bars indicating more pairs."
   ]
  },
  {
   "cell_type": "markdown",
   "id": "69d01d8e-44f4-4c49-8fdb-0bdfb6eafa15",
   "metadata": {},
   "source": [
    "## Covariate Selection\n",
    "\n",
    "- We replace the original selection with a Lasso model.\n",
    "- \"The goal was also to identify some variables that were likely to have strong statistical relationships with background environmental factors\" (SAR 11) "
   ]
  },
  {
   "cell_type": "markdown",
   "id": "2025eeec-8167-41cf-b7d4-58cd9c79cd8a",
   "metadata": {},
   "source": [
    "### Generate Square and Square-Root Transforms of Covariates"
   ]
  },
  {
   "cell_type": "code",
   "execution_count": null,
   "id": "6375adb0-f0d7-4130-973d-f233ff9cbb52",
   "metadata": {
    "tags": []
   },
   "outputs": [],
   "source": [
    "#Two new versions of each of the original 17 covariates were generated: a square and square-root transform yielding 17×3 = 51 candidate covariates. \n",
    "# Is this necesary or is it enough to just use Lasso to filter out un necessary variables?"
   ]
  },
  {
   "cell_type": "code",
   "execution_count": null,
   "id": "ca683d36-4fcc-46b2-b8af-683543b36370",
   "metadata": {
    "tags": []
   },
   "outputs": [],
   "source": [
    "#Exclude non-covariate columns\n",
    "excluded =['geometry', target_indicator, 'grid_id']"
   ]
  },
  {
   "cell_type": "code",
   "execution_count": null,
   "id": "ed3d102a-8364-4ecc-a5f7-36a64722f2c3",
   "metadata": {
    "tags": []
   },
   "outputs": [],
   "source": [
    "gdf1 = gdf.copy(deep=True)"
   ]
  },
  {
   "cell_type": "code",
   "execution_count": null,
   "id": "882e2faf-cc66-475a-809d-f01369f36e9c",
   "metadata": {},
   "outputs": [],
   "source": [
    "gdf1.columns"
   ]
  },
  {
   "cell_type": "code",
   "execution_count": null,
   "id": "a8bbfbe9-3268-4c7b-bf54-9b1cbcdd20bf",
   "metadata": {
    "tags": []
   },
   "outputs": [],
   "source": [
    "# Drop the selected columns\n",
    "gdf1 = gdf1.drop(columns=['geometry', \n",
    "                          'grid_id', \n",
    "                          'point_count', \n",
    "                          'adm_level1', \n",
    "                          'adm_level2', \n",
    "                          'adm_level3', \n",
    "                          'cf_code'])"
   ]
  },
  {
   "cell_type": "code",
   "execution_count": null,
   "id": "2768f093-fecc-4277-b93f-7b03f0b14d86",
   "metadata": {
    "tags": []
   },
   "outputs": [],
   "source": [
    "# Generate square and square-root transforms\n",
    "squared_covariates = gdf1**2\n",
    "sqrt_covariates = np.sqrt(gdf1)\n",
    "\n",
    "# Combine all covariates into a single DataFrame\n",
    "gdf2 = pd.concat([gdf1, squared_covariates, sqrt_covariates], axis=1)\n",
    "gdf2.columns = [f'{col}_orig' for col in gdf1.columns] + \\\n",
    "                         [f'{col}_squared' for col in gdf1.columns] + \\\n",
    "                         [f'{col}_sqrt' for col in gdf1.columns]"
   ]
  },
  {
   "cell_type": "code",
   "execution_count": null,
   "id": "48cfa540-9670-4c36-a93d-5af103806467",
   "metadata": {
    "tags": []
   },
   "outputs": [],
   "source": [
    "#Drop the variables that generated missing values\n",
    "gdf2 = gdf2.dropna(axis=1, how='any')"
   ]
  },
  {
   "cell_type": "code",
   "execution_count": null,
   "id": "ca2f609e-bedf-4b58-b16e-463638cb1e39",
   "metadata": {
    "tags": []
   },
   "outputs": [],
   "source": [
    "report['Covariates after square and square-root transforms'] = gdf2.shape[1]"
   ]
  },
  {
   "cell_type": "markdown",
   "id": "d06a28d5-7663-43fa-bd30-211d9b681148",
   "metadata": {},
   "source": [
    "### Generate pair-wise interactions between covariates"
   ]
  },
  {
   "cell_type": "code",
   "execution_count": null,
   "id": "8a9ca709-13b0-48ec-9f02-66d620b473cd",
   "metadata": {
    "tags": []
   },
   "outputs": [],
   "source": [
    "from itertools import combinations"
   ]
  },
  {
   "cell_type": "code",
   "execution_count": null,
   "id": "9e5d1791-9ea5-467b-ae27-91318405e5df",
   "metadata": {
    "tags": []
   },
   "outputs": [],
   "source": [
    "# Generate all pair-wise interaction terms and collect them in a dictionary\n",
    "\n",
    "interaction_terms = {}\n",
    "for (col1, col2) in combinations(gdf2.columns, 2):\n",
    "    interaction_terms[f'{col1}_x_{col2}'] = gdf2[col1] * gdf2[col2]\n",
    "\n",
    "# Convert the dictionary to a DataFrame and concatenate with the original covariates\n",
    "interaction_terms_df = pd.DataFrame(interaction_terms)\n",
    "\n",
    "# Combine the covariates with the interaction terms\n",
    "gdf3 = pd.concat([gdf2, interaction_terms_df], axis=1)\n"
   ]
  },
  {
   "cell_type": "code",
   "execution_count": null,
   "id": "2ea302a7-ae94-4db8-99dc-46d6db674165",
   "metadata": {
    "tags": []
   },
   "outputs": [],
   "source": [
    "report['Covariates after pairwise interactions'] = gdf3.shape[1]"
   ]
  },
  {
   "cell_type": "code",
   "execution_count": null,
   "id": "da16017e-cb05-4773-80c6-8559fc25a909",
   "metadata": {
    "tags": []
   },
   "outputs": [],
   "source": [
    "#This avoids the pairwise interactions to reduce dimensionality\n",
    "gdf3 = gdf2.copy(deep=True)"
   ]
  },
  {
   "cell_type": "code",
   "execution_count": null,
   "id": "ba637c33-b42f-462d-85ea-a16baf80d75a",
   "metadata": {
    "tags": []
   },
   "outputs": [],
   "source": [
    "gdf3.shape"
   ]
  },
  {
   "cell_type": "markdown",
   "id": "86a5d4b8-ce7b-4288-af92-6ff651e999d9",
   "metadata": {},
   "source": [
    "### Covariates selection"
   ]
  },
  {
   "cell_type": "markdown",
   "id": "198bb4cb-f76a-4be1-8517-60e4443af374",
   "metadata": {},
   "source": [
    "### Lasso\n",
    "\n",
    "By using Lasso regression, we can directly perform feature selection and build the multivariate model in a single step, thus simplifying the process significantly:\n",
    "\n",
    "-   Fit Lasso model to select features and build the model (Steps 2, 4, and 5 combined)\n",
    "\n",
    "This approach leverages Lasso's ability to handle feature selection and regularization, saving time and computational effort while ensuring an interpretable and efficient model."
   ]
  },
  {
   "cell_type": "code",
   "execution_count": null,
   "id": "86946968-34c0-414c-9fd0-be66d28d4ab5",
   "metadata": {
    "tags": []
   },
   "outputs": [],
   "source": [
    "from sklearn.linear_model import LassoCV\n",
    "from sklearn.model_selection import train_test_split\n",
    "from sklearn.preprocessing import StandardScaler, PowerTransformer\n",
    "from sklearn.metrics import r2_score\n",
    "from scipy.stats import skew, kurtosis, boxcox"
   ]
  },
  {
   "cell_type": "code",
   "execution_count": null,
   "id": "47c36dc4-b45c-4a73-bff8-0ccb4e4a2f0b",
   "metadata": {
    "tags": []
   },
   "outputs": [],
   "source": [
    "gdf4 = gdf[[target_indicator]].merge(gdf3, left_index=True, right_index=True, how='left')"
   ]
  },
  {
   "cell_type": "code",
   "execution_count": null,
   "id": "0f532076-a310-46ab-a49e-b5f6d5fb7285",
   "metadata": {
    "tags": []
   },
   "outputs": [],
   "source": [
    "#Keep only the observations that have a valid MPI cluster observation\n",
    "gdf4 = gdf4[~gdf4[target_indicator].isnull()]"
   ]
  },
  {
   "cell_type": "code",
   "execution_count": null,
   "id": "cf36de4a-63ba-4bc6-8a01-8c3fd8c5051b",
   "metadata": {
    "tags": []
   },
   "outputs": [],
   "source": [
    "y = gdf4[[target_indicator]]"
   ]
  },
  {
   "cell_type": "code",
   "execution_count": null,
   "id": "ab9b42a9-96f8-4ba3-863f-b18bca224c29",
   "metadata": {},
   "outputs": [],
   "source": [
    "report['Target mean pre transform'] = y.values.mean()\n",
    "report['Target std pre transform'] = y.values.std()"
   ]
  },
  {
   "cell_type": "markdown",
   "id": "c76fae68-0b7f-4df2-9f20-f51fac505430",
   "metadata": {},
   "source": [
    "### Select the best transformation\n",
    "\n",
    "We use Skwedness and Kurtosis criteria to select the best techinque. Strategy for Selection:\n",
    "\n",
    "-   High Positive Skew: Apply log or square root transformation.\n",
    "-   High Negative Skew: Apply square transformation (squaring the data can sometimes help with negative skew).\n",
    "-   Moderate Skew: Apply Box-Cox or Yeo-Johnson transformation.\n",
    "-   Low Skew and Kurtosis: No transformation or minimal transformation."
   ]
  },
  {
   "cell_type": "code",
   "execution_count": null,
   "id": "2baeff71-111b-474e-ad8a-c80f0716bd30",
   "metadata": {
    "tags": []
   },
   "outputs": [],
   "source": [
    "# Select and apply the best transformation\n",
    "target_transformed, transform, lmda = functions.select_transformation(y)\n",
    "\n",
    "#Store important information for reversion\n",
    "\n",
    "report['Transformation Applied'] = transform #Transformation applied to target\n",
    "\n",
    "report['Lambda'] = lmda #Store lambda variable for some reversion processes"
   ]
  },
  {
   "cell_type": "code",
   "execution_count": null,
   "id": "437172f1-0b1c-45fc-b467-a9339d736522",
   "metadata": {
    "scrolled": true,
    "tags": []
   },
   "outputs": [],
   "source": [
    "picture_path = os.path.join(report_folder, '6. Target transformed.png')\n",
    "functions.plot_distribution_with_statistics(pd.Series(target_transformed[target_indicator]), picture_path)"
   ]
  },
  {
   "cell_type": "code",
   "execution_count": null,
   "id": "5df5e4ef-b96d-4167-b9d3-05c3545848b6",
   "metadata": {
    "tags": []
   },
   "outputs": [],
   "source": [
    "t3 = target_transformed.describe()"
   ]
  },
  {
   "cell_type": "code",
   "execution_count": null,
   "id": "524f3155-80ab-48e7-ae2d-5d2b3907a1a1",
   "metadata": {},
   "outputs": [],
   "source": [
    "t3 = pd.DataFrame(t3).reset_index()"
   ]
  },
  {
   "cell_type": "code",
   "execution_count": null,
   "id": "0a705d8b-d216-487e-9bcf-9f850b257424",
   "metadata": {},
   "outputs": [],
   "source": [
    "# Plot the DataFrame\n",
    "def df_to_pdf(df, file_path, title='.', show=False):\n",
    "    fig, ax = plt.subplots(figsize=(8, 4))  # Set the size of the figure\n",
    "    ax.axis('tight')\n",
    "    ax.axis('off')\n",
    "    table = ax.table(cellText=df.values, colLabels=df.columns, cellLoc='center', loc='center')\n",
    "    \n",
    "    # Save the plot as a PDF\n",
    "    plt.savefig(file_path)\n",
    "\n",
    "    if title!='.': \n",
    "        ax.set_title(title)\n",
    "\n",
    "    if show == True: \n",
    "        plt.show()"
   ]
  },
  {
   "cell_type": "code",
   "execution_count": null,
   "id": "5f2c556b-e520-455e-b31a-06e2a551b325",
   "metadata": {
    "tags": []
   },
   "outputs": [],
   "source": [
    "table_path = os.path.join(report_folder, '7. Target descriptive after transform.pdf')\n",
    "title = 'Target descriptive statistics after transform'\n",
    "df_to_pdf(t3.round(4), table_path, title=title,  show=True)"
   ]
  },
  {
   "cell_type": "markdown",
   "id": "6cc59c1d-a0bf-45ca-83ea-3a6cfe20bf8b",
   "metadata": {},
   "source": [
    "### Select covariates"
   ]
  },
  {
   "cell_type": "code",
   "execution_count": null,
   "id": "162e36b9-e8ca-4d83-b732-7b3e32d338d8",
   "metadata": {
    "tags": []
   },
   "outputs": [],
   "source": [
    "# Suppress all warnings\n",
    "import warnings\n",
    "warnings.filterwarnings('ignore')\n",
    "\n",
    "# Split data into training and testing sets\n",
    "X_train, X_test, y_train, y_test = train_test_split(gdf4.drop([target_indicator, ], axis=1), target_transformed, test_size=0.2, random_state=42)\n",
    "\n",
    "# Normalize the features\n",
    "scaler = StandardScaler()\n",
    "X_train_scaled = scaler.fit_transform(X_train)\n",
    "X_test_scaled = scaler.transform(X_test)\n",
    "\n",
    "# Normalize the target variable\n",
    "scaler_y = StandardScaler()\n",
    "y_train_scaled = scaler_y.fit_transform(y_train.values.reshape(-1, 1)).flatten()\n",
    "y_test_scaled = scaler_y.transform(y_test.values.reshape(-1, 1)).flatten()\n",
    "\n",
    "# Fit Lasso model with cross-validation to find the best alpha\n",
    "lasso = LassoCV(cv=5, random_state=42, max_iter=1000).fit(X_train_scaled, y_train_scaled)\n",
    "\n",
    "# Get the selected features (non-zero coefficients)\n",
    "selected_features = X_train.columns[(lasso.coef_ != 0)]"
   ]
  },
  {
   "cell_type": "code",
   "execution_count": null,
   "id": "e38f9802-d13c-4dd7-9201-7b05ca7835d1",
   "metadata": {
    "tags": []
   },
   "outputs": [],
   "source": [
    "print(f'{selected_features.shape[0]} variables were selected as covariates to pass on to the Bayesian model.')"
   ]
  },
  {
   "cell_type": "code",
   "execution_count": null,
   "id": "d27a3290-81c7-489d-82db-f01861c83fc9",
   "metadata": {
    "tags": []
   },
   "outputs": [],
   "source": [
    "report['Number of covariates selected after Lasso'] = selected_features.shape[0]"
   ]
  },
  {
   "cell_type": "code",
   "execution_count": null,
   "id": "a688329b-22e4-4e4d-9d08-3442409b8dd4",
   "metadata": {
    "tags": []
   },
   "outputs": [],
   "source": [
    "#Generate the final df with the mpi for export\n",
    "gdf4 = pd.concat([gdf[[target_indicator, 'geometry', 'grid_id']], gdf3[selected_features]], axis = 1)"
   ]
  },
  {
   "cell_type": "code",
   "execution_count": null,
   "id": "7d9e4240-6d44-488c-93aa-3adc2f1ecd9d",
   "metadata": {
    "tags": []
   },
   "outputs": [],
   "source": [
    "picture_path = os.path.join(report_folder,'8. Final database chart.png')"
   ]
  },
  {
   "cell_type": "code",
   "execution_count": null,
   "id": "a73b3a47-337e-44bb-9706-ae0bc71f14c6",
   "metadata": {
    "tags": []
   },
   "outputs": [],
   "source": [
    "functions.plot_missing_values_vertical(gdf4, picture_path)"
   ]
  },
  {
   "cell_type": "markdown",
   "id": "f9cb454e-79bd-4364-9061-ee5af48c10b3",
   "metadata": {},
   "source": [
    "### Save objects for MBG"
   ]
  },
  {
   "cell_type": "code",
   "execution_count": null,
   "id": "2f54b508-f4af-4fe1-9ef9-fe5469baef73",
   "metadata": {
    "tags": []
   },
   "outputs": [],
   "source": [
    "#Temporarily reduce dimensionality \n",
    "#gdf4 = gdf4.sample(2000)"
   ]
  },
  {
   "cell_type": "code",
   "execution_count": null,
   "id": "0e96d013-9b2f-4f02-8179-0a9f20ad4bc4",
   "metadata": {
    "tags": []
   },
   "outputs": [],
   "source": [
    "#Save the df with selected features and with target variable\n",
    "gdf4.to_pickle('temp_files/selected_features.pkl')"
   ]
  },
  {
   "cell_type": "code",
   "execution_count": null,
   "id": "8e3cf7a7-0699-4234-8233-1abb80401f89",
   "metadata": {
    "tags": []
   },
   "outputs": [],
   "source": [
    "t4 = pd.DataFrame(data={'Data':report.keys(), \n",
    "                  'Value': report.values()}, \n",
    "             columns=['Data','Value'])"
   ]
  },
  {
   "cell_type": "code",
   "execution_count": null,
   "id": "fbb27244-939b-40e2-8041-940963709b45",
   "metadata": {
    "tags": []
   },
   "outputs": [],
   "source": [
    "table_path = os.path.join(report_folder, '8. Covariates Report.pdf')\n",
    "title = 'Covariates Report'\n",
    "df_to_pdf(t4, table_path, title=title, show=True)"
   ]
  },
  {
   "cell_type": "code",
   "execution_count": null,
   "id": "a1f404f5-2505-476d-96fb-0a308f10effc",
   "metadata": {},
   "outputs": [],
   "source": [
    "#Save report as pickle\n",
    "with open('temp_files/report/report.pkl', 'wb') as pickle_file:\n",
    "    pickle.dump(report, pickle_file)"
   ]
  }
 ],
 "metadata": {
  "environment": {
   "kernel": "pymc_env",
   "name": "workbench-notebooks.m124",
   "type": "gcloud",
   "uri": "us-docker.pkg.dev/deeplearning-platform-release/gcr.io/workbench-notebooks:m124"
  },
  "kernelspec": {
   "display_name": "Python 3 (ipykernel)",
   "language": "python",
   "name": "python3"
  },
  "language_info": {
   "codemirror_mode": {
    "name": "ipython",
    "version": 3
   },
   "file_extension": ".py",
   "mimetype": "text/x-python",
   "name": "python",
   "nbconvert_exporter": "python",
   "pygments_lexer": "ipython3",
   "version": "3.12.5"
  }
 },
 "nbformat": 4,
 "nbformat_minor": 5
}
