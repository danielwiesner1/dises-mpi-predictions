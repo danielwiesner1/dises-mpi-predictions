{
 "cells": [
  {
   "cell_type": "markdown",
   "id": "5cd45f63-ad53-4e32-af22-e88dfb253cd8",
   "metadata": {},
   "source": [
    "### Download initial data"
   ]
  },
  {
   "cell_type": "code",
   "execution_count": 3,
   "id": "bb6bd6a9-7df7-43c3-8962-c768aca416c4",
   "metadata": {
    "tags": []
   },
   "outputs": [],
   "source": [
    "import os\n",
    "from google.oauth2 import service_account\n",
    "from googleapiclient.discovery import build\n",
    "from googleapiclient.http import MediaIoBaseDownload\n",
    "import io\n",
    "from tqdm import tqdm\n",
    "\n",
    "# Path to your service account file\n",
    "SERVICE_ACCOUNT_FILE = 'client_secrets.json'\n",
    "\n",
    "# Scopes for the Google Drive API\n",
    "SCOPES = ['https://www.googleapis.com/auth/drive']\n",
    "\n",
    "# Authenticate using the service account file\n",
    "credentials = service_account.Credentials.from_service_account_file(\n",
    "    SERVICE_ACCOUNT_FILE, scopes=SCOPES)\n",
    "\n",
    "# Build the service\n",
    "service = build('drive', 'v3', credentials=credentials)\n",
    "\n",
    "def download_file(file_id, file_name, output_dir):\n",
    "    request = service.files().get_media(fileId=file_id)\n",
    "    file_path = os.path.join(output_dir, file_name)\n",
    "    with open(file_path, 'wb') as fh:\n",
    "        downloader = MediaIoBaseDownload(fh, request)\n",
    "        done = False\n",
    "        while done is False:\n",
    "            status, done = downloader.next_chunk()\n",
    "            print(f\"Download {int(status.progress() * 100)}%.\")\n",
    "\n",
    "def download_folder(folder_id, output_dir):\n",
    "    # Create the output directory if it doesn't exist\n",
    "    if not os.path.exists(output_dir):\n",
    "        os.makedirs(output_dir)\n",
    "\n",
    "    # List all files in the folder\n",
    "    query = f\"'{folder_id}' in parents and trashed=false\"\n",
    "    results = service.files().list(q=query, fields=\"files(id, name, mimeType)\").execute()\n",
    "    items = results.get('files', [])\n",
    "\n",
    "    if not items:\n",
    "        print('No files found.')\n",
    "        return\n",
    "\n",
    "    # Loop through the items in the folder\n",
    "    for item in tqdm(items, desc=\"Downloading folder contents\"):\n",
    "        file_name = item['name']\n",
    "        file_id = item['id']\n",
    "        mime_type = item['mimeType']\n",
    "\n",
    "        # If the item is a folder, recursively download it\n",
    "        if mime_type == 'application/vnd.google-apps.folder':\n",
    "            download_folder(file_id, os.path.join(output_dir, file_name))\n",
    "        else:\n",
    "            download_file(file_id, file_name, output_dir)"
   ]
  },
  {
   "cell_type": "code",
   "execution_count": 4,
   "id": "1b41f1cf-605f-4962-a789-ba1be0bd24b0",
   "metadata": {
    "tags": []
   },
   "outputs": [
    {
     "name": "stderr",
     "output_type": "stream",
     "text": [
      "Downloading folder contents:   0%|          | 0/2 [00:00<?, ?it/s]\n",
      "Downloading folder contents:   0%|          | 0/4 [00:00<?, ?it/s]\u001b[A\n",
      "\n",
      "Downloading folder contents:   0%|          | 0/6 [00:00<?, ?it/s]\u001b[A\u001b[A\n",
      "\n",
      "Downloading folder contents:  17%|█▋        | 1/6 [00:04<00:22,  4.44s/it]\u001b[A\u001b[A"
     ]
    },
    {
     "name": "stdout",
     "output_type": "stream",
     "text": [
      "Download 100%.\n"
     ]
    },
    {
     "name": "stderr",
     "output_type": "stream",
     "text": [
      "\n",
      "\n",
      "Downloading folder contents:  33%|███▎      | 2/6 [00:08<00:15,  3.97s/it]\u001b[A\u001b[A"
     ]
    },
    {
     "name": "stdout",
     "output_type": "stream",
     "text": [
      "Download 100%.\n"
     ]
    },
    {
     "name": "stderr",
     "output_type": "stream",
     "text": [
      "\n",
      "\n",
      "Downloading folder contents:  50%|█████     | 3/6 [00:11<00:11,  3.73s/it]\u001b[A\u001b[A"
     ]
    },
    {
     "name": "stdout",
     "output_type": "stream",
     "text": [
      "Download 100%.\n"
     ]
    },
    {
     "name": "stderr",
     "output_type": "stream",
     "text": [
      "\n",
      "\n",
      "Downloading folder contents:  67%|██████▋   | 4/6 [00:14<00:07,  3.63s/it]\u001b[A\u001b[A"
     ]
    },
    {
     "name": "stdout",
     "output_type": "stream",
     "text": [
      "Download 100%.\n"
     ]
    },
    {
     "name": "stderr",
     "output_type": "stream",
     "text": [
      "\n",
      "\n",
      "Downloading folder contents:  83%|████████▎ | 5/6 [00:18<00:03,  3.59s/it]\u001b[A\u001b[A"
     ]
    },
    {
     "name": "stdout",
     "output_type": "stream",
     "text": [
      "Download 100%.\n"
     ]
    },
    {
     "name": "stderr",
     "output_type": "stream",
     "text": [
      "\n",
      "\n",
      "Downloading folder contents: 100%|██████████| 6/6 [00:22<00:00,  3.71s/it]\u001b[A\u001b[A\n",
      "\n",
      "Downloading folder contents:  25%|██▌       | 1/4 [00:22<01:07, 22.41s/it]\u001b[A"
     ]
    },
    {
     "name": "stdout",
     "output_type": "stream",
     "text": [
      "Download 100%.\n"
     ]
    },
    {
     "name": "stderr",
     "output_type": "stream",
     "text": [
      "\n",
      "\n",
      "Downloading folder contents:   0%|          | 0/5 [00:00<?, ?it/s]\u001b[A\u001b[A\n",
      "\n",
      "Downloading folder contents:  20%|██        | 1/5 [00:03<00:13,  3.37s/it]\u001b[A\u001b[A"
     ]
    },
    {
     "name": "stdout",
     "output_type": "stream",
     "text": [
      "Download 100%.\n"
     ]
    },
    {
     "name": "stderr",
     "output_type": "stream",
     "text": [
      "\n",
      "\n",
      "Downloading folder contents:  40%|████      | 2/5 [00:07<00:11,  3.92s/it]\u001b[A\u001b[A"
     ]
    },
    {
     "name": "stdout",
     "output_type": "stream",
     "text": [
      "Download 100%.\n"
     ]
    },
    {
     "name": "stderr",
     "output_type": "stream",
     "text": [
      "\n",
      "\n",
      "Downloading folder contents:  60%|██████    | 3/5 [00:11<00:07,  3.75s/it]\u001b[A\u001b[A"
     ]
    },
    {
     "name": "stdout",
     "output_type": "stream",
     "text": [
      "Download 100%.\n"
     ]
    },
    {
     "name": "stderr",
     "output_type": "stream",
     "text": [
      "\n",
      "\n",
      "Downloading folder contents:  80%|████████  | 4/5 [00:19<00:05,  5.36s/it]\u001b[A\u001b[A"
     ]
    },
    {
     "name": "stdout",
     "output_type": "stream",
     "text": [
      "Download 100%.\n"
     ]
    },
    {
     "name": "stderr",
     "output_type": "stream",
     "text": [
      "\n",
      "\n",
      "Downloading folder contents: 100%|██████████| 5/5 [00:23<00:00,  4.60s/it]\u001b[A\u001b[A\n",
      "\n",
      "Downloading folder contents:  50%|█████     | 2/4 [00:45<00:45, 22.84s/it]\u001b[A"
     ]
    },
    {
     "name": "stdout",
     "output_type": "stream",
     "text": [
      "Download 100%.\n"
     ]
    },
    {
     "name": "stderr",
     "output_type": "stream",
     "text": [
      "\n",
      "\n",
      "Downloading folder contents:   0%|          | 0/1 [00:00<?, ?it/s]\u001b[A\u001b[A\n",
      "\n",
      "\n",
      "Downloading folder contents:   0%|          | 0/5 [00:00<?, ?it/s]\u001b[A\u001b[A\u001b[A\n",
      "\n",
      "\n",
      "Downloading folder contents:  20%|██        | 1/5 [00:03<00:14,  3.70s/it]\u001b[A\u001b[A\u001b[A"
     ]
    },
    {
     "name": "stdout",
     "output_type": "stream",
     "text": [
      "Download 100%.\n"
     ]
    },
    {
     "name": "stderr",
     "output_type": "stream",
     "text": [
      "\n",
      "\n",
      "\n",
      "Downloading folder contents:  40%|████      | 2/5 [00:08<00:12,  4.15s/it]\u001b[A\u001b[A\u001b[A"
     ]
    },
    {
     "name": "stdout",
     "output_type": "stream",
     "text": [
      "Download 100%.\n"
     ]
    },
    {
     "name": "stderr",
     "output_type": "stream",
     "text": [
      "\n",
      "\n",
      "\n",
      "Downloading folder contents:  60%|██████    | 3/5 [00:12<00:08,  4.13s/it]\u001b[A\u001b[A\u001b[A"
     ]
    },
    {
     "name": "stdout",
     "output_type": "stream",
     "text": [
      "Download 100%.\n"
     ]
    },
    {
     "name": "stderr",
     "output_type": "stream",
     "text": [
      "\n",
      "\n",
      "\n",
      "Downloading folder contents:  80%|████████  | 4/5 [00:15<00:03,  3.83s/it]\u001b[A\u001b[A\u001b[A"
     ]
    },
    {
     "name": "stdout",
     "output_type": "stream",
     "text": [
      "Download 100%.\n"
     ]
    },
    {
     "name": "stderr",
     "output_type": "stream",
     "text": [
      "\n",
      "\n",
      "\n",
      "Downloading folder contents: 100%|██████████| 5/5 [00:19<00:00,  3.89s/it]\u001b[A\u001b[A\u001b[A\n",
      "\n",
      "\n",
      "Downloading folder contents: 100%|██████████| 1/1 [00:19<00:00, 19.61s/it]\u001b[A\u001b[A\n",
      "\n",
      "Downloading folder contents:  75%|███████▌  | 3/4 [01:05<00:21, 21.43s/it]\u001b[A"
     ]
    },
    {
     "name": "stdout",
     "output_type": "stream",
     "text": [
      "Download 100%.\n"
     ]
    },
    {
     "name": "stderr",
     "output_type": "stream",
     "text": [
      "\n",
      "\n",
      "Downloading folder contents:   0%|          | 0/3 [00:00<?, ?it/s]\u001b[A\u001b[A\n",
      "\n",
      "Downloading folder contents:  33%|███▎      | 1/3 [00:04<00:09,  4.52s/it]\u001b[A\u001b[A"
     ]
    },
    {
     "name": "stdout",
     "output_type": "stream",
     "text": [
      "Download 100%.\n"
     ]
    },
    {
     "name": "stderr",
     "output_type": "stream",
     "text": [
      "\n",
      "\n",
      "Downloading folder contents:  67%|██████▋   | 2/3 [00:09<00:04,  4.63s/it]\u001b[A\u001b[A"
     ]
    },
    {
     "name": "stdout",
     "output_type": "stream",
     "text": [
      "Download 100%.\n"
     ]
    },
    {
     "name": "stderr",
     "output_type": "stream",
     "text": [
      "\n",
      "\n",
      "Downloading folder contents: 100%|██████████| 3/3 [00:14<00:00,  4.78s/it]\u001b[A\u001b[A\n",
      "\n",
      "Downloading folder contents: 100%|██████████| 4/4 [01:19<00:00, 19.95s/it]\u001b[A\n",
      "Downloading folder contents:  50%|█████     | 1/2 [01:19<01:19, 79.92s/it]"
     ]
    },
    {
     "name": "stdout",
     "output_type": "stream",
     "text": [
      "Download 100%.\n"
     ]
    },
    {
     "name": "stderr",
     "output_type": "stream",
     "text": [
      "\n",
      "Downloading folder contents:   0%|          | 0/1 [00:00<?, ?it/s]\u001b[A\n",
      "\n",
      "Downloading folder contents:   0%|          | 0/4 [00:00<?, ?it/s]\u001b[A\u001b[A\n",
      "\n",
      "Downloading folder contents:  25%|██▌       | 1/4 [00:04<00:14,  4.70s/it]\u001b[A\u001b[A"
     ]
    },
    {
     "name": "stdout",
     "output_type": "stream",
     "text": [
      "Download 100%.\n"
     ]
    },
    {
     "name": "stderr",
     "output_type": "stream",
     "text": [
      "\n",
      "\n",
      "Downloading folder contents:  50%|█████     | 2/4 [00:12<00:13,  6.77s/it]\u001b[A\u001b[A"
     ]
    },
    {
     "name": "stdout",
     "output_type": "stream",
     "text": [
      "Download 100%.\n"
     ]
    },
    {
     "name": "stderr",
     "output_type": "stream",
     "text": [
      "\n",
      "\n",
      "Downloading folder contents:  75%|███████▌  | 3/4 [00:16<00:05,  5.48s/it]\u001b[A\u001b[A"
     ]
    },
    {
     "name": "stdout",
     "output_type": "stream",
     "text": [
      "Download 100%.\n"
     ]
    },
    {
     "name": "stderr",
     "output_type": "stream",
     "text": [
      "\n",
      "\n",
      "Downloading folder contents: 100%|██████████| 4/4 [00:22<00:00,  5.57s/it]\u001b[A\u001b[A\n",
      "\n",
      "Downloading folder contents: 100%|██████████| 1/1 [00:22<00:00, 22.43s/it]\u001b[A\n",
      "Downloading folder contents: 100%|██████████| 2/2 [01:42<00:00, 51.25s/it]"
     ]
    },
    {
     "name": "stdout",
     "output_type": "stream",
     "text": [
      "Download 100%.\n"
     ]
    },
    {
     "name": "stderr",
     "output_type": "stream",
     "text": [
      "\n"
     ]
    }
   ],
   "source": [
    "# Set the folder ID and output directory\n",
    "folder_id = '1v0UcmutNb9geRvzaftmATqRx06VmI-jj'\n",
    "output_dir = 'data'\n",
    "\n",
    "# Download the folder\n",
    "download_folder(folder_id, output_dir)"
   ]
  }
 ],
 "metadata": {
  "environment": {
   "kernel": "pymc_env",
   "name": "workbench-notebooks.m124",
   "type": "gcloud",
   "uri": "us-docker.pkg.dev/deeplearning-platform-release/gcr.io/workbench-notebooks:m124"
  },
  "kernelspec": {
   "display_name": "pymc_env",
   "language": "python",
   "name": "pymc_env"
  },
  "language_info": {
   "codemirror_mode": {
    "name": "ipython",
    "version": 3
   },
   "file_extension": ".py",
   "mimetype": "text/x-python",
   "name": "python",
   "nbconvert_exporter": "python",
   "pygments_lexer": "ipython3",
   "version": "3.12.5"
  }
 },
 "nbformat": 4,
 "nbformat_minor": 5
}
